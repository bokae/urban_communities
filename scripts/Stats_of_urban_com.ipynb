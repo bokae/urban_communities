{
 "cells": [
  {
   "cell_type": "code",
   "execution_count": 107,
   "metadata": {},
   "outputs": [],
   "source": [
    "# tisztitott verzio behivasa!!!!! tract_df-ről census leszedni és tisztitottat rámergelni!!!"
   ]
  },
  {
   "cell_type": "code",
   "execution_count": 1,
   "metadata": {},
   "outputs": [
    {
     "name": "stdout",
     "output_type": "stream",
     "text": [
      "Populating the interactive namespace from numpy and matplotlib\n"
     ]
    },
    {
     "name": "stderr",
     "output_type": "stream",
     "text": [
      "/home/ubuntu/anaconda3/lib/python3.7/site-packages/IPython/core/magics/pylab.py:160: UserWarning: pylab import has clobbered these variables: ['product', 'time']\n",
      "`%matplotlib` prevents importing * from pylab and numpy\n",
      "  \"\\n`%matplotlib` prevents importing * from pylab and numpy\"\n"
     ]
    }
   ],
   "source": [
    "import pandas as pd\n",
    "import numpy as np\n",
    "import matplotlib.pyplot as plt\n",
    "# TODO B delete some of these\n",
    "\n",
    "\n",
    "\n",
    "import geopandas as gpd\n",
    "import seaborn as sns\n",
    "import networkx as nx\n",
    "\n",
    "import scipy\n",
    "import csv\n",
    "\n",
    "import matplotlib.cm as cm\n",
    "\n",
    "import json\n",
    "import community as community_louvain\n",
    "from copy import deepcopy\n",
    "# from modularity_maximization.utils import get_modularity\n",
    "\n",
    "from itertools import product\n",
    "import networkx.algorithms.community as nx_comm\n",
    "from scipy.spatial.distance import pdist, squareform\n",
    "\n",
    "from shapely.geometry import Point, LineString\n",
    "from geopandas import GeoDataFrame\n",
    "\n",
    "import math\n",
    "from time import time\n",
    "\n",
    "import matplotlib.lines as lines\n",
    "\n",
    "## %matplotlib inline\n",
    "%pylab inline\n",
    "# KERDES"
   ]
  },
  {
   "cell_type": "markdown",
   "metadata": {},
   "source": [
    "# Data"
   ]
  },
  {
   "cell_type": "code",
   "execution_count": 2,
   "metadata": {},
   "outputs": [
    {
     "name": "stderr",
     "output_type": "stream",
     "text": [
      "/home/ubuntu/anaconda3/lib/python3.7/site-packages/pyproj/crs/crs.py:53: FutureWarning: '+init=<authority>:<code>' syntax is deprecated. '<authority>:<code>' is the preferred initialization method. When making the change, be mindful of axis order changes: https://pyproj4.github.io/pyproj/stable/gotchas.html#axis-order-changes-in-proj-6\n",
      "  return _prepare_from_string(\" \".join(pjargs))\n"
     ]
    }
   ],
   "source": [
    "# census data IN\n",
    "#census = pd.read_csv(\"../data/censusdata_top50_2012.csv\")\n",
    "#census_2 = pd.read_csv(\"../data/censusdata_top50_2017.csv\")\n",
    "\n",
    "# three networks - data IN\n",
    "mobility = pd.read_csv(\"../data/usageousers_city_mobility_CT_networks.rpt.gz\") ## basis of position and node importance calculations\n",
    "follow_hh = pd.read_csv(\"../data/usageousers_city_follower_CT_HH_networks.rpt.gz\")\n",
    "follow_hh = follow_hh.rename(columns={\"tract_home.1\": \"tract_home_1\"})\n",
    "\n",
    "# census tract name -> cbsacode\n",
    "cbsacode = pd.read_csv(\"../data/cbsacode_shortname_tracts.csv\",sep=\";\", index_col=0)\n",
    "cbsacode['clean_name'] = cbsacode[\"short_name\"].map(lambda s: s.split(\"/\")[0].replace(' ','_').replace('.','').lower())\n",
    "\n",
    "tract_df = pd.read_csv('../data/network_properties.csv')\n",
    "\n",
    "# reading geojson data, converting it to geopandas dataframe\n",
    "tract_geoms = gpd.GeoDataFrame.from_features(\n",
    "    [json.loads(e.strip('\\n')) for e in open('../data/censustract_geoms_top50.geojson').readlines()]\n",
    ")\n",
    "\n",
    "# Cartesian coordinate projection of tract centroids\n",
    "tract_geoms['centroid'] = tract_geoms['geometry'].centroid\n",
    "tract_center_dict = tract_geoms\\\n",
    "    .set_geometry('centroid',crs={'init':'epsg:4326'})\\\n",
    "    .to_crs({'init':'epsg:3785'})\\\n",
    "    .set_index('full_geoid')['centroid'].map(lambda p: p.coords[0]).to_dict()"
   ]
  },
  {
   "cell_type": "code",
   "execution_count": 3,
   "metadata": {},
   "outputs": [],
   "source": [
    "city_l = list(cbsacode['clean_name'].unique())"
   ]
  },
  {
   "cell_type": "code",
   "execution_count": 4,
   "metadata": {},
   "outputs": [
    {
     "data": {
      "text/plain": [
       "27"
      ]
     },
     "execution_count": 4,
     "metadata": {},
     "output_type": "execute_result"
    }
   ],
   "source": [
    "# HIBAS AZ ADATBAZIS --> vannak benne duplikátumok\n",
    "algorithm_type = 'ms'\n",
    "g_type = 'mob'\n",
    "len(list(tract_df[(tract_df['algorithm_type'] == algorithm_type) & (tract_df['g_type'] == g_type)]['geoid'])) - len(set(tract_df[(tract_df['algorithm_type'] == algorithm_type) & (tract_df['g_type'] == g_type)]['geoid']))"
   ]
  },
  {
   "cell_type": "code",
   "execution_count": null,
   "metadata": {},
   "outputs": [],
   "source": []
  },
  {
   "cell_type": "raw",
   "metadata": {},
   "source": [
    "# create tract geoids\n",
    "def create_geoid(row):\n",
    "    state = str(int(row[\"state\"])).zfill(2)\n",
    "    county = str(int(row[\"county\"])).zfill(3)\n",
    "    tract = str(int(row[\"tract\"])).zfill(6)\n",
    "    return \"14000US\" +state+county+tract\n",
    "\n",
    "census['geoid'] = census.apply(create_geoid,axis=1)\n",
    "census_2['geoid'] = census_2.apply(create_geoid,axis=1)"
   ]
  },
  {
   "cell_type": "code",
   "execution_count": 6,
   "metadata": {},
   "outputs": [],
   "source": [
    "# calculate proportions - mean tract population is not the same among communities\n",
    "\n",
    "# for 2012\n",
    "tract_df['educ_bach_p_1'] = tract_df['education_bachelor_1']/tract_df['population_1']\n",
    "tract_df['educ_total_p_1'] = tract_df['education_total_1']/tract_df['population_1']\n",
    "tract_df['white_p_1'] = tract_df['white_1']/tract_df['population_1']\n",
    "tract_df['black_p_1'] = tract_df['black_1']/tract_df['population_1']\n",
    "tract_df['native_p_1'] = tract_df['native_1']/tract_df['population_1']\n",
    "tract_df['asian_p_1'] = tract_df['asian_1']/tract_df['population_1']\n",
    "\n",
    "# for 2017\n",
    "tract_df['educ_bach_p_2'] = tract_df['education_bachelor_2']/tract_df['population_2']\n",
    "tract_df['educ_total_p_2'] = tract_df['education_total_2']/tract_df['population_2']\n",
    "tract_df['white_p_2'] = tract_df['white_2']/tract_df['population_2']\n",
    "tract_df['black_p_2'] = tract_df['black_2']/tract_df['population_2']\n",
    "tract_df['native_p_2'] = tract_df['native_2']/tract_df['population_2']\n",
    "tract_df['asian_p_2'] = tract_df['asian_2']/tract_df['population_2']"
   ]
  },
  {
   "cell_type": "code",
   "execution_count": 7,
   "metadata": {},
   "outputs": [],
   "source": [
    "network_df = deepcopy(tract_df.groupby(['city','g_type'])['educ_bach_p_1','white_p_1','black_p_1','native_p_1','asian_p_1', 'income_1', \n",
    "                                                          'educ_bach_p_2','white_p_2','black_p_2','native_p_2','asian_p_2', 'income_2'].mean().reset_index())\n",
    "\n",
    "# every tract is counted twice - once for each algorithm_type\n",
    "network_df = network_df.rename(columns = {'educ_bach_p_1' : 'educ_bach_p_avg_1','white_p_1' : 'white_p_avg_1', 'black_p_1' : 'black_p_avg_1', 'native_p_1' : 'native_p_avg_1', 'asian_p_1' : 'asian_p_avg_1', 'income_1' : 'income_avg_1',\n",
    "                                          'educ_bach_p_2' : 'educ_bach_p_avg_2','white_p_2' : 'white_p_avg_2', 'black_p_2' : 'black_p_avg_2', 'native_p_2' : 'native_p_avg_2', 'asian_p_2' : 'asian_p_avg_2', 'income_2' : 'income_avg_2'})"
   ]
  },
  {
   "cell_type": "code",
   "execution_count": 8,
   "metadata": {},
   "outputs": [],
   "source": [
    "tract_df = pd.merge(tract_df, network_df, how = 'left', on = ['city', 'g_type'])"
   ]
  },
  {
   "cell_type": "code",
   "execution_count": 9,
   "metadata": {},
   "outputs": [],
   "source": [
    "tract_df['educ_bach_p_diff_1'] = tract_df['educ_bach_p_1'] - tract_df['educ_bach_p_avg_1']\n",
    "tract_df['white_p_diff_1'] = tract_df['white_p_1'] - tract_df['white_p_avg_1']\n",
    "tract_df['black_p_diff_1'] = tract_df['black_p_1'] - tract_df['black_p_avg_1']\n",
    "tract_df['native_p_diff_1'] = tract_df['native_p_1'] - tract_df['native_p_avg_1']\n",
    "tract_df['asian_p_diff_1'] = tract_df['asian_p_1'] - tract_df['asian_p_avg_1']\n",
    "tract_df['income_diff_1'] = tract_df['income_1'] - tract_df['income_avg_1']"
   ]
  },
  {
   "cell_type": "markdown",
   "metadata": {},
   "source": [
    "# Communities contribution to modularity"
   ]
  },
  {
   "cell_type": "code",
   "execution_count": 13,
   "metadata": {},
   "outputs": [],
   "source": [
    "# copied from Spatial_modularity_pooled notebook\n",
    "def create_graphs(city, g_type):\n",
    "    \"\"\"\n",
    "    For a given city name, it generates a mobility and follower (home-home) graph.\n",
    "    \n",
    "    e.g. g_mob, g_fol_hh = create_graphs(\"Boston\")\n",
    "    \n",
    "    It uses the previously loaded `mobility` and `follow_hh` pandas.DataFrames, in which\n",
    "    the edges are listed for every city.\n",
    "    \n",
    "    Parameters:\n",
    "    -----------\n",
    "    city : str\n",
    "        name of the city, see cbsacode dataframe -> clean_name\n",
    "        \n",
    "    g_type : str\n",
    "        either \"mob\" as mobility or \"fol_hh\" as follow_hh \n",
    "        selects the type of graph to return\n",
    "        \n",
    "    Returns:\n",
    "    --------\n",
    "    \n",
    "    g : networkx.Graph\n",
    "        weighted undirected graph based on city name and g_type (e.g. follow_hh graph of Boston)\n",
    "        \n",
    "    \"\"\"\n",
    "    # city cbsacode based on name\n",
    "    city_code = cbsacode[cbsacode.clean_name == city].iloc[0].cbsacode\n",
    "    \n",
    "    # select graph type\n",
    "    if g_type == \"mob\":\n",
    "        # filtering large dataframes for the given city code\n",
    "        mob_df = deepcopy(mobility[(mobility[\"cbsacode\"] == city_code)&(mobility[\"tract_home\"]!=mobility[\"tract_work\"])])\n",
    "\n",
    "        # create graphs\n",
    "        # create empty graphs\n",
    "        g_mob = nx.DiGraph() # mobility graph - weights are counts\n",
    "\n",
    "        # fill in the networks with data\n",
    "        mob_df['w_edges'] = list(zip(mob_df.tract_home,mob_df.tract_work,mob_df.cnt))\n",
    "        g_mob.add_weighted_edges_from(mob_df[\"w_edges\"], weight='cnt')\n",
    "\n",
    "        # ineffective and slow!\n",
    "        for e in g_mob.edges():\n",
    "            r = (e[1],e[0])\n",
    "\n",
    "            if r in g_mob.edges():\n",
    "                c1 = g_mob.edges[e]['cnt']\n",
    "                c2 = g_mob.edges[r]['cnt']\n",
    "\n",
    "                g_mob.edges[e]['cnt'] = c1 + c2\n",
    "                g_mob.edges[r]['cnt'] = c1 + c2\n",
    "\n",
    "        # then let's convert the mobility graph to udirected\n",
    "        g_mob = g_mob.to_undirected()\n",
    "\n",
    "        g = g_mob\n",
    "        \n",
    "    elif g_type == \"fol_hh\":            \n",
    "        # filtering large dataframes for the given city code\n",
    "        fol_hh_df = deepcopy(follow_hh[(follow_hh[\"cbsacode\"] == city_code)&(follow_hh[\"tract_home\"]!=follow_hh[\"tract_home_1\"])])\n",
    "\n",
    "        # create graphs\n",
    "        # create empty graphs\n",
    "        g_fol_hh = nx.Graph() # follow home-home graph - weights are counts\n",
    "\n",
    "        # this is an undirected graph already in the dataframe\n",
    "        fol_hh_df['w_edges'] = list(zip(fol_hh_df.tract_home,fol_hh_df.tract_home_1,fol_hh_df.cnt))\n",
    "        g_fol_hh.add_weighted_edges_from(fol_hh_df[\"w_edges\"], weight='cnt')\n",
    "        \n",
    "        g = g_fol_hh\n",
    "        \n",
    "    # TODO --> DONE\n",
    "    # check data - if all nodes of the graph are in the tract_geom dataframe\n",
    "    # e.g. in create_graphs()\n",
    "    # if someone's not there, that is data error, print the tract_id, and leave the node out of the graph G\n",
    "    # only after this should we calculate the Expert input data    \n",
    "    while not set(g.nodes).issubset(set(tract_geoms.full_geoid)): # KERDES: ezt hogyan ellenőrizzem le?\n",
    "        print('DATA ERROR. Node do(es) not have corresponding geodata, so dropped.')\n",
    "        print('Dropped node(s):')\n",
    "        ####nodes_to_drop = set(g.nodes).difference(set(tract_geoms.full_geoid))\n",
    "        ####g.remove_nodes_from(nodes_to_drop)\n",
    "    return g"
   ]
  },
  {
   "cell_type": "code",
   "execution_count": 14,
   "metadata": {},
   "outputs": [],
   "source": [
    "# copied from Spatial_modularity_pooled notebook\n",
    "def SpaMod(A,D,N,binnumber): # binnumber instead of b = binsize\n",
    "    \"\"\"\n",
    "    Function that calculates the matrix for the clustering \n",
    "    based on spatial null model a la Expert.\n",
    "    \n",
    "    Parameters:\n",
    "    -----------\n",
    "    \n",
    "    A : scipy.sparse.csr.csr_matrix\n",
    "        adjacency matrix\n",
    "    D : numpy.ndarray\n",
    "        Distance matrix between the nodes\n",
    "    N : numpy.matrix\n",
    "        a measure of the importance of a node\n",
    "        the number of users living(home-location) in the given tract\n",
    "    binnumber : int\n",
    "        number of distance bins (used in the estimation of the deterrence function)\n",
    "    Returns:\n",
    "    --------\n",
    "    \n",
    "    KERDES - ellenorizni\n",
    "    ModularitySpa : \n",
    "    ModularityGN :\n",
    "    \"\"\"\n",
    "    \n",
    "    #tic = time()\n",
    "    \n",
    "    #print(\"Beginning of modularity function...\");   \n",
    "    # felesleges?? KERDES -- symmetrised matrix (doesn't change the outcome of community detection (arXiv:0812.1770))\n",
    "    A = A + A.T ### KERDES KELL-e?? TODO ATGONDOLNI? ILLETVE LE KELL-e osztani 2-vel   / 2     \n",
    "    b = D.max()/(binnumber-1) # MODIFIED\n",
    "    \n",
    "    # deterrence function\n",
    "    det, detbins = np.histogram(\n",
    "        D.flatten(),\n",
    "        range = (0, np.ceil(D.max()/b)*b), # JAVITAS\n",
    "        weights = np.array(A.todense()).flatten(), \n",
    "        bins=int(np.ceil(D.max()/b))\n",
    "    )\n",
    "    normadet, _ = np.histogram(\n",
    "        D.flatten(), \n",
    "        range = (0, np.ceil(D.max()/b)*b),\n",
    "        weights = np.array(N*N.T).flatten(), \n",
    "        bins=int(np.ceil(D.max()/b))\n",
    "    )\n",
    "    det = det / normadet\n",
    "    det[np.isnan(det)] = 0\n",
    "    \n",
    "    #toc = time()\n",
    "    #print(\"Done.\",\"%.2f\" % (toc-tic))\n",
    "    \n",
    "    #tic = toc\n",
    "    \n",
    "    #print(\"Null modell...\")\n",
    "    \n",
    "    # copmutation of the randomised correlations (preserving space), spatial\n",
    "    # null-model\n",
    "    nullmodelSpa = det[np.digitize(D,detbins,right=True)-1]\n",
    "    \n",
    "    #toc = time()\n",
    "    #print(\"Done.\",\"%.2f\" % (toc-tic))\n",
    "    \n",
    "    #tic = toc\n",
    "    \n",
    "    #print(\"Modularity calc...\")\n",
    "    \n",
    "    # the modularity matrix for the spatial null-model\n",
    "    ModularitySpa=A-np.multiply(N*N.T, nullmodelSpa*A.sum())/(np.multiply(N*N.T,nullmodelSpa).sum())\n",
    "    szamlalo = np.multiply(N*N.T, nullmodelSpa*A.sum())\n",
    "    nevezo = np.multiply(N*N.T,nullmodelSpa).sum()\n",
    "    \n",
    "    # the modularity matrix for the GN null-model\n",
    "    degree = degree = A.sum(axis=0) # JAVITVA np.squeeze(np.asarray(A.sum(axis=0))) # degree or strength of nodes || asarry for further usage\n",
    "    nullmodelGN = degree.T*degree/degree.sum() # Newman-Girvan null-model\n",
    "    ModularityGN = A - nullmodelGN\n",
    "    \n",
    "    #toc = time()\n",
    "    #print(\"Done.\",\"%.2f\" % (toc-tic))\n",
    "    \n",
    "    return ModularitySpa, ModularityGN # KERDES UTOLAG: EZ AZT ADJA MEG, HOGY ADOTT KÉT CSÚCS KÖZÖTT MENNYIVEL TÖBB ÉL VAN A VÁRTNÁL??\n",
    "# KERDES FOLYT.: EGY KLASZTEREZÉS MODULARITÁSÁT ÚGY KAPOM MEG EBBŐL, HOGY ÖSSZEADOM AZON ELEMEIT, AMIK MINDKÉT CSÚCSA UGYANAHHOZ A COMMUNITYHEZ TARTOZIK, MAJD EOLSZTOM 2M-MEL (2*m = 2-szer total weight of the network = 2*szum(A)/2 = szum(A)"
   ]
  },
  {
   "cell_type": "raw",
   "metadata": {},
   "source": [
    "for elem in enumerate([\"alma\",\"korte\"]):\n",
    "    print(elem)"
   ]
  },
  {
   "cell_type": "code",
   "execution_count": 15,
   "metadata": {},
   "outputs": [],
   "source": [
    "def community_modularity(city, g_type):\n",
    "    \"\"\"\n",
    "    Calculates how much a certain community contributes to the overall modularity.\n",
    "    \n",
    "    Uses the create_function and SpaMod functions.\n",
    "    \n",
    "    Parameters:\n",
    "    -----------\n",
    "    city : str\n",
    "        as in cbsacode.clean_name ex: 'salt_lake_city'\n",
    "    \n",
    "    g_type : str\n",
    "        'mob' or 'fol_hh' as mobility (commuting) or follower home-home (social ties)\n",
    "        \n",
    "    Returns:\n",
    "    ---------\n",
    "    \n",
    "    pandas.DataFrame with measure of how much a given community contributed to the overall modularity of the given network's\n",
    "    partitioning with for the two algorithms.\n",
    "\n",
    "    \"\"\"\n",
    "    \n",
    "    G = create_graphs(city, g_type) # corresponding weighted undirected graph\n",
    "    \n",
    "    # Dataprep for Expert algorithm\n",
    "    A = nx.adjacency_matrix(G)\n",
    "    coords = np.array([tract_center_dict[n] for n in G.nodes()])\n",
    "    d = pdist(coords)\n",
    "    D = squareform(pdist(coords))\n",
    "    tract_outdeg_mob = mobility.groupby('tract_home')[['cnt']].sum()\n",
    "    N = np.matrix([tract_outdeg_mob.loc[k].iloc[0] for k in G.nodes()]).T\n",
    "\n",
    "    Ms,Mgn = SpaMod(A,D,N,200)\n",
    "    \n",
    "    \n",
    "    mod_df = pd.DataFrame(columns=['city', 'algorithm_type', 'g_type', 'S', 'modularity_S'])\n",
    "    \n",
    "    for (modularity, algorithm_type) in [(Ms, 'ms'), (Mgn, 'mgn')]:\n",
    "        S_notsorted = deepcopy(tract_df[(tract_df['city'] == city) & (tract_df['algorithm_type'] == algorithm_type) & (tract_df['g_type'] == g_type)].set_index('geoid')['S_cons']) # KERDES Mikor kell deepcopy?\n",
    "        S = [S_notsorted.loc[k] for k in G.nodes()] # KERDES: kell ez?\n",
    "    \n",
    "        for s in set(S):\n",
    "            com_vector = (np.array(S) == s).astype('int')\n",
    "            # clusters to matrix format\n",
    "            # matrix for each cluster (in which 1s are for node pairs which are in the given community all others are 0s)\n",
    "            # same community matrix (stored as array) - 0 if either of the nodes is not in community, 1 if both are in community\n",
    "            same_com = numpy.outer(com_vector, com_vector)\n",
    "      \n",
    "            # add up how much more edges are present between community nodes then expected by nullmodel in the given community\n",
    "            mod = (np.multiply(np.array(modularity), same_com).sum()) / (2 * A.sum())\n",
    "            \n",
    "            mod_df = mod_df.append({'city': city, 'algorithm_type' : algorithm_type, 'g_type' : g_type, 'S' : s, 'modularity_S' : mod}, ignore_index=True)\n",
    "    \n",
    "    return mod_df"
   ]
  },
  {
   "cell_type": "code",
   "execution_count": null,
   "metadata": {},
   "outputs": [],
   "source": [
    "# KERDES Ezekre miert nem mukodik?\n",
    "city_l.remove('providence')\n",
    "city_l.remove('san_jose')\n",
    "city_l.remove('austin')\n",
    "city_l.remove('san_francisco')\n",
    "city_l.remove('washington')\n",
    "city_l.remove('san_antonio')\n",
    "city_l.remove('riverside')\n",
    "city_l.remove('boston')\n",
    "city_l.remove('baltimore')\n",
    "city_l.remove('san_diego')\n",
    "city_l.remove('los_angeles')"
   ]
  },
  {
   "cell_type": "code",
   "execution_count": 17,
   "metadata": {},
   "outputs": [],
   "source": [
    "from itertools import product  # KERDES: ezt miert kell követlenül a használt cella előtt importálni??? -- egyébként nem működött"
   ]
  },
  {
   "cell_type": "code",
   "execution_count": 18,
   "metadata": {},
   "outputs": [],
   "source": [
    "# create an overall dataframe from how much a community adds to overall modularity\n",
    "graph_combs = product(city_l, ['mob','fol_hh'])"
   ]
  },
  {
   "cell_type": "markdown",
   "metadata": {},
   "source": [
    "com_mod_df = pd.DataFrame()\n",
    "\n",
    "for city, g_type in graph_combs:\n",
    "    print(city)\n",
    "    print(g_type)\n",
    "    df = community_modularity(city, g_type)\n",
    "    \n",
    "    com_mod_df = pd.concat([com_mod_df, df])"
   ]
  },
  {
   "cell_type": "code",
   "execution_count": 22,
   "metadata": {},
   "outputs": [],
   "source": [
    "#set(com_mod_df['modularity_S']) # KERDES: Hogyan értékeljem a negatív modularitást?"
   ]
  },
  {
   "cell_type": "code",
   "execution_count": 23,
   "metadata": {},
   "outputs": [],
   "source": [
    "# add modularity_S to tract_df dataframe\n",
    "tract_df = pd.merge(tract_df, com_mod_df, left_on = ['city', 'algorithm_type', 'g_type', 'S_cons'], right_on = ['city', 'algorithm_type', 'g_type', 'S'], how = 'left')"
   ]
  },
  {
   "cell_type": "code",
   "execution_count": 24,
   "metadata": {},
   "outputs": [
    {
     "data": {
      "text/plain": [
       "696"
      ]
     },
     "execution_count": 24,
     "metadata": {},
     "output_type": "execute_result"
    }
   ],
   "source": [
    "len(com_mod_df.modularity_S.unique())"
   ]
  },
  {
   "cell_type": "code",
   "execution_count": 25,
   "metadata": {},
   "outputs": [
    {
     "data": {
      "text/plain": [
       "697"
      ]
     },
     "execution_count": 25,
     "metadata": {},
     "output_type": "execute_result"
    }
   ],
   "source": [
    "len(tract_df.modularity_S.unique()) # nan - KERDES MIT CSINÁLJAK ezzel?"
   ]
  },
  {
   "cell_type": "code",
   "execution_count": 26,
   "metadata": {},
   "outputs": [],
   "source": [
    "tract_df = tract_df.drop(columns = ['S_y']) # KERDES TODO ez honnan jött?"
   ]
  },
  {
   "cell_type": "code",
   "execution_count": 29,
   "metadata": {},
   "outputs": [],
   "source": [
    "# TODO modularity-t kidobni és ezeknek az összegét betenni!!!\n",
    "# HIBA: a modularity nem az overall modularity nem az Expert képlet alapján lett számolva ezért az torz\n",
    "tract_df = tract_df.drop(columns = ['modularity'])"
   ]
  },
  {
   "cell_type": "code",
   "execution_count": null,
   "metadata": {},
   "outputs": [],
   "source": []
  },
  {
   "cell_type": "code",
   "execution_count": 35,
   "metadata": {},
   "outputs": [],
   "source": [
    "community_df = deepcopy(tract_df.groupby(['city','algorithm_type','g_type','S_cons']))[\n",
    "    'degree', 'population_1', 'education_bachelor_1', 'income_1', 'white_1', 'black_1', 'native_1', 'asian_1', 'modularity_S'\n",
    "    ].mean().reset_index()\n",
    "community_df = community_df.rename(columns = {'degree' : 'degree_avg', 'population_1' : 'population_avg_1', 'education_bachelor_1' : 'educ_bach_avg_1', 'income_1' : 'income_avg_1', 'white_1' : 'white_avg_1', 'black_1' : 'black_avg_1', 'native_1' : 'native_avg_1', 'asian_1' : 'asian_avg_1'})"
   ]
  },
  {
   "cell_type": "code",
   "execution_count": null,
   "metadata": {},
   "outputs": [],
   "source": []
  },
  {
   "cell_type": "code",
   "execution_count": 47,
   "metadata": {},
   "outputs": [
    {
     "data": {
      "text/plain": [
       "-0.06792221860744034"
      ]
     },
     "execution_count": 47,
     "metadata": {},
     "output_type": "execute_result"
    }
   ],
   "source": [
    "min(community_df.modularity_S)"
   ]
  },
  {
   "cell_type": "code",
   "execution_count": 49,
   "metadata": {},
   "outputs": [
    {
     "data": {
      "image/png": "[encoded data removed]",
      "text/plain": [
       "<Figure size 576x576 with 3 Axes>"
      ]
     },
     "metadata": {
      "needs_background": "light"
     },
     "output_type": "display_data"
    }
   ],
   "source": [
    "scatter_hist_com(community_df,'modularity_S','educ_bach_avg_1','fol_hh')"
   ]
  },
  {
   "cell_type": "code",
   "execution_count": null,
   "metadata": {},
   "outputs": [],
   "source": []
  },
  {
   "cell_type": "code",
   "execution_count": null,
   "metadata": {},
   "outputs": [],
   "source": []
  },
  {
   "cell_type": "markdown",
   "metadata": {},
   "source": [
    "# Scatterplot with histograms"
   ]
  },
  {
   "cell_type": "code",
   "execution_count": null,
   "metadata": {},
   "outputs": [],
   "source": [
    "def scatter_hist_com(community_df, x_label, y_label, g_type):\n",
    "       \n",
    "    # definitions for the axes\n",
    "    left, width = 0.1, 0.65\n",
    "    bottom, height = 0.1, 0.65\n",
    "    spacing = 0.005\n",
    "\n",
    "    rect_scatter = [left, bottom, width, height]\n",
    "    rect_histx = [left, bottom + height + spacing, width, 0.2]\n",
    "    rect_histy = [left + width + spacing, bottom, 0.2, height]\n",
    "\n",
    "    # start with a square Figure\n",
    "    fig = plt.figure(figsize=(8, 8))\n",
    "    \n",
    "    fig.suptitle('Communities of tracts of US metropolitans', size = 18, x = 0.42, y = 1)\n",
    "\n",
    "    ax = fig.add_axes(rect_scatter)\n",
    "    ax_histx = fig.add_axes(rect_histx, sharex=ax)\n",
    "    ax_histy = fig.add_axes(rect_histy, sharey=ax)\n",
    "    \n",
    "    ax_histx.set_yscale('log')\n",
    "    ax_histy.set_xscale('log')\n",
    "    \n",
    "    # no labels\n",
    "    ax_histx.tick_params(axis=\"x\", labelbottom=False)\n",
    "    ax_histy.tick_params(axis=\"y\", labelleft=False)\n",
    "    \n",
    "    df = community_df[community_df['g_type'] == g_type]\n",
    "    \n",
    "    x = df[x_label]\n",
    "    y = df[y_label]\n",
    "\n",
    "    # now determine nice limits by hand:\n",
    "    ## binwidth = 0.25\n",
    "    ## xymax = max(np.max(np.abs(x)), np.max(np.abs(y)))\n",
    "    ## lim = (int(xymax/binwidth) + 1) * binwidth\n",
    "    \n",
    "    \n",
    "    bins_x = np.linspace(0, max(x), num = 20) # 20 bins 0 to max\n",
    "    bins_y = np.linspace(0, max(y), num = 20) # 20 bins 0 to max\n",
    "    #mob , _ = np.histogram(degree_mob, bins=bins)\n",
    "    #fol_hh , _ = np.histogram(degree_fol_hh, bins=bins)\n",
    "    #####plt.plot(bins[1:], fol_hh, label = 'Follower', marker='.', linewidth = 2, color = color_fol_hh)\n",
    "    \n",
    "    # colors\n",
    "    colors = ['#b35806','#1b7837']#['#7f3b08',,'#00441b',',,]\n",
    "    \n",
    "    for (alg, color) in zip(df['algorithm_type'].unique(), colors):\n",
    "        alg_df = deepcopy(df[df['algorithm_type'] == alg])\n",
    "        \n",
    "        # the scatter plot:\n",
    "        x = alg_df[x_label]\n",
    "        y = alg_df[y_label]\n",
    "        \n",
    "        label = 'Expert' if alg == 'ms' else 'Newman-Girwan' if alg == 'mgn' else 0\n",
    "        ax.scatter(x, y, color = color, alpha = 0.5, label = label)\n",
    "        ax.legend(loc='lower right', fontsize = 14)\n",
    "            \n",
    "        \n",
    "        ## bins = np.arange(-lim, lim + binwidth, binwidth)\n",
    "        ax_histx.hist(x, bins=bins_x, color = color, histtype = 'stepfilled', alpha = 0.5)\n",
    "        ax_histy.hist(y, bins=bins_y, color = color, histtype = 'stepfilled', orientation='horizontal', alpha = 0.5)\n",
    "            \n",
    "        \n",
    "    if x_label == 'degree_avg':\n",
    "        x_label = 'Average degree of tracts in community'\n",
    "    elif x_label == 'population_avg_1':\n",
    "        x_label = 'Average population of tracts in community'\n",
    "    elif x_label == 'educ_bach_avg_1':\n",
    "        x_label = 'Average population of tracts with BA degree in community'\n",
    "    elif x_label == 'income_avg_1':\n",
    "        x_label = 'Average income of tracts in community'\n",
    "    elif x_label == 'white_avg_1':\n",
    "        x_label = 'Average size of white population of tracts in community'\n",
    "    elif x_label == 'black_avg_1':\n",
    "        x_label = 'Average size of black population of tracts in community'\n",
    "    elif x_label == 'native_avg_1':\n",
    "        x_label = 'Average size of native population of tracts in community'\n",
    "    elif x_label == 'asian_avg_1':\n",
    "        x_label = 'Average size of asian population of tracts in community'\n",
    "\n",
    "    if y_label == 'degree_avg':\n",
    "        y_label = 'Average degree of tracts'\n",
    "    elif y_label == 'population_avg_1':\n",
    "        y_label = 'Average population of tracts'\n",
    "    elif y_label == 'educ_bach_avg_1':\n",
    "        y_label = 'Average population of tracts with BA degree'\n",
    "    elif y_label == 'income_avg_1':\n",
    "        y_label = 'Average income of tracts in community'\n",
    "    elif y_label == 'white_avg_1':\n",
    "        y_label = 'Average size of white population of tracts'\n",
    "    elif y_label == 'black_avg_1':\n",
    "        y_label = 'Average size of black population of tracts'\n",
    "    elif y_label == 'native_avg_1':\n",
    "        y_label = 'Average size of native population of tracts'\n",
    "    elif y_label == 'asian_avg_1':\n",
    "        y_label = 'Average size of asian population of tractsy'\n",
    "\n",
    "    ax.set_xlabel(x_label, size = 14)\n",
    "    ax.set_ylabel(y_label, size = 14)"
   ]
  },
  {
   "cell_type": "code",
   "execution_count": null,
   "metadata": {},
   "outputs": [],
   "source": [
    "# use the previously defined function\n",
    "scatter_hist_com(community_df, 'income_avg_1', 'educ_bach_avg_1', 'fol_hh')"
   ]
  },
  {
   "cell_type": "raw",
   "metadata": {},
   "source": [
    "def scatter_hist_tract(tract_df, x_label, y_label, city):\n",
    "       \n",
    "    # definitions for the axes\n",
    "    left, width = 0.1, 0.65\n",
    "    bottom, height = 0.1, 0.65\n",
    "    spacing = 0.005\n",
    "\n",
    "    rect_scatter = [left, bottom, width, height]\n",
    "    rect_histx = [left, bottom + height + spacing, width, 0.2]\n",
    "    rect_histy = [left + width + spacing, bottom, 0.2, height]\n",
    "\n",
    "    # start with a square Figure\n",
    "    fig = plt.figure(figsize=(8, 8))\n",
    "\n",
    "    ax = fig.add_axes(rect_scatter)\n",
    "    ax_histx = fig.add_axes(rect_histx, sharex=ax)\n",
    "    ax_histy = fig.add_axes(rect_histy, sharey=ax)\n",
    "    \n",
    "    # no labels\n",
    "    ax_histx.tick_params(axis=\"x\", labelbottom=False)\n",
    "    ax_histy.tick_params(axis=\"y\", labelleft=False)\n",
    "    \n",
    "    df = tract_df[tract_df['city'] == city]\n",
    "    \n",
    "    x = df[x_label]\n",
    "    y = df[y_label]\n",
    "\n",
    "    # now determine nice limits by hand:\n",
    "    ## binwidth = 0.25\n",
    "    ## xymax = max(np.max(np.abs(x)), np.max(np.abs(y)))\n",
    "    ## lim = (int(xymax/binwidth) + 1) * binwidth\n",
    "    \n",
    "    \n",
    "    bins_x = np.linspace(0, max(x), num = 20) # 20 bins 0 to max\n",
    "    bins_y = np.linspace(0, max(y), num = 20) # 20 bins 0 to max\n",
    "    #mob , _ = np.histogram(degree_mob, bins=bins)\n",
    "    #fol_hh , _ = np.histogram(degree_fol_hh, bins=bins)\n",
    "    #####plt.plot(bins[1:], fol_hh, label = 'Follower', marker='.', linewidth = 2, color = color_fol_hh)\n",
    "    \n",
    "    # colors\n",
    "    colors = ['#7f3b08','#d9f0d3','#00441b','#b35806','#a6dba0','#e08214','#5aae61','#1b7837','#fdb863']\n",
    "    \n",
    "    for com in df['S_cons'].unique():\n",
    "        com_df = deepcopy(df[df['S_cons'] == com])\n",
    "        # the scatter plot:\n",
    "        x = com_df[x_label]\n",
    "        y = com_df[y_label]\n",
    "        color = colors[com]\n",
    "        ax.scatter(x, y, color = color)\n",
    "\n",
    "        ## bins = np.arange(-lim, lim + binwidth, binwidth)\n",
    "        ax_histx.hist(x, bins=bins_x, color = color, histtype = 'step')\n",
    "        ax_histy.hist(y, bins=bins_y, color = color, histtype = 'step', orientation='horizontal') "
   ]
  },
  {
   "cell_type": "code",
   "execution_count": null,
   "metadata": {},
   "outputs": [],
   "source": [
    "fig, ax = plt.subplots(tight_layout=True)\n",
    "df = deepcopy(tract_df[(tract_df['city'] == 'baltimore')])\n",
    "hist = ax.hist2d(df['income_diff_1'], df['black_p_diff_1'], bins = 50)"
   ]
  },
  {
   "cell_type": "code",
   "execution_count": null,
   "metadata": {},
   "outputs": [],
   "source": []
  },
  {
   "cell_type": "code",
   "execution_count": null,
   "metadata": {},
   "outputs": [],
   "source": []
  },
  {
   "cell_type": "code",
   "execution_count": null,
   "metadata": {},
   "outputs": [],
   "source": []
  },
  {
   "cell_type": "code",
   "execution_count": null,
   "metadata": {},
   "outputs": [],
   "source": []
  },
  {
   "cell_type": "code",
   "execution_count": null,
   "metadata": {},
   "outputs": [],
   "source": []
  },
  {
   "cell_type": "code",
   "execution_count": null,
   "metadata": {},
   "outputs": [],
   "source": []
  },
  {
   "cell_type": "code",
   "execution_count": null,
   "metadata": {},
   "outputs": [],
   "source": []
  },
  {
   "cell_type": "code",
   "execution_count": null,
   "metadata": {},
   "outputs": [],
   "source": [
    "def scatter_hist_com(community_df, x_label, y_label, g_type):\n",
    "       \n",
    "    # definitions for the axes\n",
    "    left, width = 0.1, 0.65\n",
    "    bottom, height = 0.1, 0.65\n",
    "    spacing = 0.005\n",
    "\n",
    "    rect_scatter = [left, bottom, width, height]\n",
    "    rect_histx = [left, bottom + height + spacing, width, 0.2]\n",
    "    rect_histy = [left + width + spacing, bottom, 0.2, height]\n",
    "\n",
    "    # start with a square Figure\n",
    "    fig = plt.figure(figsize=(8, 8))\n",
    "    \n",
    "    fig.suptitle('Communities of tracts of US metropolitans', size = 18, x = 0.42, y = 1)\n",
    "\n",
    "    ax = fig.add_axes(rect_scatter)\n",
    "    ax_histx = fig.add_axes(rect_histx, sharex=ax)\n",
    "    ax_histy = fig.add_axes(rect_histy, sharey=ax)\n",
    "    \n",
    "    ax_histx.set_yscale('log')\n",
    "    ax_histy.set_xscale('log')\n",
    "    \n",
    "    # no labels\n",
    "    ax_histx.tick_params(axis=\"x\", labelbottom=False)\n",
    "    ax_histy.tick_params(axis=\"y\", labelleft=False)\n",
    "    \n",
    "    df = community_df[community_df['g_type'] == g_type]\n",
    "    \n",
    "    x = df[x_label]\n",
    "    y = df[y_label]\n",
    "\n",
    "    # now determine nice limits by hand:\n",
    "    ## binwidth = 0.25\n",
    "    ## xymax = max(np.max(np.abs(x)), np.max(np.abs(y)))\n",
    "    ## lim = (int(xymax/binwidth) + 1) * binwidth\n",
    "    \n",
    "    \n",
    "    bins_x = np.linspace(0, max(x), num = 20) # 20 bins 0 to max\n",
    "    bins_y = np.linspace(0, max(y), num = 20) # 20 bins 0 to max\n",
    "    #mob , _ = np.histogram(degree_mob, bins=bins)\n",
    "    #fol_hh , _ = np.histogram(degree_fol_hh, bins=bins)\n",
    "    #####plt.plot(bins[1:], fol_hh, label = 'Follower', marker='.', linewidth = 2, color = color_fol_hh)\n",
    "    \n",
    "    # colors\n",
    "    colors = ['#b35806','#1b7837']#['#7f3b08',,'#00441b',',,]\n",
    "    \n",
    "    for (alg, color) in zip(df['algorithm_type'].unique(), colors):\n",
    "        alg_df = deepcopy(df[df['algorithm_type'] == alg])\n",
    "        \n",
    "        # the scatter plot:\n",
    "        x = alg_df[x_label]\n",
    "        y = alg_df[y_label]\n",
    "        \n",
    "        label = 'Expert' if alg == 'ms' else 'Newman-Girwan' if alg == 'mgn' else 0\n",
    "        ax.scatter(x, y, color = color, alpha = 0.5, label = label)\n",
    "        ax.legend(loc='lower right', fontsize = 14)\n",
    "            \n",
    "        \n",
    "        ## bins = np.arange(-lim, lim + binwidth, binwidth)\n",
    "        ax_histx.hist(x, bins=bins_x, color = color, histtype = 'stepfilled', alpha = 0.5)\n",
    "        ax_histy.hist(y, bins=bins_y, color = color, histtype = 'stepfilled', orientation='horizontal', alpha = 0.5)\n",
    "            \n",
    "        \n",
    "    if x_label == 'degree_avg':\n",
    "        x_label = 'Average degree of tracts in community'\n",
    "    elif x_label == 'population_avg_1':\n",
    "        x_label = 'Average population of tracts in community'\n",
    "    elif x_label == 'educ_bach_avg_1':\n",
    "        x_label = 'Average population of tracts with BA degree in community'\n",
    "    elif x_label == 'income_avg_1':\n",
    "        x_label = 'Average income of tracts in community'\n",
    "    elif x_label == 'white_avg_1':\n",
    "        x_label = 'Average size of white population of tracts in community'\n",
    "    elif x_label == 'black_avg_1':\n",
    "        x_label = 'Average size of black population of tracts in community'\n",
    "    elif x_label == 'native_avg_1':\n",
    "        x_label = 'Average size of native population of tracts in community'\n",
    "    elif x_label == 'asian_avg_1':\n",
    "        x_label = 'Average size of asian population of tracts in community'\n",
    "\n",
    "    if y_label == 'degree_avg':\n",
    "        y_label = 'Average degree of tracts'\n",
    "    elif y_label == 'population_avg_1':\n",
    "        y_label = 'Average population of tracts'\n",
    "    elif y_label == 'educ_bach_avg_1':\n",
    "        y_label = 'Average population of tracts with BA degree'\n",
    "    elif y_label == 'income_avg_1':\n",
    "        y_label = 'Average income of tracts in community'\n",
    "    elif y_label == 'white_avg_1':\n",
    "        y_label = 'Average size of white population of tracts'\n",
    "    elif y_label == 'black_avg_1':\n",
    "        y_label = 'Average size of black population of tracts'\n",
    "    elif y_label == 'native_avg_1':\n",
    "        y_label = 'Average size of native population of tracts'\n",
    "    elif y_label == 'asian_avg_1':\n",
    "        y_label = 'Average size of asian population of tractsy'\n",
    "\n",
    "    ax.set_xlabel(x_label, size = 14)\n",
    "    ax.set_ylabel(y_label, size = 14)"
   ]
  },
  {
   "cell_type": "code",
   "execution_count": null,
   "metadata": {},
   "outputs": [],
   "source": [
    "# use the previously defined function\n",
    "scatter_hist_tract(tract_df, 'income_1', 'white_1', 'boston')"
   ]
  },
  {
   "cell_type": "code",
   "execution_count": null,
   "metadata": {},
   "outputs": [],
   "source": []
  },
  {
   "cell_type": "code",
   "execution_count": null,
   "metadata": {},
   "outputs": [],
   "source": []
  },
  {
   "cell_type": "code",
   "execution_count": null,
   "metadata": {},
   "outputs": [],
   "source": []
  },
  {
   "cell_type": "code",
   "execution_count": null,
   "metadata": {},
   "outputs": [],
   "source": []
  },
  {
   "cell_type": "code",
   "execution_count": null,
   "metadata": {},
   "outputs": [],
   "source": []
  },
  {
   "cell_type": "code",
   "execution_count": null,
   "metadata": {},
   "outputs": [],
   "source": []
  },
  {
   "cell_type": "code",
   "execution_count": null,
   "metadata": {},
   "outputs": [],
   "source": []
  },
  {
   "cell_type": "code",
   "execution_count": null,
   "metadata": {},
   "outputs": [],
   "source": []
  },
  {
   "cell_type": "code",
   "execution_count": null,
   "metadata": {},
   "outputs": [],
   "source": []
  },
  {
   "cell_type": "code",
   "execution_count": null,
   "metadata": {},
   "outputs": [],
   "source": []
  },
  {
   "cell_type": "code",
   "execution_count": null,
   "metadata": {},
   "outputs": [],
   "source": []
  },
  {
   "cell_type": "code",
   "execution_count": 25,
   "metadata": {},
   "outputs": [
    {
     "name": "stderr",
     "output_type": "stream",
     "text": [
      "/home/ubuntu/anaconda3/lib/python3.7/site-packages/ipykernel_launcher.py:47: RuntimeWarning: invalid value encountered in true_divide\n"
     ]
    }
   ],
   "source": [
    "G = create_graphs('miami', 'mob') # corresponding weighted undirected graph\n",
    "        \n",
    "#index_geoid_dict = dict(list(enumerate(G.nodes)))\n",
    "#geoid_index_dict = dict(zip(list(index_geoid_dict.values()), list(index_geoid_dict.keys()))) KERDES: SZÜKSÉG VAN ERRE?\n",
    "        \n",
    "# Dataprep for Expert algorithm\n",
    "A = nx.adjacency_matrix(G)\n",
    "coords = np.array([tract_center_dict[n] for n in G.nodes()])\n",
    "d = pdist(coords)\n",
    "D = squareform(pdist(coords))\n",
    "tract_outdeg_mob = mobility.groupby('tract_home')[['cnt']].sum()\n",
    "N = np.matrix([tract_outdeg_mob.loc[k].iloc[0] for k in G.nodes()]).T\n",
    "\n",
    "Ms,Mgn = SpaMod(A,D,N,200)"
   ]
  },
  {
   "cell_type": "code",
   "execution_count": 86,
   "metadata": {},
   "outputs": [],
   "source": [
    "# clusters to matrix format\n",
    "# 1 matrix for each cluster in which 1s are for node pairs which are in the given community all others are 0s\n",
    "\n",
    "# filter for city\n",
    "city = 'miami'\n",
    "algorithm_type = 'mgn'\n",
    "g_type = 'mob'\n",
    "\n",
    "S_notsorted = tract_df[(tract_df['city'] == city) & (tract_df['algorithm_type'] == algorithm_type) & (tract_df['g_type'] == g_type)].set_index('geoid')['S_cons']\n",
    "S = [S_notsorted.loc[k] for k in G.nodes()] # KERDES: kell ez?"
   ]
  },
  {
   "cell_type": "code",
   "execution_count": 91,
   "metadata": {},
   "outputs": [],
   "source": []
  },
  {
   "cell_type": "code",
   "execution_count": null,
   "metadata": {},
   "outputs": [],
   "source": []
  },
  {
   "cell_type": "code",
   "execution_count": 80,
   "metadata": {},
   "outputs": [],
   "source": []
  },
  {
   "cell_type": "code",
   "execution_count": 81,
   "metadata": {},
   "outputs": [],
   "source": [
    "# numpy.dot(numpy.array([[1], [2]]), numpy.array([[3, 4]]))\n",
    "com_vector = (S == 1).astype('int')\n",
    "same_com = numpy.outer(com_vector, com_vector) # same community matrix (stored as array) - 0 if either node is not in community, 1 if both are in community\n",
    "# MÉRET ROSSZ"
   ]
  },
  {
   "cell_type": "code",
   "execution_count": 82,
   "metadata": {},
   "outputs": [
    {
     "data": {
      "text/plain": [
       "1450.1622039654512"
      ]
     },
     "execution_count": 82,
     "metadata": {},
     "output_type": "execute_result"
    }
   ],
   "source": [
    "\n",
    "modularity = Ms\n",
    "np.multiply(np.array(modularity), same_com).sum() # add up how much more edges are present between community nodes then expected by nullmodel in the given community"
   ]
  },
  {
   "cell_type": "code",
   "execution_count": null,
   "metadata": {},
   "outputs": [],
   "source": []
  },
  {
   "cell_type": "code",
   "execution_count": null,
   "metadata": {},
   "outputs": [],
   "source": []
  },
  {
   "cell_type": "code",
   "execution_count": null,
   "metadata": {},
   "outputs": [],
   "source": []
  },
  {
   "cell_type": "code",
   "execution_count": null,
   "metadata": {},
   "outputs": [],
   "source": [
    "# unique lists for city names\n",
    "city_l = cbsacode.clean_name.unique()\n",
    "\n",
    "tract_outdeg_mob = mobility.groupby('tract_home')[['cnt']].sum()\n",
    "\n",
    "for city in city_l:\n",
    "    for g_type in ['mob','fol_hh']:\n",
    "        G = create_graphs(city, g_type) # corresponding weighted undirected graph\n",
    "        \n",
    "        \n",
    "        # TODO --> DONE\n",
    "        # index conversion dicts\n",
    "        # for i,node_id in enumerate(G.nodes()):\n",
    "        # for elem in enumerate([\"alma\",\"korte\"]):\n",
    "        #     print(elem)\n",
    "        # geoid -> integer 0-... N-1\n",
    "        # az elozo dict megforditottja\n",
    "        # int -> geoid\n",
    "        index_geoid_dict = dict(list(enumerate(G.nodes)))\n",
    "        geoid_index_dict = dict(zip(list(index_geoid_dict.values()), list(index_geoid_dict.keys())))\n",
    "\n",
    "        \n",
    "        # Dataprep for Expert algorithm\n",
    "        A = nx.adjacency_matrix(G)\n",
    "        coords = np.array([tract_center_dict[n] for n in G.nodes()])\n",
    "        d = pdist(coords)\n",
    "        D = squareform(pdist(coords))\n",
    "        \n",
    "        # importance - number of user home in each tract\n",
    "        # TODO we should check if all nodes in the follow_hh graph have an importance!\n",
    "        # otherwise, the N... line is going to throw an error\n",
    "        if not set(G.nodes).issubset(set(tract_outdeg_mob.reset_index().tract_home)): # test if the node is in any city KERDES : adott városra teszteljem?\n",
    "            print('Error. Node(s) without importance value(s) They are dropped.') ## --> DONE\n",
    "            missing_nodes = list(set(G.nodes)-set(tract_outdeg_mob.reset_index().tract_home))\n",
    "            for node in missing_nodes:\n",
    "                ## KERDES - ezt ki is dobjam??\n",
    "                G.remove_node(node)    \n",
    "        N = np.matrix([tract_outdeg_mob.loc[k].iloc[0] for k in G.nodes()]).T\n",
    "        \n",
    "        \n",
    "        # Calculate clusterings for the given graph and write the outcome of runs to csvs\n",
    "        S_ms_df = pd.DataFrame()\n",
    "        S_mgn_df = pd.DataFrame()\n",
    "        for _ in range(10):\n",
    "            # TODO Eszter!!!! sometimes it gives an error in the first line\n",
    "            # new thing: nout = 3\n",
    "            Ms,Mgn = SpaMod(A,D,N,200) ### KERDES what should be the number of bins? 100?\n",
    "            S_ms,Q_ms,n_it_ms = octave.iterated_genlouvain(Ms, nout=3)\n",
    "            S_ms_df[len(S_ms_df.columns)] = S_ms.T[0]\n",
    "            S_mgn,Q_mgn,n_it_mgn = octave.iterated_genlouvain(Mgn, nout=3)\n",
    "            S_mgn_df[len(S_mgn_df.columns)] = S_mgn.T[0]\n",
    "\n",
    "            # TODO itt egy lepesben meg lehet cisnalni mindket algorithm_type-ot!!! --> DONE\n",
    "            for (algorithm_type, df) in [('ms',S_ms_df),('mgn',S_mgn_df)]:\n",
    "                df['geoid'] = df.index.map(index_geoid_dict)\n",
    "                # TODO --> DONE  S_df[\"geoid\"] = S_df.index.map(a_masodik_dicted) -- kérdés: ez mit tud, amit az alatta levő sor nem?\n",
    "                #S_df['geoid'] = list(G.nodes()) ## KERDES JO??? - szerintem igen (Eszter)\n",
    "                df = df.set_index('geoid')\n",
    "                csv_name = 'consensus_' + city + '_' + algorithm_type + '_' + g_type + '.csv'\n",
    "                df.to_csv('../data/'+ csv_name)\n",
    "                # TODO --> DONE mindket algorithm type-ra kimenteni a csv-t"
   ]
  },
  {
   "cell_type": "code",
   "execution_count": null,
   "metadata": {},
   "outputs": [],
   "source": []
  },
  {
   "cell_type": "code",
   "execution_count": null,
   "metadata": {},
   "outputs": [],
   "source": []
  }
 ],
 "metadata": {
  "kernelspec": {
   "display_name": "Python 3",
   "language": "python",
   "name": "python3"
  },
  "language_info": {
   "codemirror_mode": {
    "name": "ipython",
    "version": 3
   },
   "file_extension": ".py",
   "mimetype": "text/x-python",
   "name": "python",
   "nbconvert_exporter": "python",
   "pygments_lexer": "ipython3",
   "version": "3.7.2"
  }
 },
 "nbformat": 4,
 "nbformat_minor": 2
}
