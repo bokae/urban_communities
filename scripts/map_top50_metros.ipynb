{
 "cells": [
  {
   "cell_type": "code",
   "execution_count": 1,
   "metadata": {},
   "outputs": [],
   "source": [
    "import pandas as pd\n",
    "import numpy as np\n",
    "import matplotlib.pyplot as plt\n",
    "\n",
    "\n",
    "import json\n",
    "import geopandas as gpd\n",
    "from copy import deepcopy\n",
    "import shapely\n",
    "from shapely.geometry import Point,Polygon,LineString\n",
    "import pyproj"
   ]
  },
  {
   "cell_type": "markdown",
   "metadata": {},
   "source": [
    "### map of the 50 metro areas"
   ]
  },
  {
   "cell_type": "code",
   "execution_count": 10,
   "metadata": {},
   "outputs": [],
   "source": [
    "# shape file for US metro areas\n",
    "metromap = gpd.read_file(\"../data/shapes/tl_2019_us_cbsa/tl_2019_us_cbsa.shp\")"
   ]
  },
  {
   "cell_type": "code",
   "execution_count": 11,
   "metadata": {},
   "outputs": [],
   "source": [
    "# manipulations\n",
    "metromap.set_geometry(\"geometry\",inplace=True)\n",
    "\n",
    "metromap[\"GEOID\"] = metromap[\"GEOID\"].astype(int)"
   ]
  },
  {
   "cell_type": "code",
   "execution_count": 12,
   "metadata": {},
   "outputs": [],
   "source": [
    "# cbsa info table\n",
    "cbsa_info = pd.read_csv(\"../data/cbsacode_shortname_tracts.csv\", sep=\";\", index_col=0)"
   ]
  },
  {
   "cell_type": "code",
   "execution_count": 13,
   "metadata": {},
   "outputs": [],
   "source": [
    "# manipulations\n",
    "cbsa_info = cbsa_info.loc[:,[\"cbsacode\", \"short_name\"]].drop_duplicates()\n",
    "cbsa_info[\"selected\"] = 1\n",
    "cbsa_info[\"color\"] = \"#00441B\""
   ]
  },
  {
   "cell_type": "code",
   "execution_count": 14,
   "metadata": {},
   "outputs": [],
   "source": [
    "# merge for plot\n",
    "metromap = pd.merge(metromap, cbsa_info, left_on=\"GEOID\", right_on=\"cbsacode\", how=\"left\")"
   ]
  },
  {
   "cell_type": "code",
   "execution_count": 15,
   "metadata": {},
   "outputs": [],
   "source": [
    "# correction on the final dataframe\n",
    "metromap[\"selected\"] = metromap[\"selected\"].fillna(0)\n",
    "metromap[\"color\"] = metromap[\"color\"].fillna(\"lightgray\")"
   ]
  },
  {
   "cell_type": "code",
   "execution_count": 16,
   "metadata": {},
   "outputs": [],
   "source": [
    "# shape file for US states\n",
    "usmap = gpd.read_file(\"../data/shapes/tl_2017_us_state/tl_2017_us_state.shp\")\n",
    "\n",
    "# manipulations\n",
    "usmap.set_geometry(\"geometry\",inplace=True)"
   ]
  },
  {
   "cell_type": "code",
   "execution_count": null,
   "metadata": {},
   "outputs": [],
   "source": [
    "### combination\n",
    "\n",
    "# general\n",
    "import matplotlib.patches as mpatches\n",
    "plt.rcParams['font.size']=16\n",
    "plt.rc('legend',fontsize=22)\n",
    "fig, ax = plt.subplots(1,1, figsize = (15,15), constrained_layout=True)\n",
    "\n",
    "\n",
    "# MAP\n",
    "usmap.plot(ax=ax, color=\"white\", edgecolor='dimgray')\n",
    "metromap.plot(ax=ax, column=\"selected\", color=metromap[\"color\"], edgecolor='dimgray')\n",
    "ax.set_xlim([-127,-66])\n",
    "ax.set_ylim([24,50])\n",
    "ax.axis('off')\n",
    "\n",
    "top50metro = mpatches.Patch(color='#00441B', label='Top 50 metro areas')\n",
    "allmetro = mpatches.Patch(color='lightgray', label='Metro areas')\n",
    "ax.legend(handles=[top50metro, allmetro], loc='lower left')\n",
    "\n",
    "\n",
    "plt.show()\n",
    "# plt.savefig('../figures/map_users_top50.png', dpi=300, bbox_inches='tight')"
   ]
  }
 ],
 "metadata": {
  "kernelspec": {
   "name": "python3",
   "display_name": "Python 3.9.1 64-bit"
  },
  "language_info": {
   "codemirror_mode": {
    "name": "ipython",
    "version": 3
   },
   "file_extension": ".py",
   "mimetype": "text/x-python",
   "name": "python",
   "nbconvert_exporter": "python",
   "pygments_lexer": "ipython3",
   "version": "3.9.1"
  },
  "interpreter": {
   "hash": "aee8b7b246df8f9039afb4144a1f6fd8d2ca17a180786b69acc140d282b71a49"
  }
 },
 "nbformat": 4,
 "nbformat_minor": 4
}