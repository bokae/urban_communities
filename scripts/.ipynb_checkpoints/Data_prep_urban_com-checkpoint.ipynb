{
 "cells": [
  {
   "cell_type": "code",
   "execution_count": null,
   "metadata": {},
   "outputs": [],
   "source": [
    "# tisztitás"
   ]
  },
  {
   "cell_type": "code",
   "execution_count": 2,
   "metadata": {},
   "outputs": [],
   "source": [
    "%matplotlib inline\n",
    "\n",
    "\n",
    "\n",
    "# import matplotlib.pyplot as plt\n",
    "\n",
    "\n",
    "#import seaborn as sns\n",
    "#import networkx as nx\n",
    "\n",
    "# import scipy\n",
    "import csv\n",
    "\n",
    "import matplotlib.cm as cm\n",
    "\n",
    "\n",
    "import community as community_louvain\n",
    "from copy import deepcopy\n",
    "\n",
    "from itertools import product\n",
    "import networkx.algorithms.community as nx_comm\n",
    "from scipy.spatial.distance import pdist, squareform\n",
    "\n",
    "#from shapely.geometry import Point, LineString\n",
    "from geopandas import GeoDataFrame\n",
    "\n",
    "#import matplotlib.lines as lines"
   ]
  },
  {
   "cell_type": "code",
   "execution_count": null,
   "metadata": {},
   "outputs": [],
   "source": []
  },
  {
   "cell_type": "code",
   "execution_count": null,
   "metadata": {},
   "outputs": [],
   "source": [
    "# kiszámolom a S_cons-t és ki fájlba"
   ]
  },
  {
   "cell_type": "code",
   "execution_count": null,
   "metadata": {},
   "outputs": [],
   "source": [
    "beolvasom"
   ]
  },
  {
   "cell_type": "code",
   "execution_count": null,
   "metadata": {},
   "outputs": [],
   "source": [
    "hozzáad\n",
    "\n",
    "ezt is kiment"
   ]
  },
  {
   "cell_type": "code",
   "execution_count": null,
   "metadata": {},
   "outputs": [],
   "source": [
    "cbsacode = pd.read_csv(\"../data/cbsacode_shortname_tracts.csv\",sep=\";\", index_col=0)\n",
    "\n",
    "cbsacode['clean_name'] = cbsacode[\"short_name\"].map(lambda s: s.split(\"/\")[0].replace(' ','_').replace('.','').lower())"
   ]
  },
  {
   "cell_type": "code",
   "execution_count": null,
   "metadata": {},
   "outputs": [],
   "source": []
  },
  {
   "cell_type": "code",
   "execution_count": null,
   "metadata": {},
   "outputs": [],
   "source": []
  },
  {
   "cell_type": "code",
   "execution_count": null,
   "metadata": {},
   "outputs": [],
   "source": []
  },
  {
   "cell_type": "code",
   "execution_count": null,
   "metadata": {},
   "outputs": [],
   "source": []
  },
  {
   "cell_type": "code",
   "execution_count": null,
   "metadata": {},
   "outputs": [],
   "source": []
  },
  {
   "cell_type": "code",
   "execution_count": null,
   "metadata": {},
   "outputs": [],
   "source": [
    "# KIMENŐ EZ LESZ MAJD, CSAK HIBA NÉLÜLI\n",
    "\n",
    "\n",
    "# Properties of tracts\n",
    "\n",
    "tract_df = pd.read_csv('../data/network_properties.csv')\n"
   ]
  },
  {
   "cell_type": "code",
   "execution_count": null,
   "metadata": {},
   "outputs": [],
   "source": [
    "# calculate proportions - mean tract population is not the same among communities\n",
    "\n",
    "# for 2012\n",
    "tract_df['educ_bach_p_1'] = tract_df['education_bachelor_1']/tract_df['population_1']\n",
    "tract_df['educ_total_p_1'] = tract_df['education_total_1']/tract_df['population_1']\n",
    "tract_df['white_p_1'] = tract_df['white_1']/tract_df['population_1']\n",
    "tract_df['black_p_1'] = tract_df['black_1']/tract_df['population_1']\n",
    "tract_df['native_p_1'] = tract_df['native_1']/tract_df['population_1']\n",
    "tract_df['asian_p_1'] = tract_df['asian_1']/tract_df['population_1']\n",
    "\n",
    "# for 2017\n",
    "tract_df['educ_bach_p_2'] = tract_df['education_bachelor_2']/tract_df['population_2']\n",
    "tract_df['educ_total_p_2'] = tract_df['education_total_2']/tract_df['population_2']\n",
    "tract_df['white_p_2'] = tract_df['white_2']/tract_df['population_2']\n",
    "tract_df['black_p_2'] = tract_df['black_2']/tract_df['population_2']\n",
    "tract_df['native_p_2'] = tract_df['native_2']/tract_df['population_2']\n",
    "tract_df['asian_p_2'] = tract_df['asian_2']/tract_df['population_2']"
   ]
  },
  {
   "cell_type": "code",
   "execution_count": null,
   "metadata": {},
   "outputs": [],
   "source": []
  },
  {
   "cell_type": "code",
   "execution_count": null,
   "metadata": {},
   "outputs": [],
   "source": []
  },
  {
   "cell_type": "code",
   "execution_count": null,
   "metadata": {},
   "outputs": [],
   "source": []
  },
  {
   "cell_type": "code",
   "execution_count": null,
   "metadata": {},
   "outputs": [],
   "source": []
  },
  {
   "cell_type": "code",
   "execution_count": null,
   "metadata": {},
   "outputs": [],
   "source": [
    "tract_once = tract_df[tract_df['algorithm_type'] == 'mg']\n",
    "network_df = deepcopy(tract_once.groupby(['city','g_type'])['educ_bach_p_1','white_p_1','black_p_1','native_p_1','asian_p_1', 'income_1', \n",
    "                                                          'educ_bach_p_2','white_p_2','black_p_2','native_p_2','asian_p_2', 'income_2'].mean().reset_index())\n",
    "\n",
    "# every tract is counted twice - once for each algorithm_type -- solved\n",
    "network_df = network_df.rename(columns = {'educ_bach_p_1' : 'educ_bach_p_avg_1','white_p_1' : 'white_p_avg_1', 'black_p_1' : 'black_p_avg_1', 'native_p_1' : 'native_p_avg_1', 'asian_p_1' : 'asian_p_avg_1', 'income_1' : 'income_avg_1',\n",
    "                                          'educ_bach_p_2' : 'educ_bach_p_avg_2','white_p_2' : 'white_p_avg_2', 'black_p_2' : 'black_p_avg_2', 'native_p_2' : 'native_p_avg_2', 'asian_p_2' : 'asian_p_avg_2', 'income_2' : 'income_avg_2'})"
   ]
  },
  {
   "cell_type": "code",
   "execution_count": null,
   "metadata": {},
   "outputs": [],
   "source": []
  },
  {
   "cell_type": "code",
   "execution_count": null,
   "metadata": {},
   "outputs": [],
   "source": []
  },
  {
   "cell_type": "code",
   "execution_count": null,
   "metadata": {},
   "outputs": [],
   "source": []
  },
  {
   "cell_type": "code",
   "execution_count": null,
   "metadata": {},
   "outputs": [],
   "source": []
  },
  {
   "cell_type": "code",
   "execution_count": null,
   "metadata": {},
   "outputs": [],
   "source": []
  },
  {
   "cell_type": "code",
   "execution_count": null,
   "metadata": {},
   "outputs": [],
   "source": []
  },
  {
   "cell_type": "code",
   "execution_count": null,
   "metadata": {},
   "outputs": [],
   "source": []
  },
  {
   "cell_type": "code",
   "execution_count": null,
   "metadata": {},
   "outputs": [],
   "source": []
  },
  {
   "cell_type": "code",
   "execution_count": null,
   "metadata": {},
   "outputs": [],
   "source": []
  }
 ],
 "metadata": {
  "kernelspec": {
   "display_name": "Python 3",
   "language": "python",
   "name": "python3"
  },
  "language_info": {
   "codemirror_mode": {
    "name": "ipython",
    "version": 3
   },
   "file_extension": ".py",
   "mimetype": "text/x-python",
   "name": "python",
   "nbconvert_exporter": "python",
   "pygments_lexer": "ipython3",
   "version": "3.7.2"
  }
 },
 "nbformat": 4,
 "nbformat_minor": 2
}
