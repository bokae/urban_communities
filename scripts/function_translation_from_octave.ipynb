{
 "cells": [
  {
   "cell_type": "code",
   "execution_count": 1,
   "metadata": {},
   "outputs": [
    {
     "name": "stdout",
     "output_type": "stream",
     "text": [
      "warning: addpath: /home/urban_communities/scripts: No such file or directory\n"
     ]
    }
   ],
   "source": [
    "%load_ext oct2py.ipython\n",
    "import networkx as nx\n",
    "import numpy as np\n",
    "from scipy.spatial.distance import pdist, squareform\n",
    "import math\n",
    "#import matplotlib.pyplot as plt\n",
    "from oct2py import octave\n",
    "_ = octave.addpath('/home/urban_communities/scripts') # KERDES HOL VAN?\n",
    "_ = octave.addpath('/home/ubuntu/GenLouvain/')\n",
    "_ = octave.addpath('/home/ubuntu/GenLouvain/private/')\n",
    "from time import time\n",
    "from copy import deepcopy"
   ]
  },
  {
   "cell_type": "code",
   "execution_count": 3,
   "metadata": {},
   "outputs": [],
   "source": [
    "%matplotlib inline"
   ]
  },
  {
   "cell_type": "raw",
   "metadata": {},
   "source": [
    "@ - matrixszorzas\n",
    "\n",
    "[[1,1],[1,1]] @ [[1,1],[1,1]] = [[2,2],[2,2]] \n",
    "\n",
    "* - elemenkenti szorzas\n",
    "\n",
    "[[1,1],[1,1]] * [[1,1],[1,1]] = [[1,1],[1,1]]"
   ]
  },
  {
   "cell_type": "markdown",
   "metadata": {},
   "source": [
    "* Ctrl + shift + - tori el a cellat\n",
    "* Shift + M = merge\n",
    "* az ocatve-ban a ' a transzponalas\n",
    "* az octave szigoruan megkulonbozteti a sor- es oszlopvektorokat\n",
    "* az octave vektor/matrix objektumai jobban hasonlitanak a np.matrix-ra mint az array-re\n",
    "* az octave-ban a ./ .* stb. mindig az elemenkenti muveleteket jelentik, mintha np.array-ekkel dolgoznal\n",
    "* az octave 1-tol indexel, a Python 0-tol"
   ]
  },
  {
   "cell_type": "raw",
   "metadata": {},
   "source": [
    "# sample graph try\n",
    "\n",
    "G = nx.Graph()\n",
    "G.add_edges_from([(0, 0), (2, 0), (1,1)])\n",
    "A = nx.adjacency_matrix(G) # flow\n",
    "\n",
    "\n",
    "coords = np.array([(0, 0), (2, 0),(1,1)])\n",
    "d = pdist(coords)\n",
    "D = squareform(pdist(coords)) # Dist\n",
    "\n",
    " # importance - number of users\n",
    "N = np.matrix([1,1,1]).T\n",
    "# binsize\n",
    "max_dist = np.amax(D)\n",
    "b = max_dist/4 # number of bins = 100"
   ]
  },
  {
   "cell_type": "code",
   "execution_count": 4,
   "metadata": {},
   "outputs": [
    {
     "name": "stderr",
     "output_type": "stream",
     "text": [
      "/home/ubuntu/anaconda3/lib/python3.7/site-packages/networkx/drawing/nx_pylab.py:611: MatplotlibDeprecationWarning: isinstance(..., numbers.Number)\n",
      "  if cb.is_numlike(alpha):\n"
     ]
    },
    {
     "data": {
      "image/png": "[encoded data removed]",
      "text/plain": [
       "<Figure size 432x288 with 1 Axes>"
      ]
     },
     "metadata": {},
     "output_type": "display_data"
    }
   ],
   "source": [
    "# Eszter graph\n",
    "# a good modular input matrix\n",
    "p = np.ones((3,3))*0.05 + np.eye(3)*(1-3*0.05)\n",
    "G = nx.stochastic_block_model([5]*3,p) # 20 helyett 5\n",
    "nx.draw(G)"
   ]
  },
  {
   "cell_type": "code",
   "execution_count": 5,
   "metadata": {},
   "outputs": [],
   "source": [
    "# adjacency matrix\n",
    "A = nx.adjacency_matrix(G)\n",
    "# distance matrix\n",
    "D = np.random.rand(len(G.nodes()),len(G.nodes()))\n",
    "# importance\n",
    "N = np.matrix([v for (k,v) in G.degree]).T # KERDES nem lenne jobb meghagyni vektornak, ha ugyis 1 dimenzios??\n",
    "# binsize\n",
    "b = 0.1"
   ]
  },
  {
   "cell_type": "code",
   "execution_count": 6,
   "metadata": {},
   "outputs": [],
   "source": [
    "# TRY- modified code without loops to test code line by line"
   ]
  },
  {
   "cell_type": "code",
   "execution_count": 7,
   "metadata": {},
   "outputs": [
    {
     "data": {
      "text/plain": [
       "warning: load: can not read multi-byte encoded UTF8 characters; replacing unreadable characters with '?'"
      ]
     },
     "metadata": {},
     "output_type": "display_data"
    },
    {
     "data": {
      "text/plain": [
       "degree"
      ]
     },
     "metadata": {},
     "output_type": "display_data"
    },
    {
     "data": {
      "text/plain": [
       "Compressed Column Sparse (rows = 1, cols = 15, nnz = 15 [100%])"
      ]
     },
     "metadata": {},
     "output_type": "display_data"
    },
    {
     "data": {
      "text/plain": []
     },
     "metadata": {},
     "output_type": "display_data"
    },
    {
     "data": {
      "text/plain": [
       "  (1, 1) ->  6"
      ]
     },
     "metadata": {},
     "output_type": "display_data"
    },
    {
     "data": {
      "text/plain": [
       "  (1, 2) ->  8"
      ]
     },
     "metadata": {},
     "output_type": "display_data"
    },
    {
     "data": {
      "text/plain": [
       "  (1, 3) ->  6"
      ]
     },
     "metadata": {},
     "output_type": "display_data"
    },
    {
     "data": {
      "text/plain": [
       "  (1, 4) ->  12"
      ]
     },
     "metadata": {},
     "output_type": "display_data"
    },
    {
     "data": {
      "text/plain": [
       "  (1, 5) ->  10"
      ]
     },
     "metadata": {},
     "output_type": "display_data"
    },
    {
     "data": {
      "text/plain": [
       "  (1, 6) ->  8"
      ]
     },
     "metadata": {},
     "output_type": "display_data"
    },
    {
     "data": {
      "text/plain": [
       "  (1, 7) ->  12"
      ]
     },
     "metadata": {},
     "output_type": "display_data"
    },
    {
     "data": {
      "text/plain": [
       "  (1, 8) ->  8"
      ]
     },
     "metadata": {},
     "output_type": "display_data"
    },
    {
     "data": {
      "text/plain": [
       "  (1, 9) ->  8"
      ]
     },
     "metadata": {},
     "output_type": "display_data"
    },
    {
     "data": {
      "text/plain": [
       "  (1, 10) ->  8"
      ]
     },
     "metadata": {},
     "output_type": "display_data"
    },
    {
     "data": {
      "text/plain": [
       "  (1, 11) ->  6"
      ]
     },
     "metadata": {},
     "output_type": "display_data"
    },
    {
     "data": {
      "text/plain": [
       "  (1, 12) ->  8"
      ]
     },
     "metadata": {},
     "output_type": "display_data"
    },
    {
     "data": {
      "text/plain": [
       "  (1, 13) ->  10"
      ]
     },
     "metadata": {},
     "output_type": "display_data"
    },
    {
     "data": {
      "text/plain": [
       "  (1, 14) ->  10"
      ]
     },
     "metadata": {},
     "output_type": "display_data"
    },
    {
     "data": {
      "text/plain": [
       "  (1, 15) ->  8"
      ]
     },
     "metadata": {},
     "output_type": "display_data"
    },
    {
     "data": {
      "text/plain": [
       "i =  15"
      ]
     },
     "metadata": {},
     "output_type": "display_data"
    },
    {
     "data": {
      "text/plain": [
       "ii =  15"
      ]
     },
     "metadata": {},
     "output_type": "display_data"
    },
    {
     "data": {
      "text/plain": [
       "normaDeterrence ="
      ]
     },
     "metadata": {},
     "output_type": "display_data"
    },
    {
     "data": {
      "text/plain": []
     },
     "metadata": {},
     "output_type": "display_data"
    },
    {
     "data": {
      "text/plain": [
       "   0"
      ]
     },
     "metadata": {},
     "output_type": "display_data"
    },
    {
     "data": {
      "text/plain": [
       "   0"
      ]
     },
     "metadata": {},
     "output_type": "display_data"
    },
    {
     "data": {
      "text/plain": [
       "   0"
      ]
     },
     "metadata": {},
     "output_type": "display_data"
    },
    {
     "data": {
      "text/plain": [
       "   0"
      ]
     },
     "metadata": {},
     "output_type": "display_data"
    },
    {
     "data": {
      "text/plain": [
       "   0"
      ]
     },
     "metadata": {},
     "output_type": "display_data"
    },
    {
     "data": {
      "text/plain": [
       "   0"
      ]
     },
     "metadata": {},
     "output_type": "display_data"
    },
    {
     "data": {
      "text/plain": [
       "   0"
      ]
     },
     "metadata": {},
     "output_type": "display_data"
    },
    {
     "data": {
      "text/plain": [
       "   0"
      ]
     },
     "metadata": {},
     "output_type": "display_data"
    },
    {
     "data": {
      "text/plain": [
       "   0"
      ]
     },
     "metadata": {},
     "output_type": "display_data"
    },
    {
     "data": {
      "text/plain": [
       "   0"
      ]
     },
     "metadata": {},
     "output_type": "display_data"
    },
    {
     "data": {
      "text/plain": [
       "   0"
      ]
     },
     "metadata": {},
     "output_type": "display_data"
    },
    {
     "data": {
      "text/plain": [
       "   0"
      ]
     },
     "metadata": {},
     "output_type": "display_data"
    },
    {
     "data": {
      "text/plain": [
       "   0"
      ]
     },
     "metadata": {},
     "output_type": "display_data"
    },
    {
     "data": {
      "text/plain": [
       "   0"
      ]
     },
     "metadata": {},
     "output_type": "display_data"
    },
    {
     "data": {
      "text/plain": [
       "   0"
      ]
     },
     "metadata": {},
     "output_type": "display_data"
    },
    {
     "data": {
      "text/plain": [
       "   0"
      ]
     },
     "metadata": {},
     "output_type": "display_data"
    },
    {
     "data": {
      "text/plain": [
       "   0"
      ]
     },
     "metadata": {},
     "output_type": "display_data"
    },
    {
     "data": {
      "text/plain": [
       "   0"
      ]
     },
     "metadata": {},
     "output_type": "display_data"
    },
    {
     "data": {
      "text/plain": [
       "   0"
      ]
     },
     "metadata": {},
     "output_type": "display_data"
    },
    {
     "data": {
      "text/plain": [
       "   0"
      ]
     },
     "metadata": {},
     "output_type": "display_data"
    },
    {
     "data": {
      "text/plain": [
       "   0"
      ]
     },
     "metadata": {},
     "output_type": "display_data"
    },
    {
     "data": {
      "text/plain": [
       "   0"
      ]
     },
     "metadata": {},
     "output_type": "display_data"
    },
    {
     "data": {
      "text/plain": [
       "   0"
      ]
     },
     "metadata": {},
     "output_type": "display_data"
    },
    {
     "data": {
      "text/plain": [
       "   0"
      ]
     },
     "metadata": {},
     "output_type": "display_data"
    },
    {
     "data": {
      "text/plain": [
       "   0"
      ]
     },
     "metadata": {},
     "output_type": "display_data"
    },
    {
     "data": {
      "text/plain": [
       "   0"
      ]
     },
     "metadata": {},
     "output_type": "display_data"
    },
    {
     "data": {
      "text/plain": [
       "   0"
      ]
     },
     "metadata": {},
     "output_type": "display_data"
    },
    {
     "data": {
      "text/plain": [
       "   0"
      ]
     },
     "metadata": {},
     "output_type": "display_data"
    },
    {
     "data": {
      "text/plain": [
       "   0"
      ]
     },
     "metadata": {},
     "output_type": "display_data"
    },
    {
     "data": {
      "text/plain": [
       "   0"
      ]
     },
     "metadata": {},
     "output_type": "display_data"
    },
    {
     "data": {
      "text/plain": [
       "   0"
      ]
     },
     "metadata": {},
     "output_type": "display_data"
    },
    {
     "data": {
      "text/plain": [
       "   0"
      ]
     },
     "metadata": {},
     "output_type": "display_data"
    },
    {
     "data": {
      "text/plain": [
       "   0"
      ]
     },
     "metadata": {},
     "output_type": "display_data"
    },
    {
     "data": {
      "text/plain": [
       "   0"
      ]
     },
     "metadata": {},
     "output_type": "display_data"
    },
    {
     "data": {
      "text/plain": [
       "   0"
      ]
     },
     "metadata": {},
     "output_type": "display_data"
    },
    {
     "data": {
      "text/plain": [
       "   0"
      ]
     },
     "metadata": {},
     "output_type": "display_data"
    },
    {
     "data": {
      "text/plain": [
       "   0"
      ]
     },
     "metadata": {},
     "output_type": "display_data"
    },
    {
     "data": {
      "text/plain": [
       "   0"
      ]
     },
     "metadata": {},
     "output_type": "display_data"
    },
    {
     "data": {
      "text/plain": [
       "   0"
      ]
     },
     "metadata": {},
     "output_type": "display_data"
    },
    {
     "data": {
      "text/plain": [
       "   0"
      ]
     },
     "metadata": {},
     "output_type": "display_data"
    },
    {
     "data": {
      "text/plain": [
       "   0"
      ]
     },
     "metadata": {},
     "output_type": "display_data"
    },
    {
     "data": {
      "text/plain": [
       "   0"
      ]
     },
     "metadata": {},
     "output_type": "display_data"
    },
    {
     "data": {
      "text/plain": [
       "   0"
      ]
     },
     "metadata": {},
     "output_type": "display_data"
    },
    {
     "data": {
      "text/plain": [
       "   0"
      ]
     },
     "metadata": {},
     "output_type": "display_data"
    },
    {
     "data": {
      "text/plain": [
       "   0"
      ]
     },
     "metadata": {},
     "output_type": "display_data"
    },
    {
     "data": {
      "text/plain": [
       "   0"
      ]
     },
     "metadata": {},
     "output_type": "display_data"
    },
    {
     "data": {
      "text/plain": [
       "   0"
      ]
     },
     "metadata": {},
     "output_type": "display_data"
    },
    {
     "data": {
      "text/plain": [
       "   0"
      ]
     },
     "metadata": {},
     "output_type": "display_data"
    },
    {
     "data": {
      "text/plain": [
       "   0"
      ]
     },
     "metadata": {},
     "output_type": "display_data"
    },
    {
     "data": {
      "text/plain": [
       "   0"
      ]
     },
     "metadata": {},
     "output_type": "display_data"
    },
    {
     "data": {
      "text/plain": [
       "   0"
      ]
     },
     "metadata": {},
     "output_type": "display_data"
    },
    {
     "data": {
      "text/plain": [
       "   0"
      ]
     },
     "metadata": {},
     "output_type": "display_data"
    },
    {
     "data": {
      "text/plain": [
       "   0"
      ]
     },
     "metadata": {},
     "output_type": "display_data"
    },
    {
     "data": {
      "text/plain": [
       "   0"
      ]
     },
     "metadata": {},
     "output_type": "display_data"
    },
    {
     "data": {
      "text/plain": [
       "   0"
      ]
     },
     "metadata": {},
     "output_type": "display_data"
    },
    {
     "data": {
      "text/plain": [
       "   0"
      ]
     },
     "metadata": {},
     "output_type": "display_data"
    },
    {
     "data": {
      "text/plain": [
       "   0"
      ]
     },
     "metadata": {},
     "output_type": "display_data"
    },
    {
     "data": {
      "text/plain": [
       "   0"
      ]
     },
     "metadata": {},
     "output_type": "display_data"
    },
    {
     "data": {
      "text/plain": [
       "   0"
      ]
     },
     "metadata": {},
     "output_type": "display_data"
    },
    {
     "data": {
      "text/plain": [
       "   0"
      ]
     },
     "metadata": {},
     "output_type": "display_data"
    },
    {
     "data": {
      "text/plain": [
       "   0"
      ]
     },
     "metadata": {},
     "output_type": "display_data"
    },
    {
     "data": {
      "text/plain": [
       "   0"
      ]
     },
     "metadata": {},
     "output_type": "display_data"
    },
    {
     "data": {
      "text/plain": [
       "   0"
      ]
     },
     "metadata": {},
     "output_type": "display_data"
    },
    {
     "data": {
      "text/plain": [
       "   0"
      ]
     },
     "metadata": {},
     "output_type": "display_data"
    },
    {
     "data": {
      "text/plain": [
       "   0"
      ]
     },
     "metadata": {},
     "output_type": "display_data"
    },
    {
     "data": {
      "text/plain": [
       "   0"
      ]
     },
     "metadata": {},
     "output_type": "display_data"
    },
    {
     "data": {
      "text/plain": [
       "   0"
      ]
     },
     "metadata": {},
     "output_type": "display_data"
    },
    {
     "data": {
      "text/plain": [
       "   0"
      ]
     },
     "metadata": {},
     "output_type": "display_data"
    },
    {
     "data": {
      "text/plain": [
       "   0"
      ]
     },
     "metadata": {},
     "output_type": "display_data"
    },
    {
     "data": {
      "text/plain": [
       "   0"
      ]
     },
     "metadata": {},
     "output_type": "display_data"
    },
    {
     "data": {
      "text/plain": [
       "   0"
      ]
     },
     "metadata": {},
     "output_type": "display_data"
    },
    {
     "data": {
      "text/plain": [
       "   0"
      ]
     },
     "metadata": {},
     "output_type": "display_data"
    },
    {
     "data": {
      "text/plain": [
       "   0"
      ]
     },
     "metadata": {},
     "output_type": "display_data"
    },
    {
     "data": {
      "text/plain": [
       "   0"
      ]
     },
     "metadata": {},
     "output_type": "display_data"
    },
    {
     "data": {
      "text/plain": [
       "   0"
      ]
     },
     "metadata": {},
     "output_type": "display_data"
    },
    {
     "data": {
      "text/plain": [
       "   0"
      ]
     },
     "metadata": {},
     "output_type": "display_data"
    },
    {
     "data": {
      "text/plain": [
       "   0"
      ]
     },
     "metadata": {},
     "output_type": "display_data"
    },
    {
     "data": {
      "text/plain": [
       "   0"
      ]
     },
     "metadata": {},
     "output_type": "display_data"
    },
    {
     "data": {
      "text/plain": [
       "   0"
      ]
     },
     "metadata": {},
     "output_type": "display_data"
    },
    {
     "data": {
      "text/plain": [
       "   0"
      ]
     },
     "metadata": {},
     "output_type": "display_data"
    },
    {
     "data": {
      "text/plain": [
       "   0"
      ]
     },
     "metadata": {},
     "output_type": "display_data"
    },
    {
     "data": {
      "text/plain": [
       "   0"
      ]
     },
     "metadata": {},
     "output_type": "display_data"
    },
    {
     "data": {
      "text/plain": [
       "   0"
      ]
     },
     "metadata": {},
     "output_type": "display_data"
    },
    {
     "data": {
      "text/plain": [
       "   0"
      ]
     },
     "metadata": {},
     "output_type": "display_data"
    },
    {
     "data": {
      "text/plain": [
       "   0"
      ]
     },
     "metadata": {},
     "output_type": "display_data"
    },
    {
     "data": {
      "text/plain": [
       "   0"
      ]
     },
     "metadata": {},
     "output_type": "display_data"
    },
    {
     "data": {
      "text/plain": [
       "   0"
      ]
     },
     "metadata": {},
     "output_type": "display_data"
    },
    {
     "data": {
      "text/plain": [
       "   0"
      ]
     },
     "metadata": {},
     "output_type": "display_data"
    },
    {
     "data": {
      "text/plain": [
       "   0"
      ]
     },
     "metadata": {},
     "output_type": "display_data"
    },
    {
     "data": {
      "text/plain": [
       "   0"
      ]
     },
     "metadata": {},
     "output_type": "display_data"
    },
    {
     "data": {
      "text/plain": [
       "   0"
      ]
     },
     "metadata": {},
     "output_type": "display_data"
    },
    {
     "data": {
      "text/plain": [
       "   0"
      ]
     },
     "metadata": {},
     "output_type": "display_data"
    },
    {
     "data": {
      "text/plain": [
       "   0"
      ]
     },
     "metadata": {},
     "output_type": "display_data"
    },
    {
     "data": {
      "text/plain": [
       "   0"
      ]
     },
     "metadata": {},
     "output_type": "display_data"
    },
    {
     "data": {
      "text/plain": [
       "   0"
      ]
     },
     "metadata": {},
     "output_type": "display_data"
    },
    {
     "data": {
      "text/plain": [
       "   0"
      ]
     },
     "metadata": {},
     "output_type": "display_data"
    },
    {
     "data": {
      "text/plain": [
       "   0"
      ]
     },
     "metadata": {},
     "output_type": "display_data"
    },
    {
     "data": {
      "text/plain": [
       "   0"
      ]
     },
     "metadata": {},
     "output_type": "display_data"
    },
    {
     "data": {
      "text/plain": [
       "   0"
      ]
     },
     "metadata": {},
     "output_type": "display_data"
    },
    {
     "data": {
      "text/plain": [
       "   0"
      ]
     },
     "metadata": {},
     "output_type": "display_data"
    },
    {
     "data": {
      "text/plain": []
     },
     "metadata": {},
     "output_type": "display_data"
    },
    {
     "data": {
      "text/plain": [
       "bent"
      ]
     },
     "metadata": {},
     "output_type": "display_data"
    },
    {
     "data": {
      "text/plain": [
       "bent_2"
      ]
     },
     "metadata": {},
     "output_type": "display_data"
    },
    {
     "data": {
      "text/plain": [
       "bent_2"
      ]
     },
     "metadata": {},
     "output_type": "display_data"
    },
    {
     "data": {
      "text/plain": [
       "bent_2"
      ]
     },
     "metadata": {},
     "output_type": "display_data"
    },
    {
     "data": {
      "text/plain": [
       "bent_2"
      ]
     },
     "metadata": {},
     "output_type": "display_data"
    },
    {
     "data": {
      "text/plain": [
       "bent_2"
      ]
     },
     "metadata": {},
     "output_type": "display_data"
    },
    {
     "data": {
      "text/plain": [
       "bent_2"
      ]
     },
     "metadata": {},
     "output_type": "display_data"
    },
    {
     "data": {
      "text/plain": [
       "bent_2"
      ]
     },
     "metadata": {},
     "output_type": "display_data"
    },
    {
     "data": {
      "text/plain": [
       "bent_2"
      ]
     },
     "metadata": {},
     "output_type": "display_data"
    },
    {
     "data": {
      "text/plain": [
       "bent_2"
      ]
     },
     "metadata": {},
     "output_type": "display_data"
    },
    {
     "data": {
      "text/plain": [
       "bent_2"
      ]
     },
     "metadata": {},
     "output_type": "display_data"
    },
    {
     "data": {
      "text/plain": [
       "bent_2"
      ]
     },
     "metadata": {},
     "output_type": "display_data"
    },
    {
     "data": {
      "text/plain": [
       "bent_2"
      ]
     },
     "metadata": {},
     "output_type": "display_data"
    },
    {
     "data": {
      "text/plain": [
       "bent_2"
      ]
     },
     "metadata": {},
     "output_type": "display_data"
    },
    {
     "data": {
      "text/plain": [
       "bent_2"
      ]
     },
     "metadata": {},
     "output_type": "display_data"
    },
    {
     "data": {
      "text/plain": [
       "bent_2"
      ]
     },
     "metadata": {},
     "output_type": "display_data"
    },
    {
     "data": {
      "text/plain": [
       "bent_2"
      ]
     },
     "metadata": {},
     "output_type": "display_data"
    },
    {
     "data": {
      "text/plain": [
       "bent_2"
      ]
     },
     "metadata": {},
     "output_type": "display_data"
    },
    {
     "data": {
      "text/plain": [
       "bent_2"
      ]
     },
     "metadata": {},
     "output_type": "display_data"
    },
    {
     "data": {
      "text/plain": [
       "bent_2"
      ]
     },
     "metadata": {},
     "output_type": "display_data"
    },
    {
     "data": {
      "text/plain": [
       "bent_2"
      ]
     },
     "metadata": {},
     "output_type": "display_data"
    },
    {
     "data": {
      "text/plain": [
       "bent_2"
      ]
     },
     "metadata": {},
     "output_type": "display_data"
    },
    {
     "data": {
      "text/plain": [
       "bent_2"
      ]
     },
     "metadata": {},
     "output_type": "display_data"
    },
    {
     "data": {
      "text/plain": [
       "bent_2"
      ]
     },
     "metadata": {},
     "output_type": "display_data"
    },
    {
     "data": {
      "text/plain": [
       "bent_2"
      ]
     },
     "metadata": {},
     "output_type": "display_data"
    },
    {
     "data": {
      "text/plain": [
       "bent_2"
      ]
     },
     "metadata": {},
     "output_type": "display_data"
    },
    {
     "data": {
      "text/plain": [
       "bent_2"
      ]
     },
     "metadata": {},
     "output_type": "display_data"
    },
    {
     "data": {
      "text/plain": [
       "bent_2"
      ]
     },
     "metadata": {},
     "output_type": "display_data"
    },
    {
     "data": {
      "text/plain": [
       "bent_2"
      ]
     },
     "metadata": {},
     "output_type": "display_data"
    },
    {
     "data": {
      "text/plain": [
       "bent_2"
      ]
     },
     "metadata": {},
     "output_type": "display_data"
    },
    {
     "data": {
      "text/plain": [
       "bent_2"
      ]
     },
     "metadata": {},
     "output_type": "display_data"
    },
    {
     "data": {
      "text/plain": [
       "bent_2"
      ]
     },
     "metadata": {},
     "output_type": "display_data"
    },
    {
     "data": {
      "text/plain": [
       "bent_2"
      ]
     },
     "metadata": {},
     "output_type": "display_data"
    },
    {
     "data": {
      "text/plain": [
       "bent_2"
      ]
     },
     "metadata": {},
     "output_type": "display_data"
    },
    {
     "data": {
      "text/plain": [
       "bent_2"
      ]
     },
     "metadata": {},
     "output_type": "display_data"
    },
    {
     "data": {
      "text/plain": [
       "bent_2"
      ]
     },
     "metadata": {},
     "output_type": "display_data"
    },
    {
     "data": {
      "text/plain": [
       "bent_2"
      ]
     },
     "metadata": {},
     "output_type": "display_data"
    },
    {
     "data": {
      "text/plain": [
       "bent_2"
      ]
     },
     "metadata": {},
     "output_type": "display_data"
    },
    {
     "data": {
      "text/plain": [
       "bent_2"
      ]
     },
     "metadata": {},
     "output_type": "display_data"
    },
    {
     "data": {
      "text/plain": [
       "bent_2"
      ]
     },
     "metadata": {},
     "output_type": "display_data"
    },
    {
     "data": {
      "text/plain": [
       "bent_2"
      ]
     },
     "metadata": {},
     "output_type": "display_data"
    },
    {
     "data": {
      "text/plain": [
       "bent_2"
      ]
     },
     "metadata": {},
     "output_type": "display_data"
    },
    {
     "data": {
      "text/plain": [
       "bent_2"
      ]
     },
     "metadata": {},
     "output_type": "display_data"
    },
    {
     "data": {
      "text/plain": [
       "bent_2"
      ]
     },
     "metadata": {},
     "output_type": "display_data"
    },
    {
     "data": {
      "text/plain": [
       "bent_2"
      ]
     },
     "metadata": {},
     "output_type": "display_data"
    },
    {
     "data": {
      "text/plain": [
       "bent_2"
      ]
     },
     "metadata": {},
     "output_type": "display_data"
    },
    {
     "data": {
      "text/plain": [
       "bent_2"
      ]
     },
     "metadata": {},
     "output_type": "display_data"
    },
    {
     "data": {
      "text/plain": [
       "bent_2"
      ]
     },
     "metadata": {},
     "output_type": "display_data"
    },
    {
     "data": {
      "text/plain": [
       "bent_2"
      ]
     },
     "metadata": {},
     "output_type": "display_data"
    },
    {
     "data": {
      "text/plain": [
       "bent_2"
      ]
     },
     "metadata": {},
     "output_type": "display_data"
    },
    {
     "data": {
      "text/plain": [
       "bent_2"
      ]
     },
     "metadata": {},
     "output_type": "display_data"
    },
    {
     "data": {
      "text/plain": [
       "bent_2"
      ]
     },
     "metadata": {},
     "output_type": "display_data"
    },
    {
     "data": {
      "text/plain": [
       "bent_2"
      ]
     },
     "metadata": {},
     "output_type": "display_data"
    },
    {
     "data": {
      "text/plain": [
       "bent_2"
      ]
     },
     "metadata": {},
     "output_type": "display_data"
    },
    {
     "data": {
      "text/plain": [
       "bent_2"
      ]
     },
     "metadata": {},
     "output_type": "display_data"
    },
    {
     "data": {
      "text/plain": [
       "bent_2"
      ]
     },
     "metadata": {},
     "output_type": "display_data"
    },
    {
     "data": {
      "text/plain": [
       "bent_2"
      ]
     },
     "metadata": {},
     "output_type": "display_data"
    },
    {
     "data": {
      "text/plain": [
       "bent_2"
      ]
     },
     "metadata": {},
     "output_type": "display_data"
    },
    {
     "data": {
      "text/plain": [
       "bent_2"
      ]
     },
     "metadata": {},
     "output_type": "display_data"
    },
    {
     "data": {
      "text/plain": [
       "bent_2"
      ]
     },
     "metadata": {},
     "output_type": "display_data"
    },
    {
     "data": {
      "text/plain": [
       "bent_2"
      ]
     },
     "metadata": {},
     "output_type": "display_data"
    },
    {
     "data": {
      "text/plain": [
       "bent_2"
      ]
     },
     "metadata": {},
     "output_type": "display_data"
    },
    {
     "data": {
      "text/plain": [
       "bent_2"
      ]
     },
     "metadata": {},
     "output_type": "display_data"
    },
    {
     "data": {
      "text/plain": [
       "bent_2"
      ]
     },
     "metadata": {},
     "output_type": "display_data"
    },
    {
     "data": {
      "text/plain": [
       "bent_2"
      ]
     },
     "metadata": {},
     "output_type": "display_data"
    },
    {
     "data": {
      "text/plain": [
       "bent_2"
      ]
     },
     "metadata": {},
     "output_type": "display_data"
    },
    {
     "data": {
      "text/plain": [
       "bent_2"
      ]
     },
     "metadata": {},
     "output_type": "display_data"
    },
    {
     "data": {
      "text/plain": [
       "bent_2"
      ]
     },
     "metadata": {},
     "output_type": "display_data"
    },
    {
     "data": {
      "text/plain": [
       "bent_2"
      ]
     },
     "metadata": {},
     "output_type": "display_data"
    },
    {
     "data": {
      "text/plain": [
       "bent_2"
      ]
     },
     "metadata": {},
     "output_type": "display_data"
    },
    {
     "data": {
      "text/plain": [
       "bent_2"
      ]
     },
     "metadata": {},
     "output_type": "display_data"
    },
    {
     "data": {
      "text/plain": [
       "bent_2"
      ]
     },
     "metadata": {},
     "output_type": "display_data"
    },
    {
     "data": {
      "text/plain": [
       "bent_2"
      ]
     },
     "metadata": {},
     "output_type": "display_data"
    },
    {
     "data": {
      "text/plain": [
       "bent_2"
      ]
     },
     "metadata": {},
     "output_type": "display_data"
    },
    {
     "data": {
      "text/plain": [
       "bent_2"
      ]
     },
     "metadata": {},
     "output_type": "display_data"
    },
    {
     "data": {
      "text/plain": [
       "bent_2"
      ]
     },
     "metadata": {},
     "output_type": "display_data"
    },
    {
     "data": {
      "text/plain": [
       "bent_2"
      ]
     },
     "metadata": {},
     "output_type": "display_data"
    },
    {
     "data": {
      "text/plain": [
       "bent_2"
      ]
     },
     "metadata": {},
     "output_type": "display_data"
    },
    {
     "data": {
      "text/plain": [
       "bent_2"
      ]
     },
     "metadata": {},
     "output_type": "display_data"
    },
    {
     "data": {
      "text/plain": [
       "bent_2"
      ]
     },
     "metadata": {},
     "output_type": "display_data"
    },
    {
     "data": {
      "text/plain": [
       "bent_2"
      ]
     },
     "metadata": {},
     "output_type": "display_data"
    },
    {
     "data": {
      "text/plain": [
       "bent_2"
      ]
     },
     "metadata": {},
     "output_type": "display_data"
    },
    {
     "data": {
      "text/plain": [
       "bent_2"
      ]
     },
     "metadata": {},
     "output_type": "display_data"
    },
    {
     "data": {
      "text/plain": [
       "bent_2"
      ]
     },
     "metadata": {},
     "output_type": "display_data"
    },
    {
     "data": {
      "text/plain": [
       "bent_2"
      ]
     },
     "metadata": {},
     "output_type": "display_data"
    },
    {
     "data": {
      "text/plain": [
       "bent_2"
      ]
     },
     "metadata": {},
     "output_type": "display_data"
    },
    {
     "data": {
      "text/plain": [
       "bent_2"
      ]
     },
     "metadata": {},
     "output_type": "display_data"
    },
    {
     "data": {
      "text/plain": [
       "bent_2"
      ]
     },
     "metadata": {},
     "output_type": "display_data"
    },
    {
     "data": {
      "text/plain": [
       "bent_2"
      ]
     },
     "metadata": {},
     "output_type": "display_data"
    },
    {
     "data": {
      "text/plain": [
       "bent_2"
      ]
     },
     "metadata": {},
     "output_type": "display_data"
    },
    {
     "data": {
      "text/plain": [
       "bent_2"
      ]
     },
     "metadata": {},
     "output_type": "display_data"
    },
    {
     "data": {
      "text/plain": [
       "bent_2"
      ]
     },
     "metadata": {},
     "output_type": "display_data"
    },
    {
     "data": {
      "text/plain": [
       "bent_2"
      ]
     },
     "metadata": {},
     "output_type": "display_data"
    },
    {
     "data": {
      "text/plain": [
       "bent_2"
      ]
     },
     "metadata": {},
     "output_type": "display_data"
    },
    {
     "data": {
      "text/plain": [
       "bent_2"
      ]
     },
     "metadata": {},
     "output_type": "display_data"
    },
    {
     "data": {
      "text/plain": [
       "bent_2"
      ]
     },
     "metadata": {},
     "output_type": "display_data"
    },
    {
     "data": {
      "text/plain": [
       "bent_2"
      ]
     },
     "metadata": {},
     "output_type": "display_data"
    },
    {
     "data": {
      "text/plain": [
       "bent_2"
      ]
     },
     "metadata": {},
     "output_type": "display_data"
    },
    {
     "data": {
      "text/plain": [
       "bent_2"
      ]
     },
     "metadata": {},
     "output_type": "display_data"
    },
    {
     "data": {
      "text/plain": [
       "bent_2"
      ]
     },
     "metadata": {},
     "output_type": "display_data"
    },
    {
     "data": {
      "text/plain": [
       "bent_2"
      ]
     },
     "metadata": {},
     "output_type": "display_data"
    },
    {
     "ename": "Oct2PyError",
     "evalue": "Octave evaluation error:\nerror: DeterrenceFct(0,_): subscripts must be either integers 1 to (2^31)-1 or logicals",
     "output_type": "error",
     "traceback": [
      "\u001b[0;31m---------------------------------------------------------------------------\u001b[0m",
      "\u001b[0;31mOct2PyError\u001b[0m                               Traceback (most recent call last)",
      "\u001b[0;32m<ipython-input-7-0e0703338e11>\u001b[0m in \u001b[0;36m<module>\u001b[0;34m\u001b[0m\n\u001b[0;32m----> 1\u001b[0;31m \u001b[0mget_ipython\u001b[0m\u001b[0;34m(\u001b[0m\u001b[0;34m)\u001b[0m\u001b[0;34m.\u001b[0m\u001b[0mrun_cell_magic\u001b[0m\u001b[0;34m(\u001b[0m\u001b[0;34m'octave'\u001b[0m\u001b[0;34m,\u001b[0m \u001b[0;34m'-i A,D,N,b -o dist,num,DeterrenceFct,normaDeterrence,matrixdistance,N,b'\u001b[0m\u001b[0;34m,\u001b[0m \u001b[0;34m\"\\naddpath('/home/ubuntu/GenLouvain/')\\naddpath('/home/ubuntu/GenLouvain/private/')\\n\\nnumber=size(A,1); %number of nodes in the system\\n\\nnbox=100; %number of bins, might need to increase it depending on your system and of level of coarse-graining\\n\\n% intialisation of different vectors and matrices\\nDeterrenceFct=zeros(nbox,1);\\nnormaDeterrence=zeros(nbox,1);\\nmatrixdistance=zeros(number,number);\\nnullmodelGN=zeros(number,number);\\nnullmodelSpa=zeros(number,number);\\n\\nA=A+A'; %symmetrised matrix (doesn't change the outcome of community detection (arXiv:0812.1770))\\ndegree=sum(A); % degree/strength of the nodes\\ndisp('degree')\\ndisp(degree)\\nnullN=N*N'; % matrix of the importance of nodes\\nmatrix=A./nullN; % normalised adjacency matrix\\n\\n% We first calculate the correlations as a function of distance\\n\\ni=number\\nii=number\\n\\n% convert distances in binsize's units\\ndist=1+ceil(D(i,ii)/b); \\nmatrixdistance(i,ii)=dist;\\n\\n% weighted average for the deterrence function\\nnum=matrix(i,ii);\\nDeterrenceFct(dist,1)=DeterrenceFct(dist,1)+num*N(i,1)*N(ii,1); %%%%% csak 1-től 10-ig van benne szám, 0 és 11+-ban nincs HIBA??\\nnormaDeterrence(dist,1)=normaDeterrence(dist,1)%+N(i,1)*N(ii,1); %%%% HIBA\\n\\ndisp('bent')\\n% normalisation of the deterrence function\\nfor i=1:nbox\\n    disp('bent_2')\\n    if(normaDeterrence(i,1)~=0)\\n        DeterrenceFct(i,1)=DeterrenceFct(i,1)/normaDeterrence(i,1);\\n    end\\nend\\n\\n% copmutation of the randomised correlations (preserving space), spatial\\n% null-model\\nfor i=1:number\\n    for ii=1:number\\n        nullmodelSpa(i,ii)=DeterrenceFct(matrixdistance(i,ii),1);\\n    end \\nend\\n\\n% the modularity matrix for the spatial null-model\\nModularitySpa=A-nullN.*nullmodelSpa*sum(sum(Flow))/sum(sum(nullN.*nullmodelSpa));\\n\\n% the modularity matrix for the GN null-model\\nnullmodelGN=degree'*degree/(sum(degree)); % Newman-Girvan null-model\\nModularityGN=A-nullmodelGN\\n\"\u001b[0m\u001b[0;34m)\u001b[0m\u001b[0;34m\u001b[0m\u001b[0;34m\u001b[0m\u001b[0m\n\u001b[0m",
      "\u001b[0;32m/home/ubuntu/anaconda3/lib/python3.7/site-packages/IPython/core/interactiveshell.py\u001b[0m in \u001b[0;36mrun_cell_magic\u001b[0;34m(self, magic_name, line, cell)\u001b[0m\n\u001b[1;32m   2321\u001b[0m             \u001b[0mmagic_arg_s\u001b[0m \u001b[0;34m=\u001b[0m \u001b[0mself\u001b[0m\u001b[0;34m.\u001b[0m\u001b[0mvar_expand\u001b[0m\u001b[0;34m(\u001b[0m\u001b[0mline\u001b[0m\u001b[0;34m,\u001b[0m \u001b[0mstack_depth\u001b[0m\u001b[0;34m)\u001b[0m\u001b[0;34m\u001b[0m\u001b[0;34m\u001b[0m\u001b[0m\n\u001b[1;32m   2322\u001b[0m             \u001b[0;32mwith\u001b[0m \u001b[0mself\u001b[0m\u001b[0;34m.\u001b[0m\u001b[0mbuiltin_trap\u001b[0m\u001b[0;34m:\u001b[0m\u001b[0;34m\u001b[0m\u001b[0;34m\u001b[0m\u001b[0m\n\u001b[0;32m-> 2323\u001b[0;31m                 \u001b[0mresult\u001b[0m \u001b[0;34m=\u001b[0m \u001b[0mfn\u001b[0m\u001b[0;34m(\u001b[0m\u001b[0mmagic_arg_s\u001b[0m\u001b[0;34m,\u001b[0m \u001b[0mcell\u001b[0m\u001b[0;34m)\u001b[0m\u001b[0;34m\u001b[0m\u001b[0;34m\u001b[0m\u001b[0m\n\u001b[0m\u001b[1;32m   2324\u001b[0m             \u001b[0;32mreturn\u001b[0m \u001b[0mresult\u001b[0m\u001b[0;34m\u001b[0m\u001b[0;34m\u001b[0m\u001b[0m\n\u001b[1;32m   2325\u001b[0m \u001b[0;34m\u001b[0m\u001b[0m\n",
      "\u001b[0;32m<decorator-gen-157>\u001b[0m in \u001b[0;36moctave\u001b[0;34m(self, line, cell, local_ns)\u001b[0m\n",
      "\u001b[0;32m/home/ubuntu/anaconda3/lib/python3.7/site-packages/IPython/core/magic.py\u001b[0m in \u001b[0;36m<lambda>\u001b[0;34m(f, *a, **k)\u001b[0m\n\u001b[1;32m    185\u001b[0m     \u001b[0;31m# but it's overkill for just that one bit of state.\u001b[0m\u001b[0;34m\u001b[0m\u001b[0;34m\u001b[0m\u001b[0;34m\u001b[0m\u001b[0m\n\u001b[1;32m    186\u001b[0m     \u001b[0;32mdef\u001b[0m \u001b[0mmagic_deco\u001b[0m\u001b[0;34m(\u001b[0m\u001b[0marg\u001b[0m\u001b[0;34m)\u001b[0m\u001b[0;34m:\u001b[0m\u001b[0;34m\u001b[0m\u001b[0;34m\u001b[0m\u001b[0m\n\u001b[0;32m--> 187\u001b[0;31m         \u001b[0mcall\u001b[0m \u001b[0;34m=\u001b[0m \u001b[0;32mlambda\u001b[0m \u001b[0mf\u001b[0m\u001b[0;34m,\u001b[0m \u001b[0;34m*\u001b[0m\u001b[0ma\u001b[0m\u001b[0;34m,\u001b[0m \u001b[0;34m**\u001b[0m\u001b[0mk\u001b[0m\u001b[0;34m:\u001b[0m \u001b[0mf\u001b[0m\u001b[0;34m(\u001b[0m\u001b[0;34m*\u001b[0m\u001b[0ma\u001b[0m\u001b[0;34m,\u001b[0m \u001b[0;34m**\u001b[0m\u001b[0mk\u001b[0m\u001b[0;34m)\u001b[0m\u001b[0;34m\u001b[0m\u001b[0;34m\u001b[0m\u001b[0m\n\u001b[0m\u001b[1;32m    188\u001b[0m \u001b[0;34m\u001b[0m\u001b[0m\n\u001b[1;32m    189\u001b[0m         \u001b[0;32mif\u001b[0m \u001b[0mcallable\u001b[0m\u001b[0;34m(\u001b[0m\u001b[0marg\u001b[0m\u001b[0;34m)\u001b[0m\u001b[0;34m:\u001b[0m\u001b[0;34m\u001b[0m\u001b[0;34m\u001b[0m\u001b[0m\n",
      "\u001b[0;32m/home/ubuntu/anaconda3/lib/python3.7/site-packages/oct2py/ipython/octavemagic.py\u001b[0m in \u001b[0;36moctave\u001b[0;34m(self, line, cell, local_ns)\u001b[0m\n\u001b[1;32m    254\u001b[0m             \u001b[0mplot_dir\u001b[0m\u001b[0;34m=\u001b[0m\u001b[0mplot_dir\u001b[0m\u001b[0;34m,\u001b[0m \u001b[0mplot_width\u001b[0m\u001b[0;34m=\u001b[0m\u001b[0mwidth\u001b[0m\u001b[0;34m,\u001b[0m \u001b[0mplot_height\u001b[0m\u001b[0;34m=\u001b[0m\u001b[0mheight\u001b[0m\u001b[0;34m,\u001b[0m\u001b[0;34m\u001b[0m\u001b[0;34m\u001b[0m\u001b[0m\n\u001b[1;32m    255\u001b[0m             \u001b[0mplot_format\u001b[0m\u001b[0;34m=\u001b[0m\u001b[0margs\u001b[0m\u001b[0;34m.\u001b[0m\u001b[0mformat\u001b[0m\u001b[0;34m,\u001b[0m \u001b[0mplot_name\u001b[0m\u001b[0;34m=\u001b[0m\u001b[0;34m'__ipy_oct_fig_'\u001b[0m\u001b[0;34m,\u001b[0m\u001b[0;34m\u001b[0m\u001b[0;34m\u001b[0m\u001b[0m\n\u001b[0;32m--> 256\u001b[0;31m             resolution=args.resolution)\n\u001b[0m\u001b[1;32m    257\u001b[0m \u001b[0;34m\u001b[0m\u001b[0m\n\u001b[1;32m    258\u001b[0m         \u001b[0;31m# Publish output\u001b[0m\u001b[0;34m\u001b[0m\u001b[0;34m\u001b[0m\u001b[0;34m\u001b[0m\u001b[0m\n",
      "\u001b[0;32m/home/ubuntu/anaconda3/lib/python3.7/site-packages/oct2py/core.py\u001b[0m in \u001b[0;36meval\u001b[0;34m(self, cmds, verbose, timeout, stream_handler, temp_dir, plot_dir, plot_name, plot_format, plot_backend, plot_width, plot_height, plot_res, nout, **kwargs)\u001b[0m\n\u001b[1;32m    498\u001b[0m                               \u001b[0mplot_backend\u001b[0m\u001b[0;34m=\u001b[0m\u001b[0mplot_backend\u001b[0m\u001b[0;34m,\u001b[0m\u001b[0;34m\u001b[0m\u001b[0;34m\u001b[0m\u001b[0m\n\u001b[1;32m    499\u001b[0m                               \u001b[0mplot_width\u001b[0m\u001b[0;34m=\u001b[0m\u001b[0mplot_width\u001b[0m\u001b[0;34m,\u001b[0m \u001b[0mplot_height\u001b[0m\u001b[0;34m=\u001b[0m\u001b[0mplot_height\u001b[0m\u001b[0;34m,\u001b[0m\u001b[0;34m\u001b[0m\u001b[0;34m\u001b[0m\u001b[0m\n\u001b[0;32m--> 500\u001b[0;31m                               plot_res=plot_res)\n\u001b[0m\u001b[1;32m    501\u001b[0m             \u001b[0;32mif\u001b[0m \u001b[0mresp\u001b[0m \u001b[0;32mis\u001b[0m \u001b[0;32mnot\u001b[0m \u001b[0;32mNone\u001b[0m\u001b[0;34m:\u001b[0m\u001b[0;34m\u001b[0m\u001b[0;34m\u001b[0m\u001b[0m\n\u001b[1;32m    502\u001b[0m                 \u001b[0mans\u001b[0m \u001b[0;34m=\u001b[0m \u001b[0mresp\u001b[0m\u001b[0;34m\u001b[0m\u001b[0;34m\u001b[0m\u001b[0m\n",
      "\u001b[0;32m/home/ubuntu/anaconda3/lib/python3.7/site-packages/oct2py/core.py\u001b[0m in \u001b[0;36mfeval\u001b[0;34m(self, func_path, *func_args, **kwargs)\u001b[0m\n\u001b[1;32m    380\u001b[0m         return self._feval(func_name, func_args, dname=dname, nout=nout,\n\u001b[1;32m    381\u001b[0m                           \u001b[0mtimeout\u001b[0m\u001b[0;34m=\u001b[0m\u001b[0mtimeout\u001b[0m\u001b[0;34m,\u001b[0m \u001b[0mstream_handler\u001b[0m\u001b[0;34m=\u001b[0m\u001b[0mstream_handler\u001b[0m\u001b[0;34m,\u001b[0m\u001b[0;34m\u001b[0m\u001b[0;34m\u001b[0m\u001b[0m\n\u001b[0;32m--> 382\u001b[0;31m                           store_as=store_as, plot_dir=plot_dir)\n\u001b[0m\u001b[1;32m    383\u001b[0m \u001b[0;34m\u001b[0m\u001b[0m\n\u001b[1;32m    384\u001b[0m     def eval(self, cmds, verbose=True, timeout=None, stream_handler=None,\n",
      "\u001b[0;32m/home/ubuntu/anaconda3/lib/python3.7/site-packages/oct2py/core.py\u001b[0m in \u001b[0;36m_feval\u001b[0;34m(self, func_name, func_args, dname, nout, timeout, stream_handler, store_as, plot_dir)\u001b[0m\n\u001b[1;32m    580\u001b[0m         \u001b[0;32mif\u001b[0m \u001b[0mresp\u001b[0m\u001b[0;34m[\u001b[0m\u001b[0;34m'err'\u001b[0m\u001b[0;34m]\u001b[0m\u001b[0;34m:\u001b[0m\u001b[0;34m\u001b[0m\u001b[0;34m\u001b[0m\u001b[0m\n\u001b[1;32m    581\u001b[0m             \u001b[0mmsg\u001b[0m \u001b[0;34m=\u001b[0m \u001b[0mself\u001b[0m\u001b[0;34m.\u001b[0m\u001b[0m_parse_error\u001b[0m\u001b[0;34m(\u001b[0m\u001b[0mresp\u001b[0m\u001b[0;34m[\u001b[0m\u001b[0;34m'err'\u001b[0m\u001b[0;34m]\u001b[0m\u001b[0;34m)\u001b[0m\u001b[0;34m\u001b[0m\u001b[0;34m\u001b[0m\u001b[0m\n\u001b[0;32m--> 582\u001b[0;31m             \u001b[0;32mraise\u001b[0m \u001b[0mOct2PyError\u001b[0m\u001b[0;34m(\u001b[0m\u001b[0mmsg\u001b[0m\u001b[0;34m)\u001b[0m\u001b[0;34m\u001b[0m\u001b[0;34m\u001b[0m\u001b[0m\n\u001b[0m\u001b[1;32m    583\u001b[0m \u001b[0;34m\u001b[0m\u001b[0m\n\u001b[1;32m    584\u001b[0m         \u001b[0mresult\u001b[0m \u001b[0;34m=\u001b[0m \u001b[0mresp\u001b[0m\u001b[0;34m[\u001b[0m\u001b[0;34m'result'\u001b[0m\u001b[0;34m]\u001b[0m\u001b[0;34m.\u001b[0m\u001b[0mravel\u001b[0m\u001b[0;34m(\u001b[0m\u001b[0;34m)\u001b[0m\u001b[0;34m.\u001b[0m\u001b[0mtolist\u001b[0m\u001b[0;34m(\u001b[0m\u001b[0;34m)\u001b[0m\u001b[0;34m\u001b[0m\u001b[0;34m\u001b[0m\u001b[0m\n",
      "\u001b[0;31mOct2PyError\u001b[0m: Octave evaluation error:\nerror: DeterrenceFct(0,_): subscripts must be either integers 1 to (2^31)-1 or logicals"
     ]
    }
   ],
   "source": [
    "%%octave -i A,D,N,b -o dist,num,DeterrenceFct,normaDeterrence,matrixdistance,N,b\n",
    "\n",
    "addpath('/home/ubuntu/GenLouvain/')\n",
    "addpath('/home/ubuntu/GenLouvain/private/')\n",
    "\n",
    "number=size(A,1); %number of nodes in the system\n",
    "\n",
    "nbox=100; %number of bins, might need to increase it depending on your system and of level of coarse-graining\n",
    "\n",
    "% intialisation of different vectors and matrices\n",
    "DeterrenceFct=zeros(nbox,1);\n",
    "normaDeterrence=zeros(nbox,1);\n",
    "matrixdistance=zeros(number,number);\n",
    "nullmodelGN=zeros(number,number);\n",
    "nullmodelSpa=zeros(number,number);\n",
    "\n",
    "A=A+A'; %symmetrised matrix (doesn't change the outcome of community detection (arXiv:0812.1770))\n",
    "degree=sum(A); % degree/strength of the nodes\n",
    "disp('degree')\n",
    "disp(degree)\n",
    "nullN=N*N'; % matrix of the importance of nodes\n",
    "matrix=A./nullN; % normalised adjacency matrix\n",
    "\n",
    "% We first calculate the correlations as a function of distance\n",
    "\n",
    "i=number\n",
    "ii=number\n",
    "\n",
    "% convert distances in binsize's units\n",
    "dist=1+ceil(D(i,ii)/b); \n",
    "matrixdistance(i,ii)=dist;\n",
    "\n",
    "% weighted average for the deterrence function\n",
    "num=matrix(i,ii);\n",
    "DeterrenceFct(dist,1)=DeterrenceFct(dist,1)+num*N(i,1)*N(ii,1); %%%%% csak 1-től 10-ig van benne szám, 0 és 11+-ban nincs HIBA??\n",
    "normaDeterrence(dist,1)=normaDeterrence(dist,1)%+N(i,1)*N(ii,1); %%%% HIBA\n",
    "\n",
    "disp('bent')\n",
    "% normalisation of the deterrence function\n",
    "for i=1:nbox\n",
    "    disp('bent_2')\n",
    "    if(normaDeterrence(i,1)~=0)\n",
    "        DeterrenceFct(i,1)=DeterrenceFct(i,1)/normaDeterrence(i,1);\n",
    "    end\n",
    "end\n",
    "\n",
    "% copmutation of the randomised correlations (preserving space), spatial\n",
    "% null-model\n",
    "for i=1:number\n",
    "    for ii=1:number\n",
    "        nullmodelSpa(i,ii)=DeterrenceFct(matrixdistance(i,ii),1);\n",
    "    end \n",
    "end\n",
    "\n",
    "% the modularity matrix for the spatial null-model\n",
    "ModularitySpa=A-nullN.*nullmodelSpa*sum(sum(Flow))/sum(sum(nullN.*nullmodelSpa));\n",
    "\n",
    "% the modularity matrix for the GN null-model\n",
    "nullmodelGN=degree'*degree/(sum(degree)); % Newman-Girvan null-model\n",
    "ModularityGN=A-nullmodelGN"
   ]
  },
  {
   "cell_type": "markdown",
   "metadata": {},
   "source": [
    "Ide jon alulra a Python code"
   ]
  },
  {
   "cell_type": "code",
   "execution_count": 8,
   "metadata": {},
   "outputs": [],
   "source": [
    "def SpaMod(A,D,N,b): # flow - adjacency matrix\n",
    "    \"\"\"\n",
    "    Function that calculates the matrix for the clustering \n",
    "    based on spatial null model a la Expert.\n",
    "    \n",
    "    Parameters:\n",
    "    -----------\n",
    "    \n",
    "    A : scipy.sparse.csr.csr_matrix\n",
    "        adjacency matrix\n",
    "    D : numpy.ndarray\n",
    "        Distance matrix between the nodes\n",
    "    N : numpy.matrix\n",
    "        a measure of the importance of a node\n",
    "        the number of users living(home-location) in the given tract\n",
    "    b : float\n",
    "        size of the bins in the estimation of the deterrence function\n",
    "    Returns:\n",
    "    --------\n",
    "    \n",
    "    KERDES - ellenorizni\n",
    "    ModularitySpa : \n",
    "    ModularityGN :\n",
    "    \"\"\"\n",
    "    \n",
    "    tic = time()\n",
    "    \n",
    "    print(\"Beginning of modularity function...\");\n",
    "    \n",
    "    number=A.shape[0] # number of nodes\n",
    "    nbox = 100 ## MODIFIED number of bins\n",
    "    \n",
    "    # intialisation of different vectors and matrices\n",
    "    DeterrenceFct=np.zeros((nbox,1));\n",
    "    normaDeterrence=np.zeros((nbox,1));\n",
    "    matrixdistance=np.zeros((number,number));\n",
    "    nullmodelGN=np.zeros((number,number));\n",
    "    nullmodelSpa=np.zeros((number,number));\n",
    "    \n",
    "    A = A + A.T # felesleges?? KERDES -- symmetrised matrix (doesn't change the outcome of community detection (arXiv:0812.1770))\n",
    "    \n",
    "    degree = np.squeeze(np.asarray(A.sum(axis=0))) # degree or strength of nodes || asarry for further usage\n",
    "    nullN = N * N.T # matrix of the importance of nodes\n",
    "    \n",
    "    # matrix = np.divide(A.T,nullN) ## KERDESES, HOGY JO-e\n",
    "    matrix = A/nullN # normalized adjacency matrix\n",
    "    \n",
    "    toc = time()\n",
    "    print(\"Done.\",\"%.2f\" % (toc-tic))\n",
    "    tic = toc\n",
    "    print('Preparation done.')\n",
    "    \n",
    "    print('Deterrence function...')\n",
    "\n",
    "    for i in range(number):\n",
    "        for ii in range(number):\n",
    "            \n",
    "            # convert distances in binsize's units\n",
    "            dist = math.floor(D[i,ii]/b);\n",
    "            matrixdistance[i,ii]=dist;\n",
    "\n",
    "            # weighted average for the deterrence function\n",
    "            num = matrix[i,ii];\n",
    "            DeterrenceFct[dist,0]=DeterrenceFct[dist,0]+num*N[i,0]*N[ii,0];\n",
    "            normaDeterrence[dist,0]=normaDeterrence[dist,0]+N[i,0]*N[ii,0];\n",
    "    \n",
    "            # ALTERNATIVELY\n",
    "            # ceiler = lambda x: math.ceil(x)\n",
    "            # vceil = np.vectorize(ceiler)\n",
    "            # matrixdistance = vceil(D/b)\n",
    "            # DeterrenceFct = DeterrenceFct + np.multiply(np.multiply(N,N.T),matrix)\n",
    "            # normaDeterrence = normaDeterrence + np.multiply(N,N.T)\n",
    "    \n",
    "    toc = time()\n",
    "    print(\"Done.\",\"%.2f\" % (toc-tic))\n",
    "    tic = toc\n",
    "   \n",
    "    print('Normalization...')\n",
    "    # normalisation of the deterrence function - NINCS ELLENŐRIZVE EZ A CIKLUS\n",
    "    for i in range(nbox):\n",
    "        if(normaDeterrence[i,0]!=0):\n",
    "            DeterrenceFct[i,0]=DeterrenceFct[i,0]/normaDeterrence[i,0];\n",
    "    print('DeterrenceFct')\n",
    "    print(DeterrenceFct)\n",
    "\n",
    "    toc = time()\n",
    "    print(\"Done.\",\"%.2f\" % (toc-tic))\n",
    "    tic = toc\n",
    "    \n",
    "    print(\"Null modell...\")\n",
    "    # copmutation of the randomised correlations (preserving space), spatial\n",
    "    # null-model\n",
    "    for i in range(number):\n",
    "        for ii in range(number):\n",
    "            nullmodelSpa[i,ii]=DeterrenceFct[matrixdistance[i,ii].astype(int),0];\n",
    "    print(\"Done.\")\n",
    "    \n",
    "    print(\"Modularity calc...\")\n",
    "    # the modularity matrix for the spatial null-model\n",
    "    ModularitySpa=A-np.multiply(nullN, nullmodelSpa*A.sum()/np.multiply(nullN,nullmodelSpa).sum());\n",
    "    \n",
    "    # the modularity matrix for the GN null-model\n",
    "    print(type(degree))\n",
    "    nullmodelGN = degree*degree/(sum(degree)); # Newman-Girvan null-model\n",
    "    ModularityGN=A-nullmodelGN;\n",
    "    print(\"Done.\")\n",
    "    return(ModularitySpa,ModularityGN)"
   ]
  },
  {
   "cell_type": "code",
   "execution_count": 20,
   "metadata": {},
   "outputs": [
    {
     "data": {
      "text/plain": [
       "matrix([[0, 1, 0, 1, 1, 0, 0, 0, 0, 0],\n",
       "        [1, 0, 1, 1, 1, 0, 0, 0, 0, 0],\n",
       "        [0, 1, 0, 1, 1, 0, 0, 0, 0, 0],\n",
       "        [1, 1, 1, 0, 1, 0, 0, 0, 0, 0],\n",
       "        [1, 1, 1, 1, 0, 0, 1, 0, 0, 0],\n",
       "        [0, 0, 0, 0, 0, 0, 1, 1, 1, 1],\n",
       "        [0, 0, 0, 0, 1, 1, 0, 1, 1, 1],\n",
       "        [0, 0, 0, 0, 0, 1, 1, 0, 1, 1],\n",
       "        [0, 0, 0, 0, 0, 1, 1, 1, 0, 1],\n",
       "        [0, 0, 0, 0, 0, 1, 1, 1, 1, 0]])"
      ]
     },
     "execution_count": 20,
     "metadata": {},
     "output_type": "execute_result"
    }
   ],
   "source": [
    "A[0:10,0:10].todense()"
   ]
  },
  {
   "cell_type": "code",
   "execution_count": 18,
   "metadata": {},
   "outputs": [
    {
     "data": {
      "text/plain": [
       "matrix([[0, 1, 0, 1, 1, 0, 0, 0, 0, 0, 0, 0, 0, 0, 0],\n",
       "        [1, 0, 1, 1, 1, 0, 0, 0, 0, 0, 0, 0, 0, 0, 0],\n",
       "        [0, 1, 0, 1, 1, 0, 0, 0, 0, 0, 0, 0, 0, 0, 0],\n",
       "        [1, 1, 1, 0, 1, 0, 0, 0, 0, 0, 0, 0, 1, 1, 0],\n",
       "        [1, 1, 1, 1, 0, 0, 1, 0, 0, 0, 0, 0, 0, 0, 0],\n",
       "        [0, 0, 0, 0, 0, 0, 1, 1, 1, 1, 0, 0, 0, 0, 0],\n",
       "        [0, 0, 0, 0, 1, 1, 0, 1, 1, 1, 0, 0, 0, 0, 1],\n",
       "        [0, 0, 0, 0, 0, 1, 1, 0, 1, 1, 0, 0, 0, 0, 0],\n",
       "        [0, 0, 0, 0, 0, 1, 1, 1, 0, 1, 0, 0, 0, 0, 0],\n",
       "        [0, 0, 0, 0, 0, 1, 1, 1, 1, 0, 0, 0, 0, 0, 0],\n",
       "        [0, 0, 0, 0, 0, 0, 0, 0, 0, 0, 0, 1, 1, 1, 0],\n",
       "        [0, 0, 0, 0, 0, 0, 0, 0, 0, 0, 1, 0, 1, 1, 1],\n",
       "        [0, 0, 0, 1, 0, 0, 0, 0, 0, 0, 1, 1, 0, 1, 1],\n",
       "        [0, 0, 0, 1, 0, 0, 0, 0, 0, 0, 1, 1, 1, 0, 1],\n",
       "        [0, 0, 0, 0, 0, 0, 1, 0, 0, 0, 0, 1, 1, 1, 0]], dtype=int64)"
      ]
     },
     "execution_count": 18,
     "metadata": {},
     "output_type": "execute_result"
    }
   ],
   "source": [
    "A.todense()"
   ]
  },
  {
   "cell_type": "code",
   "execution_count": 43,
   "metadata": {},
   "outputs": [],
   "source": [
    "y,x = np.histogram([1,2,2,1,1,2,2,3], bins=3, range=(0.5,3.5))"
   ]
  },
  {
   "cell_type": "code",
   "execution_count": 44,
   "metadata": {},
   "outputs": [
    {
     "data": {
      "text/plain": [
       "array([0.5, 1.5, 2.5, 3.5])"
      ]
     },
     "execution_count": 44,
     "metadata": {},
     "output_type": "execute_result"
    }
   ],
   "source": [
    "x"
   ]
  },
  {
   "cell_type": "code",
   "execution_count": 45,
   "metadata": {},
   "outputs": [
    {
     "data": {
      "text/plain": [
       "array([3, 4, 1])"
      ]
     },
     "execution_count": 45,
     "metadata": {},
     "output_type": "execute_result"
    }
   ],
   "source": [
    "y"
   ]
  },
  {
   "cell_type": "code",
   "execution_count": 50,
   "metadata": {},
   "outputs": [
    {
     "data": {
      "text/plain": [
       "(225,)"
      ]
     },
     "execution_count": 50,
     "metadata": {},
     "output_type": "execute_result"
    }
   ],
   "source": [
    "D.flatten().shape"
   ]
  },
  {
   "cell_type": "code",
   "execution_count": 51,
   "metadata": {},
   "outputs": [
    {
     "data": {
      "text/plain": [
       "matrix([[0, 1, 0, 1, 1, 0, 0, 0, 0, 0, 0, 0, 0, 0, 0, 1, 0, 1, 1, 1, 0,\n",
       "         0, 0, 0, 0, 0, 0, 0, 0, 0, 0, 1, 0, 1, 1, 0, 0, 0, 0, 0, 0, 0,\n",
       "         0, 0, 0, 1, 1, 1, 0, 1, 0, 0, 0, 0, 0, 0, 0, 1, 1, 0, 1, 1, 1,\n",
       "         1, 0, 0, 1, 0, 0, 0, 0, 0, 0, 0, 0, 0, 0, 0, 0, 0, 0, 1, 1, 1,\n",
       "         1, 0, 0, 0, 0, 0, 0, 0, 0, 0, 1, 1, 0, 1, 1, 1, 0, 0, 0, 0, 1,\n",
       "         0, 0, 0, 0, 0, 1, 1, 0, 1, 1, 0, 0, 0, 0, 0, 0, 0, 0, 0, 0, 1,\n",
       "         1, 1, 0, 1, 0, 0, 0, 0, 0, 0, 0, 0, 0, 0, 1, 1, 1, 1, 0, 0, 0,\n",
       "         0, 0, 0, 0, 0, 0, 0, 0, 0, 0, 0, 0, 0, 0, 1, 1, 1, 0, 0, 0, 0,\n",
       "         0, 0, 0, 0, 0, 0, 0, 1, 0, 1, 1, 1, 0, 0, 0, 1, 0, 0, 0, 0, 0,\n",
       "         0, 1, 1, 0, 1, 1, 0, 0, 0, 1, 0, 0, 0, 0, 0, 0, 1, 1, 1, 0, 1,\n",
       "         0, 0, 0, 0, 0, 0, 1, 0, 0, 0, 0, 1, 1, 1, 0]], dtype=int64)"
      ]
     },
     "execution_count": 51,
     "metadata": {},
     "output_type": "execute_result"
    }
   ],
   "source": [
    "A.todense().flatten()"
   ]
  },
  {
   "cell_type": "code",
   "execution_count": 88,
   "metadata": {},
   "outputs": [
    {
     "data": {
      "text/plain": [
       "array([1, 2])"
      ]
     },
     "execution_count": 88,
     "metadata": {},
     "output_type": "execute_result"
    }
   ],
   "source": [
    "np.digitize([1.5,2.5],[1,2,3,4])"
   ]
  },
  {
   "cell_type": "code",
   "execution_count": 85,
   "metadata": {},
   "outputs": [],
   "source": [
    "DeterrenceFct, detbins = np.histogram(D.flatten(), weights = np.array(A.todense()).flatten(), bins=nbox, range=(0,nbox*b))`"
   ]
  },
  {
   "cell_type": "code",
   "execution_count": 87,
   "metadata": {},
   "outputs": [
    {
     "data": {
      "text/plain": [
       "array([[8, 8, 8, 6, 7, 5, 6, 4, 6, 7, 7, 8, 9, 8, 5],\n",
       "       [8, 7, 8, 4, 6, 9, 5, 9, 5, 8, 5, 8, 7, 6, 7],\n",
       "       [5, 5, 9, 6, 7, 6, 5, 7, 5, 5, 7, 7, 5, 8, 5],\n",
       "       [5, 9, 7, 5, 8, 8, 8, 4, 4, 7, 7, 5, 9, 5, 7],\n",
       "       [8, 8, 4, 5, 6, 6, 5, 5, 7, 5, 5, 8, 7, 4, 8],\n",
       "       [9, 8, 5, 9, 5, 5, 5, 7, 9, 9, 8, 4, 7, 9, 7],\n",
       "       [5, 4, 5, 5, 9, 5, 7, 6, 4, 8, 4, 8, 8, 9, 9],\n",
       "       [7, 5, 4, 8, 8, 8, 5, 5, 9, 6, 5, 4, 7, 7, 8],\n",
       "       [8, 4, 4, 4, 8, 5, 8, 7, 7, 9, 8, 7, 5, 7, 9],\n",
       "       [9, 5, 6, 5, 7, 7, 7, 8, 5, 8, 8, 5, 8, 9, 8],\n",
       "       [8, 4, 6, 7, 9, 5, 8, 4, 6, 8, 8, 7, 7, 8, 5],\n",
       "       [5, 7, 5, 7, 5, 5, 8, 6, 8, 9, 5, 5, 8, 7, 8],\n",
       "       [5, 6, 9, 5, 6, 5, 7, 8, 9, 7, 7, 7, 7, 9, 7],\n",
       "       [8, 8, 5, 7, 9, 5, 5, 4, 7, 5, 8, 5, 6, 5, 5],\n",
       "       [8, 4, 6, 5, 4, 8, 4, 7, 5, 7, 9, 5, 8, 8, 7]], dtype=int64)"
      ]
     },
     "execution_count": 87,
     "metadata": {},
     "output_type": "execute_result"
    }
   ],
   "source": []
  },
  {
   "cell_type": "code",
   "execution_count": 90,
   "metadata": {},
   "outputs": [
    {
     "data": {
      "text/plain": [
       "array([[1, 1],\n",
       "       [2, 2]])"
      ]
     },
     "execution_count": 90,
     "metadata": {},
     "output_type": "execute_result"
    }
   ],
   "source": [
    "a = np.array([1,2])\n",
    "b = np.array([[0,0],[1,1]])\n",
    "a[b]"
   ]
  },
  {
   "cell_type": "code",
   "execution_count": 126,
   "metadata": {},
   "outputs": [],
   "source": [
    "# ALTERNATIVE\n",
    "\n",
    "def SpaMod_2(A,D,N,b): # flow - adjacency matrix\n",
    "    \"\"\"\n",
    "    Function that calculates the matrix for the clustering \n",
    "    based on spatial null model a la Expert.\n",
    "    \n",
    "    Parameters:\n",
    "    -----------\n",
    "    \n",
    "    A : scipy.sparse.csr.csr_matrix\n",
    "        adjacency matrix\n",
    "    D : numpy.ndarray\n",
    "        Distance matrix between the nodes\n",
    "    N : numpy.matrix\n",
    "        a measure of the importance of a node\n",
    "        the number of users living(home-location) in the given tract\n",
    "    b : float\n",
    "        size of the bins in the estimation of the deterrence function\n",
    "    Returns:\n",
    "    --------\n",
    "    \n",
    "    KERDES - ellenorizni\n",
    "    ModularitySpa : \n",
    "    ModularityGN :\n",
    "    \"\"\"\n",
    "    \n",
    "    tic = time()\n",
    "    \n",
    "    print(\"Beginning of modularity function...\");   \n",
    "    # felesleges?? KERDES -- symmetrised matrix (doesn't change the outcome of community detection (arXiv:0812.1770))\n",
    "    A = (A + A.T) / 2  \n",
    "        \n",
    "    # deterrence function\n",
    "    det, detbins = np.histogram(\n",
    "        D.flatten(), \n",
    "        weights = np.array(A.todense()).flatten(), \n",
    "        bins=int(np.ceil(D.max()/b))\n",
    "    )\n",
    "    normadet, _ = np.histogram(\n",
    "        D.flatten(), \n",
    "        weights = np.array(N*N.T).flatten(), \n",
    "        bins=int(np.ceil(D.max()/b))\n",
    "    )\n",
    "    det = det / normadet\n",
    "    det[np.isnan(det)] = 0\n",
    "    print('DeterrenceFct')\n",
    "    \n",
    "    print(\"Null modell...\")\n",
    "    # copmutation of the randomised correlations (preserving space), spatial\n",
    "    # null-model\n",
    "    nullmodelSpa = det[np.digitize(D,detbins,right=True)-1]\n",
    "    print(\"Done.\")\n",
    "    \n",
    "    print(\"Modularity calc...\")\n",
    "    # the modularity matrix for the spatial null-model\n",
    "    ModularitySpa = A - A.sum()*np.multiply(N*N.T,nullmodelSpa)/(np.multiply(N*N.T,nullmodelSpa).sum())\n",
    "    # the modularity matrix for the GN null-model\n",
    "    degree = np.squeeze(np.asarray(A.sum(axis=0))) # degree or strength of nodes || asarry for further usage\n",
    "    nullmodelGN = degree*degree.T/(sum(degree)) # Newman-Girvan null-model\n",
    "    ModularityGN = A - nullmodelGN\n",
    "    \n",
    "    print(\"Done.\")\n",
    "    return ModularitySpa, ModularityGN, det"
   ]
  },
  {
   "cell_type": "raw",
   "metadata": {},
   "source": [
    "Ms, Mgn= SpaMod(A,D,N,b)\n",
    "S_ms,Q_ms,n_it_ms = octave.iterated_genlouvain(Ms, nout=3)\n",
    "S_ms"
   ]
  },
  {
   "cell_type": "code",
   "execution_count": 127,
   "metadata": {
    "scrolled": false
   },
   "outputs": [
    {
     "name": "stdout",
     "output_type": "stream",
     "text": [
      "Beginning of modularity function...\n",
      "[0.01242236 0.01431981 0.00985222 0.01785714 0.0178117  0.01118568\n",
      " 0.01769912 0.01796407 0.01836735 0.02232143] [0.00331425 0.10265154 0.20198882 0.3013261  0.40066339 0.50000067\n",
      " 0.59933795 0.69867524 0.79801252 0.8973498  0.99668709]\n",
      "DeterrenceFct\n",
      "Null modell...\n",
      "[[ 3  6  6  7  4  5  7  2  7  1  1  3  8  3  0]\n",
      " [ 3  4  3  2  7  8  0  8  0  2  9  3  4  7  4]\n",
      " [ 0  0  8  7  4  7  0  4  0  0  1  1  5  3  9]\n",
      " [ 0  8  0  5  3  3  6  2  2  4  1  5  8  5  1]\n",
      " [ 3  6  2  0  7  7  0  5  1  0  5  3  1  2  6]\n",
      " [ 8  6  5  8  5  0  9  1  8  8  3  2  0  8  1]\n",
      " [ 0  2  0  5  8 10  4  7  2  3  2  6  3  8  8]\n",
      " [ 4  9  2  3  3  3  5  0  8  7  9  2  4  1  6]\n",
      " [ 6  2  2  2  6  9  6  1  1  8  6  3  0  1  8]\n",
      " [ 8  5  7  0  4  1  4  6  5  6  6  9  3  8  6]\n",
      " [ 6  2  7  1  8  5  3  2  7  6  6  4  4  6  0]\n",
      " [ 5  1  0  1  5  5  6  7  3  8  9  0  3  1  6]\n",
      " [ 0  7  8  5  7  9  4  6  8  1  4  1  4  8  1]\n",
      " [ 6  3  5  4  8  9  5  2  4  9  6  5  7  0  9]\n",
      " [ 3  2  7  0  2  6  2  1  5  1  8  0  6  3  4]]\n",
      "[0.99668709]\n",
      "Done.\n",
      "Modularity calc...\n",
      "Done.\n",
      "WARNING: Forced symmetric B matrix\n",
      "WARNING: Forced symmetric B matrix\n"
     ]
    },
    {
     "data": {
      "text/plain": [
       "array([[1.],\n",
       "       [1.],\n",
       "       [1.],\n",
       "       [1.],\n",
       "       [1.],\n",
       "       [2.],\n",
       "       [2.],\n",
       "       [2.],\n",
       "       [2.],\n",
       "       [2.],\n",
       "       [3.],\n",
       "       [3.],\n",
       "       [3.],\n",
       "       [3.],\n",
       "       [3.]])"
      ]
     },
     "execution_count": 127,
     "metadata": {},
     "output_type": "execute_result"
    }
   ],
   "source": [
    "Ms, Mgn, Dtf = SpaMod_2(A,D,N,0.1)\n",
    "S_ms,Q_ms,n_it_ms = octave.iterated_genlouvain(Ms, nout=3)\n",
    "S_ms"
   ]
  },
  {
   "cell_type": "markdown",
   "metadata": {},
   "source": [
    "# deprecated"
   ]
  },
  {
   "cell_type": "code",
   "execution_count": 44,
   "metadata": {},
   "outputs": [
    {
     "data": {
      "text/plain": [
       "matrix([[2, 1]])"
      ]
     },
     "execution_count": 44,
     "metadata": {},
     "output_type": "execute_result"
    }
   ],
   "source": [
    "np.matrix([2,1])"
   ]
  },
  {
   "cell_type": "code",
   "execution_count": 158,
   "metadata": {},
   "outputs": [
    {
     "data": {
      "text/plain": [
       "matrix([[1, 2, 3],\n",
       "        [1, 2, 4]])"
      ]
     },
     "execution_count": 158,
     "metadata": {},
     "output_type": "execute_result"
    }
   ],
   "source": [
    "B = np.matrix([[1,2,3],[1,2,4]])\n",
    "B"
   ]
  },
  {
   "cell_type": "code",
   "execution_count": 391,
   "metadata": {},
   "outputs": [
    {
     "data": {
      "text/plain": [
       "matrix([[4, 1, 2],\n",
       "        [0, 0, 0],\n",
       "        [1, 1, 1]])"
      ]
     },
     "execution_count": 391,
     "metadata": {},
     "output_type": "execute_result"
    }
   ],
   "source": [
    "M_1 = np.matrix([1,2,3])\n",
    "M_2 = np.matrix([4,1,2])\n",
    "M_3 = np.matrix([[4,1,2],[0,0,0],[1,1,1]])\n",
    "M_3"
   ]
  },
  {
   "cell_type": "code",
   "execution_count": 397,
   "metadata": {},
   "outputs": [
    {
     "data": {
      "text/plain": [
       "matrix([[1, 2, 3],\n",
       "        [2, 4, 6],\n",
       "        [3, 6, 9]])"
      ]
     },
     "execution_count": 397,
     "metadata": {},
     "output_type": "execute_result"
    }
   ],
   "source": [
    "W = np.multiply(M_1.T,M_1)\n",
    "W"
   ]
  },
  {
   "cell_type": "code",
   "execution_count": 395,
   "metadata": {},
   "outputs": [
    {
     "data": {
      "text/plain": [
       "matrix([[4, 2, 6],\n",
       "        [0, 0, 0],\n",
       "        [3, 6, 9]])"
      ]
     },
     "execution_count": 395,
     "metadata": {},
     "output_type": "execute_result"
    }
   ],
   "source": [
    "np.multiply(np.multiply(M_1.T,M_1),M_3)"
   ]
  },
  {
   "cell_type": "code",
   "execution_count": 308,
   "metadata": {},
   "outputs": [
    {
     "data": {
      "text/plain": [
       "matrix([[100,   4,   7]])"
      ]
     },
     "execution_count": 308,
     "metadata": {},
     "output_type": "execute_result"
    }
   ],
   "source": [
    "SUM=B.sum(axis=0)\n",
    "SUM"
   ]
  },
  {
   "cell_type": "code",
   "execution_count": 315,
   "metadata": {},
   "outputs": [
    {
     "data": {
      "text/plain": [
       "100"
      ]
     },
     "execution_count": 315,
     "metadata": {},
     "output_type": "execute_result"
    }
   ],
   "source": [
    "F = np.asarray(SUM)\n",
    "F_2 = np.squeeze(F)\n",
    "F_2[0]"
   ]
  },
  {
   "cell_type": "code",
   "execution_count": 53,
   "metadata": {},
   "outputs": [
    {
     "data": {
      "text/plain": [
       "13"
      ]
     },
     "execution_count": 53,
     "metadata": {},
     "output_type": "execute_result"
    }
   ],
   "source": [
    "B.sum()"
   ]
  },
  {
   "cell_type": "code",
   "execution_count": 368,
   "metadata": {},
   "outputs": [
    {
     "data": {
      "text/plain": [
       "matrix([[99,  2,  3],\n",
       "        [ 1,  2,  4]])"
      ]
     },
     "execution_count": 368,
     "metadata": {},
     "output_type": "execute_result"
    }
   ],
   "source": [
    "B"
   ]
  },
  {
   "cell_type": "code",
   "execution_count": 370,
   "metadata": {},
   "outputs": [
    {
     "data": {
      "text/plain": [
       "matrix([[1.    , 3.    , 6.    ],\n",
       "        [1.5998, 3.2237, 2.162 ]])"
      ]
     },
     "execution_count": 370,
     "metadata": {},
     "output_type": "execute_result"
    }
   ],
   "source": [
    "C"
   ]
  },
  {
   "cell_type": "code",
   "execution_count": 390,
   "metadata": {},
   "outputs": [
    {
     "data": {
      "text/plain": [
       "matrix([[0.    , 6.    , 0.    ],\n",
       "        [1.5998, 6.4474, 8.648 ]])"
      ]
     },
     "execution_count": 390,
     "metadata": {},
     "output_type": "execute_result"
    }
   ],
   "source": [
    "np.multiply(B,C)"
   ]
  },
  {
   "cell_type": "code",
   "execution_count": 59,
   "metadata": {},
   "outputs": [
    {
     "data": {
      "text/plain": [
       "matrix([[ 0. , -1. , -3. ],\n",
       "        [ 0.5,  1.8,  3.9]])"
      ]
     },
     "execution_count": 59,
     "metadata": {},
     "output_type": "execute_result"
    }
   ],
   "source": [
    "B-C"
   ]
  },
  {
   "cell_type": "code",
   "execution_count": 356,
   "metadata": {},
   "outputs": [
    {
     "data": {
      "text/plain": [
       "0.1"
      ]
     },
     "execution_count": 356,
     "metadata": {},
     "output_type": "execute_result"
    }
   ],
   "source": [
    "b"
   ]
  },
  {
   "cell_type": "code",
   "execution_count": 389,
   "metadata": {},
   "outputs": [
    {
     "data": {
      "text/plain": [
       "matrix([[0.    , 3.    , 0.    ],\n",
       "        [1.5998, 3.2237, 2.162 ]])"
      ]
     },
     "execution_count": 389,
     "metadata": {},
     "output_type": "execute_result"
    }
   ],
   "source": [
    "C = np.matrix([[0,3,0],[1.5998,3.2237,2.162]])\n",
    "C"
   ]
  },
  {
   "cell_type": "code",
   "execution_count": 361,
   "metadata": {},
   "outputs": [
    {
     "data": {
      "text/plain": [
       "3"
      ]
     },
     "execution_count": 361,
     "metadata": {},
     "output_type": "execute_result"
    }
   ],
   "source": []
  },
  {
   "cell_type": "code",
   "execution_count": null,
   "metadata": {},
   "outputs": [],
   "source": []
  },
  {
   "cell_type": "code",
   "execution_count": null,
   "metadata": {},
   "outputs": [],
   "source": [
    "%%octave -i A,D,N,b -o Ms,Mg,Dfn,S,Q,n_it,N\n",
    "\n",
    "\n",
    "% Flow,Dist,N,binsize - kellenek valami pofonegyszeru bemeneti adatok!\n",
    "\n",
    "disp(\"Beginning of modularity function...\");\n",
    "\n",
    "number=size(Flow,1); %number of nodes in the system\n",
    "\n",
    "nbox=2000; %number of bins, might need to increase it depending on your system and of level of coarse-graining\n",
    "\n",
    "% intialisation of different vectors and matrices\n",
    "DeterrenceFct=zeros(nbox,1);\n",
    "normaDeterrence=zeros(nbox,1);\n",
    "matrixdistance=zeros(number,number);\n",
    "nullmodelGN=zeros(number,number);\n",
    "nullmodelSpa=zeros(number,number);\n",
    "Flow=Flow+Flow'; %symmetrised matrix (doesn't change the outcome of community detection (arXiv:0812.1770))\n",
    "degree=sum(Flow); % degree/strength of the nodes\n",
    "nullN=N*N'; % matrix of the importance of nodes\n",
    "matrix=Flow./nullN; % normalised adjacency matrix\n",
    "\n",
    "disp(\"Preparation done.\")\n",
    "\n",
    "disp(\"Deterrence function...\")\n",
    "\n",
    "%We first calculate the correlations as a function of distance\n",
    "\n",
    "KERDES\n",
    "for i=1:number\n",
    "    disp(i)\n",
    "    for ii=1:number\n",
    "    \n",
    "    % convert distances in binsize's units\n",
    "    dist=1+ceil(Dist(i,ii)/binsize); \n",
    "    matrixdistance(i,ii)=dist;\n",
    "\n",
    "    % weighted average for the deterrence function\n",
    "    num=matrix(i,ii);\n",
    "    DeterrenceFct(dist,1)=DeterrenceFct(dist,1)+num*N(i,1)*N(ii,1);\n",
    "    normaDeterrence(dist,1)=normaDeterrence(dist,1)+N(i,1)*N(ii,1);\n",
    "    end\n",
    "    disp(\"Done.\")\n",
    "disp(\"Normalization...\")\n",
    "% normalisation of the deterrence function\n",
    "for i=1:nbox\n",
    "    disp(i)\n",
    "    if(normaDeterrence(i,1)~=0)\n",
    "        DeterrenceFct(i,1)=DeterrenceFct(i,1)/normaDeterrence(i,1);\n",
    "    end\n",
    "end\n",
    "\n",
    "disp(\"Done.\")\n",
    "\n",
    "disp(\"Null modell...\")\n",
    "\n",
    "% copmutation of the randomised correlations (preserving space), spatial\n",
    "% null-model\n",
    "for i=1:number\n",
    "    for ii=1:number\n",
    "        nullmodelSpa(i,ii)=DeterrenceFct(matrixdistance(i,ii),1);\n",
    "    end \n",
    "end\n",
    "\n",
    "disp(\"Done.\")\n",
    "\n",
    "disp(\"Modularity calc...\")\n",
    "% the modularity matrix for the spatial null-model\n",
    "ModularitySpa=Flow-nullN.*nullmodelSpa*sum(sum(Flow))/sum(sum(nullN.*nullmodelSpa));\n",
    "\n",
    "% the modularity matrix for the GN null-model\n",
    "nullmodelGN=degree'*degree/(sum(degree)); % Newman-Girvan null-model\n",
    "ModularityGN=Flow-nullmodelGN;\n",
    "disp(\"Done.\")"
   ]
  },
  {
   "cell_type": "code",
   "execution_count": 131,
   "metadata": {},
   "outputs": [],
   "source": [
    "%%octave -i A,D,N,b -o number,DeterrenceFct,normaDeterrence,matrixdistance,nullmodelGN,nullmodelSpa\n",
    "\n",
    "addpath('/home/ubuntu/GenLouvain/')\n",
    "addpath('/home/ubuntu/GenLouvain/private/')\n",
    "\n",
    "function [number,DeterrenceFct,normaDeterrence,matrixdistance,nullmodelGN,nullmodelSpa]=ModularitySpaGN(A,Dist,N,binsize)\n",
    "\n",
    "    % Flow: Adjacency matrix REPLACE --> A\n",
    "    % Dist: Distance matrix between the nodes\n",
    "    % N: a measure of the importance of a node (by default its strength: Dist=sum(Flow,1); for example)\n",
    "    % binsize: size of the bins in the estimation of the deterrence function\n",
    "    % (has to be tuned according to the problem)\n",
    "\n",
    "    disp(size(A,1))\n",
    "    number=size(A,1); %number of nodes in the system\n",
    "    \n",
    "\n",
    "    nbox=2000; %number of bins, might need to increase it depending on your system and of level of coarse-graining\n",
    "\n",
    "    % intialisation of different vectors and matrices\n",
    "    DeterrenceFct=zeros(nbox,1);\n",
    "    normaDeterrence=zeros(nbox,1);\n",
    "\n",
    "    matrixdistance=zeros(number,number);\n",
    "    nullmodelGN=zeros(number,number);\n",
    "    nullmodelSpa=zeros(number,number);\n",
    "endfunction"
   ]
  },
  {
   "cell_type": "code",
   "execution_count": null,
   "metadata": {},
   "outputs": [],
   "source": [
    "    Flow=Flow+Flow'; %symmetrised matrix (doesn't change the outcome of community detection (arXiv:0812.1770))\n",
    "    degree=sum(Flow); % degree/strength of the nodes\n",
    "    nullN=N*N'; % matrix of the importance of nodes\n",
    "    matrix=Flow./nullN; % normalised adjacency matrix\n",
    "\n",
    "    %We first calculate the correlations as a function of distance\n",
    "\n",
    "    for i=1:number\n",
    "        for ii=1:number\n",
    "\n",
    "        % convert distances in binsize's units\n",
    "        dist=1+ceil(Dist(i,ii)/binsize); \n",
    "        matrixdistance(i,ii)=dist;\n",
    "\n",
    "        % weighted average for the deterrence function\n",
    "        num=matrix(i,ii);\n",
    "        DeterrenceFct(dist,1)=DeterrenceFct(dist,1)+num*N(i,1)*N(ii,1);\n",
    "        normaDeterrence(dist,1)=normaDeterrence(dist,1)+N(i,1)*N(ii,1);\n",
    "        end \n",
    "    end\n",
    "\n",
    "    % normalisation of the deterrence function\n",
    "    for i=1:nbox\n",
    "        if(normaDeterrence(i,1)~=0)\n",
    "            DeterrenceFct(i,1)=DeterrenceFct(i,1)/normaDeterrence(i,1);\n",
    "        end\n",
    "    end\n",
    "\n",
    "    % copmutation of the randomised correlations (preserving space), spatial\n",
    "    % null-model\n",
    "    for i=1:number\n",
    "        for ii=1:number\n",
    "            nullmodelSpa(i,ii)=DeterrenceFct(matrixdistance(i,ii),1);\n",
    "        end \n",
    "    end\n",
    "\n",
    "    % the modularity matrix for the spatial null-model\n",
    "    ModularitySpa=Flow-nullN.*nullmodelSpa*sum(sum(Flow))/sum(sum(nullN.*nullmodelSpa));\n",
    "\n",
    "    % the modularity matrix for the GN null-model\n",
    "    nullmodelGN=degree'*degree/(sum(degree)); % Newman-Girvan null-model\n",
    "    ModularityGN=Flow-nullmodelGN;\n",
    "endfunction\n",
    "\n",
    "\n",
    "[Ms,Mg,Dfn] = ModularitySpaGN(A,D,N,b);\n",
    "[S,Q,n_it] = iterated_genlouvain(Mg);"
   ]
  },
  {
   "cell_type": "code",
   "execution_count": null,
   "metadata": {},
   "outputs": [],
   "source": [
    "%%octave -i A,D,N,b -o number, normaDeterrence\n",
    "\n",
    "addpath('/home/ubuntu/GenLouvain/')\n",
    "addpath('/home/ubuntu/GenLouvain/private/')\n",
    "\n",
    "number=size(A,1); %number of nodes in the system\n",
    "\n",
    "nbox=2000; %number of bins, might need to increase it depending on your system and of level of coarse-graining\n",
    "\n",
    "% intialisation of different vectors and matrices\n",
    "DeterrenceFct=zeros(nbox,1);\n",
    "normaDeterrence=zeros(nbox,1);"
   ]
  },
  {
   "cell_type": "code",
   "execution_count": null,
   "metadata": {},
   "outputs": [],
   "source": [
    "%%octave -i A,D,N,b -o Ms,Mg,Dfn,S,Q,n_it,N\n",
    "\n",
    "addpath('/home/ubuntu/GenLouvain/')\n",
    "addpath('/home/ubuntu/GenLouvain/private/')\n",
    "\n",
    "function [ModularitySpa,ModularityGN,DeterrenceFct]=ModularitySpaGN(Flow,Dist,N,binsize)\n",
    "\n",
    "    % Flow: Adjacency matrix\n",
    "    % Dist: Distance matrix between the nodes\n",
    "    % N: a measure of the importance of a node (by default its strength: Dist=sum(Flow,1); for example)\n",
    "    % binsize: size of the bins in the estimation of the deterrence function\n",
    "    % (has to be tuned according to the problem)\n",
    "\n",
    "    number=size(Flow,1); %number of nodes in the system\n",
    "    disp('number:')\n",
    "    disp(number)\n",
    "\n",
    "    nbox=100; %number of bins, might need to increase it depending on your system and of level of coarse-graining\n",
    "\n",
    "    % intialisation of different vectors and matrices\n",
    "    DeterrenceFct=zeros(nbox,1);\n",
    "    % disp('DeterrenceFct')\n",
    "    % disp(DeterrenceFct)\n",
    "    normaDeterrence=zeros(nbox,1);\n",
    "    % disp('normaDeterrence')\n",
    "    % disp(normaDeterrence)\n",
    "\n",
    "    matrixdistance=zeros(number,number);\n",
    "    % disp('matrixdistance')\n",
    "    % disp(matrixdistance)\n",
    "    nullmodelGN=zeros(number,number);\n",
    "    % disp('nullmodelGN')\n",
    "    % disp(nullmodelGN)\n",
    "    nullmodelSpa=zeros(number,number);\n",
    "    % disp('nullmodelSpa')\n",
    "    % disp(nullmodelSpa)\n",
    "\n",
    "    % INNEN NEM MEGY!!!\n",
    "    disp(Flow)\n",
    "    Flow=Flow+Flow'; %symmetrised matrix (doesn't change the outcome of community detection (arXiv:0812.1770))\n",
    "    disp('Flow')\n",
    "    disp(Flow)\n",
    "\n",
    "   \n",
    "    degree=sum(Flow); % degree/strength of the nodes\n",
    "    nullN=N*N'; % matrix of the importance of nodes\n",
    "    matrix=Flow./nullN; % normalised adjacency matrix\n",
    "\n",
    "    %We first calculate the correlations as a function of distance\n",
    "\n",
    "    for i=1:number\n",
    "        for ii=1:number\n",
    "\n",
    "        % convert distances in binsize's units\n",
    "        dist=1+% ceil(Dist(i,ii)/binsize); \n",
    "        matrixdistance(i,ii)=dist;\n",
    "\n",
    "        % weighted average for the deterrence function\n",
    "        num=matrix[i][ii];\n",
    "        DeterrenceFct(dist,1)=DeterrenceFct(dist,1)+num*N(i,1)*N(ii,1);\n",
    "        normaDeterrence(dist,1)=normaDeterrence(dist,1)+N(i,1)*N(ii,1);\n",
    "        end \n",
    "    end\n",
    "\n",
    "    % normalisation of the deterrence function\n",
    "    for i=1:nbox\n",
    "        if(normaDeterrence(i,1)~=0)\n",
    "            DeterrenceFct(i,1)=DeterrenceFct(i,1)/normaDeterrence(i,1);\n",
    "        end\n",
    "    end\n",
    "\n",
    "    % copmutation of the randomised correlations (preserving space), spatial\n",
    "    % null-model\n",
    "    for i=1:number\n",
    "        for ii=1:number\n",
    "            nullmodelSpa(i,ii)=DeterrenceFct(matrixdistance(i,ii),1);\n",
    "        end \n",
    "    end\n",
    "\n",
    "    % the modularity matrix for the spatial null-model\n",
    "    ModularitySpa=Flow-nullN.*nullmodelSpa*sum(sum(Flow))/sum(sum(nullN.*nullmodelSpa));\n",
    "\n",
    "    % the modularity matrix for the GN null-model\n",
    "    nullmodelGN=degree'*degree/(sum(degree)); % Newman-Girvan null-model\n",
    "    ModularityGN=Flow-nullmodelGN;\n",
    "endfunction\n",
    "\n",
    "\n",
    "[Ms,Mg,Dfn] = ModularitySpaGN(A,D,N,b);\n",
    "[S,Q,n_it] = iterated_genlouvain(Mg);"
   ]
  }
 ],
 "metadata": {
  "kernelspec": {
   "display_name": "Python 3",
   "language": "python",
   "name": "python3"
  },
  "language_info": {
   "codemirror_mode": {
    "name": "ipython",
    "version": 3
   },
   "file_extension": ".py",
   "mimetype": "text/x-python",
   "name": "python",
   "nbconvert_exporter": "python",
   "pygments_lexer": "ipython3",
   "version": "3.7.2"
  }
 },
 "nbformat": 4,
 "nbformat_minor": 2
}
