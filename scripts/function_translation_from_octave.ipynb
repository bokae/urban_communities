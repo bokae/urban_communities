{
 "cells": [
  {
   "cell_type": "code",
   "execution_count": 688,
   "metadata": {},
   "outputs": [
    {
     "name": "stdout",
     "output_type": "stream",
     "text": [
      "The oct2py.ipython extension is already loaded. To reload it, use:\n",
      "  %reload_ext oct2py.ipython\n"
     ]
    }
   ],
   "source": [
    "%load_ext oct2py.ipython\n",
    "import networkx as nx\n",
    "import numpy as np\n",
    "from scipy.spatial.distance import pdist, squareform\n",
    "import math\n",
    "#import matplotlib.pyplot as plt"
   ]
  },
  {
   "cell_type": "code",
   "execution_count": 689,
   "metadata": {},
   "outputs": [
    {
     "name": "stdout",
     "output_type": "stream",
     "text": [
      "warning: addpath: /home/urban_communities/scripts: No such file or directory\n"
     ]
    }
   ],
   "source": [
    "from oct2py import octave\n",
    "_ = octave.addpath('/home/urban_communities/scripts') # KERDES HOL VAN?\n",
    "_ = octave.addpath('/home/ubuntu/GenLouvain/')\n",
    "_ = octave.addpath('/home/ubuntu/GenLouvain/private/')\n",
    "from time import time\n",
    "from copy import deepcopy"
   ]
  },
  {
   "cell_type": "code",
   "execution_count": 690,
   "metadata": {},
   "outputs": [],
   "source": [
    "%matplotlib inline"
   ]
  },
  {
   "cell_type": "raw",
   "metadata": {},
   "source": [
    "@ - matrixszorzas\n",
    "\n",
    "[[1,1],[1,1]] @ [[1,1],[1,1]] = [[2,2],[2,2]] \n",
    "\n",
    "* - elemenkenti szorzas\n",
    "\n",
    "[[1,1],[1,1]] * [[1,1],[1,1]] = [[1,1],[1,1]]"
   ]
  },
  {
   "cell_type": "markdown",
   "metadata": {},
   "source": [
    "* Ctrl + shift + - tori el a cellat\n",
    "* Shift + M = merge\n",
    "* az ocatve-ban a ' a transzponalas\n",
    "* az octave szigoruan megkulonbozteti a sor- es oszlopvektorokat\n",
    "* az octave vektor/matrix objektumai jobban hasonlitanak a np.matrix-ra mint az array-re\n",
    "* az octave-ban a ./ .* stb. mindig az elemenkenti muveleteket jelentik, mintha np.array-ekkel dolgoznal\n",
    "* az octave 1-tol indexel, a Python 0-tol"
   ]
  },
  {
   "cell_type": "raw",
   "metadata": {},
   "source": [
    "# sample graph try\n",
    "\n",
    "G = nx.Graph()\n",
    "G.add_edges_from([(0, 0), (2, 0), (1,1)])\n",
    "A = nx.adjacency_matrix(G) # flow\n",
    "\n",
    "\n",
    "coords = np.array([(0, 0), (2, 0),(1,1)])\n",
    "d = pdist(coords)\n",
    "D = squareform(pdist(coords)) # Dist\n",
    "\n",
    " # importance - number of users\n",
    "N = np.matrix([1,1,1]).T\n",
    "# binsize\n",
    "max_dist = np.amax(D)\n",
    "b = max_dist/4 # number of bins = 100"
   ]
  },
  {
   "cell_type": "code",
   "execution_count": 691,
   "metadata": {},
   "outputs": [
    {
     "name": "stderr",
     "output_type": "stream",
     "text": [
      "/home/ubuntu/anaconda3/lib/python3.7/site-packages/networkx/drawing/nx_pylab.py:611: MatplotlibDeprecationWarning: isinstance(..., numbers.Number)\n",
      "  if cb.is_numlike(alpha):\n"
     ]
    },
    {
     "data": {
      "image/png": "[encoded data removed]",
      "text/plain": [
       "<Figure size 432x288 with 1 Axes>"
      ]
     },
     "metadata": {},
     "output_type": "display_data"
    }
   ],
   "source": [
    "# Eszter graph\n",
    "# a good modular input matrix\n",
    "p = np.ones((3,3))*0.05 + np.eye(3)*(1-3*0.05)\n",
    "G = nx.stochastic_block_model([5]*3,p) # 20 helyett 5\n",
    "nx.draw(G)"
   ]
  },
  {
   "cell_type": "code",
   "execution_count": 692,
   "metadata": {},
   "outputs": [],
   "source": [
    "# adjacency matrix\n",
    "A = nx.adjacency_matrix(G)\n",
    "# distance matrix\n",
    "D = np.random.rand(len(G.nodes()),len(G.nodes()))\n",
    "# importance\n",
    "N = np.matrix([v for (k,v) in G.degree]).T # KERDES nem lenne jobb meghagyni vektornak, ha ugyis 1 dimenzios??\n",
    "# binsize\n",
    "b = 0.05"
   ]
  },
  {
   "cell_type": "code",
   "execution_count": 693,
   "metadata": {},
   "outputs": [
    {
     "data": {
      "text/plain": [
       "matrix([[0, 1, 1, 1, 1, 0, 0, 0, 0, 0, 0, 0, 0, 0, 0],\n",
       "        [1, 0, 0, 1, 1, 0, 0, 0, 0, 0, 0, 0, 0, 0, 0],\n",
       "        [1, 0, 0, 1, 1, 0, 0, 0, 0, 0, 1, 0, 0, 0, 0],\n",
       "        [1, 1, 1, 0, 1, 1, 0, 0, 0, 0, 0, 0, 0, 1, 0],\n",
       "        [1, 1, 1, 1, 0, 0, 0, 0, 0, 0, 0, 0, 0, 0, 0],\n",
       "        [0, 0, 0, 1, 0, 0, 1, 1, 0, 1, 0, 0, 0, 0, 0],\n",
       "        [0, 0, 0, 0, 0, 1, 0, 1, 1, 1, 0, 0, 0, 0, 0],\n",
       "        [0, 0, 0, 0, 0, 1, 1, 0, 1, 1, 0, 0, 0, 0, 0],\n",
       "        [0, 0, 0, 0, 0, 0, 1, 1, 0, 1, 0, 0, 0, 0, 0],\n",
       "        [0, 0, 0, 0, 0, 1, 1, 1, 1, 0, 0, 0, 0, 0, 0],\n",
       "        [0, 0, 1, 0, 0, 0, 0, 0, 0, 0, 0, 1, 1, 0, 1],\n",
       "        [0, 0, 0, 0, 0, 0, 0, 0, 0, 0, 1, 0, 1, 0, 1],\n",
       "        [0, 0, 0, 0, 0, 0, 0, 0, 0, 0, 1, 1, 0, 1, 1],\n",
       "        [0, 0, 0, 1, 0, 0, 0, 0, 0, 0, 0, 0, 1, 0, 1],\n",
       "        [0, 0, 0, 0, 0, 0, 0, 0, 0, 0, 1, 1, 1, 1, 0]], dtype=int64)"
      ]
     },
     "execution_count": 693,
     "metadata": {},
     "output_type": "execute_result"
    }
   ],
   "source": [
    "A.todense()"
   ]
  },
  {
   "cell_type": "code",
   "execution_count": 694,
   "metadata": {},
   "outputs": [],
   "source": [
    "# TRY- modified code without loops to test code line by line"
   ]
  },
  {
   "cell_type": "raw",
   "metadata": {},
   "source": [
    "%%octave -i A,D,N,b -o dist,num,DeterrenceFct,normaDeterrence,matrixdistance,N,b\n",
    "\n",
    "addpath('/home/ubuntu/GenLouvain/')\n",
    "addpath('/home/ubuntu/GenLouvain/private/')\n",
    "\n",
    "number=size(A,1); %number of nodes in the system\n",
    "\n",
    "nbox=100; %number of bins, might need to increase it depending on your system and of level of coarse-graining\n",
    "\n",
    "% intialisation of different vectors and matrices\n",
    "DeterrenceFct=zeros(nbox,1);\n",
    "normaDeterrence=zeros(nbox,1);\n",
    "matrixdistance=zeros(number,number);\n",
    "nullmodelGN=zeros(number,number);\n",
    "nullmodelSpa=zeros(number,number);\n",
    "\n",
    "A=A+A'; %symmetrised matrix (doesn't change the outcome of community detection (arXiv:0812.1770))\n",
    "degree=sum(A); % degree/strength of the nodes\n",
    "disp('degree')\n",
    "disp(degree)\n",
    "nullN=N*N'; % matrix of the importance of nodes\n",
    "matrix=A./nullN; % normalised adjacency matrix\n",
    "\n",
    "% We first calculate the correlations as a function of distance\n",
    "\n",
    "i=number\n",
    "ii=number\n",
    "\n",
    "% convert distances in binsize's units\n",
    "dist=1+ceil(D(i,ii)/b); \n",
    "matrixdistance(i,ii)=dist;\n",
    "\n",
    "% weighted average for the deterrence function\n",
    "num=matrix(i,ii);\n",
    "DeterrenceFct(dist,1)=DeterrenceFct(dist,1)+num*N(i,1)*N(ii,1); %%%%% csak 1-től 10-ig van benne szám, 0 és 11+-ban nincs HIBA??\n",
    "normaDeterrence(dist,1)=normaDeterrence(dist,1)%+N(i,1)*N(ii,1); %%%% HIBA\n",
    "\n",
    "disp('bent')\n",
    "% normalisation of the deterrence function\n",
    "for i=1:nbox\n",
    "    disp('bent_2')\n",
    "    if(normaDeterrence(i,1)~=0)\n",
    "        DeterrenceFct(i,1)=DeterrenceFct(i,1)/normaDeterrence(i,1);\n",
    "    end\n",
    "end\n",
    "\n",
    "% copmutation of the randomised correlations (preserving space), spatial\n",
    "% null-model\n",
    "for i=1:number\n",
    "    for ii=1:number\n",
    "        nullmodelSpa(i,ii)=DeterrenceFct(matrixdistance(i,ii),1);\n",
    "    end \n",
    "end\n",
    "\n",
    "% the modularity matrix for the spatial null-model\n",
    "ModularitySpa=A-nullN.*nullmodelSpa*sum(sum(Flow))/sum(sum(nullN.*nullmodelSpa));\n",
    "\n",
    "% the modularity matrix for the GN null-model\n",
    "nullmodelGN=degree'*degree/(sum(degree)); % Newman-Girvan null-model\n",
    "ModularityGN=A-nullmodelGN"
   ]
  },
  {
   "cell_type": "code",
   "execution_count": 695,
   "metadata": {
    "scrolled": true
   },
   "outputs": [
    {
     "data": {
      "text/plain": [
       "nevezo ="
      ]
     },
     "metadata": {},
     "output_type": "display_data"
    },
    {
     "data": {
      "text/plain": []
     },
     "metadata": {},
     "output_type": "display_data"
    },
    {
     "data": {
      "text/plain": [
       " Columns 1 through 8:"
      ]
     },
     "metadata": {},
     "output_type": "display_data"
    },
    {
     "data": {
      "text/plain": []
     },
     "metadata": {},
     "output_type": "display_data"
    },
    {
     "data": {
      "text/plain": [
       "    56.456    47.794    55.403   103.111    65.123    38.667    41.944    29.935"
      ]
     },
     "metadata": {},
     "output_type": "display_data"
    },
    {
     "data": {
      "text/plain": [
       "    47.794    31.757    47.794    58.817    46.659    77.333    94.909    45.639"
      ]
     },
     "metadata": {},
     "output_type": "display_data"
    },
    {
     "data": {
      "text/plain": [
       "   126.545    45.639    38.667    84.684   126.545    52.282    52.282    56.456"
      ]
     },
     "metadata": {},
     "output_type": "display_data"
    },
    {
     "data": {
      "text/plain": [
       "   154.667    62.328   119.742   118.189    78.423    78.792    99.429    78.423"
      ]
     },
     "metadata": {},
     "output_type": "display_data"
    },
    {
     "data": {
      "text/plain": [
       "   126.545    77.333   103.111    97.684    38.667    52.528   103.111    38.667"
      ]
     },
     "metadata": {},
     "output_type": "display_data"
    },
    {
     "data": {
      "text/plain": [
       "    41.944    47.794    55.403    58.000    79.828    38.667    52.282    60.852"
      ]
     },
     "metadata": {},
     "output_type": "display_data"
    },
    {
     "data": {
      "text/plain": [
       "    62.212    48.842   126.545   148.480    89.806    52.528    38.667    56.456"
      ]
     },
     "metadata": {},
     "output_type": "display_data"
    },
    {
     "data": {
      "text/plain": [
       "    65.123    22.452    63.725    58.000    38.667    79.828    56.456    56.456"
      ]
     },
     "metadata": {},
     "output_type": "display_data"
    },
    {
     "data": {
      "text/plain": [
       "    67.355    34.994    49.714    62.328    41.552    59.871    46.659    67.355"
      ]
     },
     "metadata": {},
     "output_type": "display_data"
    },
    {
     "data": {
      "text/plain": [
       "    60.852    47.794    63.725    97.684    38.667    79.828   126.545   126.545"
      ]
     },
     "metadata": {},
     "output_type": "display_data"
    },
    {
     "data": {
      "text/plain": [
       "    62.212    59.871    55.403    83.104    55.403    79.828    38.667    60.852"
      ]
     },
     "metadata": {},
     "output_type": "display_data"
    },
    {
     "data": {
      "text/plain": [
       "    74.240    36.632    39.211    68.459    22.452    29.000    42.342    46.659"
      ]
     },
     "metadata": {},
     "output_type": "display_data"
    },
    {
     "data": {
      "text/plain": [
       "    65.123    48.842    68.741    93.318    55.403    52.528    29.935    56.456"
      ]
     },
     "metadata": {},
     "output_type": "display_data"
    },
    {
     "data": {
      "text/plain": [
       "    29.000    44.903    47.794   111.360    94.909    94.909    77.333    47.794"
      ]
     },
     "metadata": {},
     "output_type": "display_data"
    },
    {
     "data": {
      "text/plain": [
       "    38.667    47.794    60.852    62.915    52.528    41.944    63.725    38.667"
      ]
     },
     "metadata": {},
     "output_type": "display_data"
    },
    {
     "data": {
      "text/plain": []
     },
     "metadata": {},
     "output_type": "display_data"
    },
    {
     "data": {
      "text/plain": [
       " Columns 9 through 15:"
      ]
     },
     "metadata": {},
     "output_type": "display_data"
    },
    {
     "data": {
      "text/plain": []
     },
     "metadata": {},
     "output_type": "display_data"
    },
    {
     "data": {
      "text/plain": [
       "    51.556    29.935    62.212    31.458    79.828    22.452    65.123"
      ]
     },
     "metadata": {},
     "output_type": "display_data"
    },
    {
     "data": {
      "text/plain": [
       "    35.845    31.458    41.552    31.757    22.452    23.593    31.458"
      ]
     },
     "metadata": {},
     "output_type": "display_data"
    },
    {
     "data": {
      "text/plain": [
       "    77.333    41.944   103.111    51.556    29.935    29.000    38.667"
      ]
     },
     "metadata": {},
     "output_type": "display_data"
    },
    {
     "data": {
      "text/plain": [
       "    63.513    78.792    95.588    63.513    99.429    73.263    83.104"
      ]
     },
     "metadata": {},
     "output_type": "display_data"
    },
    {
     "data": {
      "text/plain": [
       "    41.552    41.944    63.725    49.714    65.123    29.000    56.456"
      ]
     },
     "metadata": {},
     "output_type": "display_data"
    },
    {
     "data": {
      "text/plain": [
       "    42.342    79.828    89.806    29.000   126.545    41.552    38.667"
      ]
     },
     "metadata": {},
     "output_type": "display_data"
    },
    {
     "data": {
      "text/plain": [
       "    29.000    38.667   103.111    39.211    65.123    47.794    52.282"
      ]
     },
     "metadata": {},
     "output_type": "display_data"
    },
    {
     "data": {
      "text/plain": [
       "    39.396    41.944    62.212    59.871    55.403    48.842    56.456"
      ]
     },
     "metadata": {},
     "output_type": "display_data"
    },
    {
     "data": {
      "text/plain": [
       "    55.680    49.714    46.659    36.632    29.000    44.903    39.396"
      ]
     },
     "metadata": {},
     "output_type": "display_data"
    },
    {
     "data": {
      "text/plain": [
       "    48.842    38.667   103.111    51.556    52.528    41.552    89.806"
      ]
     },
     "metadata": {},
     "output_type": "display_data"
    },
    {
     "data": {
      "text/plain": [
       "    49.714   103.111   126.545    22.452    66.286    42.342    68.741"
      ]
     },
     "metadata": {},
     "output_type": "display_data"
    },
    {
     "data": {
      "text/plain": [
       "    29.408    39.396    29.000    29.408    74.240    34.994    31.458"
      ]
     },
     "metadata": {},
     "output_type": "display_data"
    },
    {
     "data": {
      "text/plain": [
       "    67.355    68.741    62.212    67.355    89.806    77.333    60.852"
      ]
     },
     "metadata": {},
     "output_type": "display_data"
    },
    {
     "data": {
      "text/plain": [
       "    29.408    59.871    39.396    31.757    47.794    34.994    67.355"
      ]
     },
     "metadata": {},
     "output_type": "display_data"
    },
    {
     "data": {
      "text/plain": [
       "    41.552    52.282    63.725    42.342    55.403    94.909    52.282"
      ]
     },
     "metadata": {},
     "output_type": "display_data"
    },
    {
     "data": {
      "text/plain": []
     },
     "metadata": {},
     "output_type": "display_data"
    },
    {
     "data": {
      "text/plain": [
       "WARNING: Forced symmetric B matrix"
      ]
     },
     "metadata": {},
     "output_type": "display_data"
    },
    {
     "data": {
      "text/plain": [
       "WARNING: Forced symmetric B matrix"
      ]
     },
     "metadata": {},
     "output_type": "display_data"
    }
   ],
   "source": [
    "%%octave -i A,D,N,b -o Ms,Mg,Dfn,S,Q,n_it,N,nGN,nSpa,deg,nev\n",
    "\n",
    "addpath('/home/ubuntu/GenLouvain/')\n",
    "addpath('/home/ubuntu/GenLouvain/private/')\n",
    "function [ModularitySpa,ModularityGN,DeterrenceFct,nullmodelGN,nullmodelSpa,degree,nevezo]=ModularitySpaGN(Flow,Dist,N,binsize);\n",
    "    % Flow: Adjacency matrix\n",
    "    % Dist: Distance matrix between the nodes\n",
    "    % N: a measure of the importance of a node (by default its strength: Dist=sum(Flow,1); for example)\n",
    "    % binsize: size of the bins in the estimation of the deterrence function\n",
    "    % (has to be tuned according to the problem)\n",
    "    \n",
    "    %disp(\"Beginning of modularity function...\");\n",
    "\n",
    "    number=size(Flow,1); %number of nodes in the system\n",
    "\n",
    "    nbox=100; %number of bins, might need to increase it depending on your system and of level of coarse-graining\n",
    "\n",
    "    % intialisation of different vectors and matrices\n",
    "    DeterrenceFct=zeros(nbox,1);\n",
    "    normaDeterrence=zeros(nbox,1);\n",
    "\n",
    "    matrixdistance=zeros(number,number);\n",
    "    nullmodelGN=zeros(number,number);\n",
    "    nullmodelSpa=zeros(number,number);\n",
    "\n",
    "    Flow=Flow+Flow'; %symmetrised matrix (doesn't change the outcome of community detection (arXiv:0812.1770))\n",
    "    degree=sum(Flow); % degree/strength of the nodes\n",
    "    nullN=N*N'; % matrix of the importance of nodes\n",
    "    matrix=Flow./nullN; % normalised adjacency matrix\n",
    "    \n",
    "    %disp(\"Preparation done.\")\n",
    "    \n",
    "    %disp(\"Deterrence function...\")\n",
    "\n",
    "    %We first calculate the correlations as a function of distance\n",
    "\n",
    "    for i=1:number\n",
    "        %disp(i)\n",
    "        for ii=1:number\n",
    "\n",
    "        % convert distances in binsize's units\n",
    "        dist=ceil(Dist(i,ii)/binsize); %%%%%%% KERDES: NEM ERTEK VELE EGYET, KITOROLheTEM A +1-ET??\n",
    "        matrixdistance(i,ii)=dist;\n",
    "\n",
    "        % weighted average for the deterrence function\n",
    "        num=matrix(i,ii);\n",
    "        DeterrenceFct(dist,1)=DeterrenceFct(dist,1)+num*N(i,1)*N(ii,1);\n",
    "        normaDeterrence(dist,1)=normaDeterrence(dist,1)+N(i,1)*N(ii,1);\n",
    "        end \n",
    "    end\n",
    "    %disp(\"Done.\")\n",
    "\n",
    "    %disp(\"Normalization...\")\n",
    "    % normalisation of the deterrence function\n",
    "    for i=1:nbox\n",
    "        %disp(i)\n",
    "        if(normaDeterrence(i,1)~=0)\n",
    "            DeterrenceFct(i,1)=DeterrenceFct(i,1)/normaDeterrence(i,1);\n",
    "        end\n",
    "    end\n",
    "    \n",
    "    %disp(\"Done.\")\n",
    "    \n",
    "    %disp(\"Null modell...\")\n",
    "\n",
    "    % copmutation of the randomised correlations (preserving space), spatial\n",
    "    % null-model\n",
    "    for i=1:number\n",
    "        for ii=1:number\n",
    "            nullmodelSpa(i,ii)=DeterrenceFct(matrixdistance(i,ii),1);\n",
    "        end \n",
    "    end\n",
    "    \n",
    "    %disp(\"Done.\")\n",
    "\n",
    "    %disp(\"Modularity calc...\")\n",
    "    % the modularity matrix for the spatial null-model\n",
    "    ModularitySpa=Flow-nullN.*nullmodelSpa*sum(sum(Flow))/sum(sum(nullN.*nullmodelSpa));\n",
    "    \n",
    "    nevezo = nullN.*nullmodelSpa*sum(sum(Flow))\n",
    "\n",
    "    % the modularity matrix for the GN null-model\n",
    "    nullmodelGN=degree'*degree/(sum(degree)); % Newman-Girvan null-model\n",
    "    ModularityGN=Flow-nullmodelGN;\n",
    "    %disp(\"Done.\")\n",
    "endfunction\n",
    "\n",
    "\n",
    "[Ms,Mg,Dfn,nGN,nSpa,deg,nev] = ModularitySpaGN(A,D,N,b);\n",
    "[S,Q,n_it] = iterated_genlouvain(Ms);"
   ]
  },
  {
   "cell_type": "markdown",
   "metadata": {},
   "source": [
    "Ide jon alulra a Python code"
   ]
  },
  {
   "cell_type": "code",
   "execution_count": 696,
   "metadata": {},
   "outputs": [],
   "source": [
    "def SpaMod(A,D,N,b): # flow - adjacency matrix\n",
    "    \"\"\"\n",
    "    Function that calculates the matrix for the clustering \n",
    "    based on spatial null model a la Expert.\n",
    "    \n",
    "    Parameters:\n",
    "    -----------\n",
    "    \n",
    "    A : scipy.sparse.csr.csr_matrix\n",
    "        adjacency matrix\n",
    "    D : numpy.ndarray\n",
    "        Distance matrix between the nodes\n",
    "    N : numpy.matrix\n",
    "        a measure of the importance of a node\n",
    "        the number of users living(home-location) in the given tract\n",
    "    b : float\n",
    "        size of the bins in the estimation of the deterrence function\n",
    "    Returns:\n",
    "    --------\n",
    "    \n",
    "    KERDES - ellenorizni\n",
    "    ModularitySpa : \n",
    "    ModularityGN :\n",
    "    \"\"\"\n",
    "    \n",
    "    tic = time()\n",
    "    \n",
    "    print(\"Beginning of modularity function...\");\n",
    "    \n",
    "    number=A.shape[0] # number of nodes\n",
    "    nbox = 20 ## MODIFIED number of bins JAVITASHOZ PROBA!!!!!!\n",
    "    \n",
    "    # intialisation of different vectors and matrices\n",
    "    DeterrenceFct=np.zeros((nbox,1));\n",
    "    normaDeterrence=np.zeros((nbox,1));\n",
    "    matrixdistance=np.zeros((number,number));\n",
    "    nullmodelGN=np.zeros((number,number));\n",
    "    nullmodelSpa=np.zeros((number,number));\n",
    "    \n",
    "    A = A + A.T # felesleges?? KERDES -- symmetrised matrix (doesn't change the outcome of community detection (arXiv:0812.1770))\n",
    "    \n",
    "    degree = A.sum(axis=0) \n",
    "    # np.squeeze(np.asarray(A.sum(axis=0))) # degree or strength of nodes || asarry for further usage\n",
    "    # JAVITAS degree matrix formaban hagyva\n",
    "    \n",
    "    \n",
    "    nullN = N * N.T # matrix of the importance of nodes\n",
    "    \n",
    "    # matrix = np.divide(A.T,nullN) ## KERDESES, HOGY JO-e\n",
    "    matrix = A/nullN # normalized adjacency matrix\n",
    "    \n",
    "    toc = time()\n",
    "    print(\"Done.\",\"%.2f\" % (toc-tic))\n",
    "    tic = toc\n",
    "    print('Preparation done.')\n",
    "    \n",
    "    print('Deterrence function...')\n",
    "\n",
    "    for i in range(number):\n",
    "        for ii in range(number):\n",
    "            \n",
    "            # convert distances in binsize's units\n",
    "            dist = math.floor(D[i,ii]/b);\n",
    "            matrixdistance[i,ii]=dist;\n",
    "\n",
    "            # weighted average for the deterrence function\n",
    "            num = matrix[i,ii];\n",
    "            DeterrenceFct[dist,0]=DeterrenceFct[dist,0]+num*N[i,0]*N[ii,0];\n",
    "            normaDeterrence[dist,0]=normaDeterrence[dist,0]+N[i,0]*N[ii,0];\n",
    "            # ALTERNATIVELY\n",
    "            # ceiler = lambda x: math.ceil(x)\n",
    "            # vceil = np.vectorize(ceiler)\n",
    "            # matrixdistance = vceil(D/b)\n",
    "            # DeterrenceFct = DeterrenceFct + np.multiply(np.multiply(N,N.T),matrix)\n",
    "            # normaDeterrence = normaDeterrence + np.multiply(N,N.T)\n",
    "    \n",
    "    toc = time()\n",
    "    print(\"Done.\",\"%.2f\" % (toc-tic))\n",
    "    tic = toc\n",
    "   \n",
    "    print('Normalization...')\n",
    "    # normalisation of the deterrence function - NINCS ELLENŐRIZVE EZ A CIKLUS\n",
    "    for i in range(nbox):\n",
    "        if(normaDeterrence[i,0]!=0):\n",
    "            DeterrenceFct[i,0]=DeterrenceFct[i,0]/normaDeterrence[i,0];\n",
    "\n",
    "    toc = time()\n",
    "    print(\"Done.\",\"%.2f\" % (toc-tic))\n",
    "    tic = toc\n",
    "    \n",
    "    print(\"Null modell...\")\n",
    "    # copmutation of the randomised correlations (preserving space), spatial\n",
    "    # null-model\n",
    "    for i in range(number):\n",
    "        for ii in range(number):\n",
    "            nullmodelSpa[i,ii]=DeterrenceFct[matrixdistance[i,ii].astype(int),0];\n",
    "    print(\"Done.\")\n",
    "    \n",
    "    print(\"Modularity calc...\")\n",
    "    # the modularity matrix for the spatial null-model\n",
    "    ModularitySpa=A-np.multiply(nullN, nullmodelSpa*A.sum()/np.multiply(nullN,nullmodelSpa).sum());\n",
    "    \n",
    "    # the modularity matrix for the GN null-model\n",
    "    nullmodelGN = degree.T*degree/degree.sum(); # Newman-Girvan null-model\n",
    "    ModularityGN=A-nullmodelGN;\n",
    "    print(\"Done.\")\n",
    "    return ModularitySpa,ModularityGN#, nullmodelSpa, nullmodelGN, DeterrenceFct, normadet, matrixdistance"
   ]
  },
  {
   "cell_type": "code",
   "execution_count": 705,
   "metadata": {},
   "outputs": [],
   "source": [
    "# ALTERNATIVE\n",
    "\n",
    "def SpaMod_2(A,D,N,b): # flow - adjacency matrix\n",
    "    \"\"\"\n",
    "    Function that calculates the matrix for the clustering \n",
    "    based on spatial null model a la Expert.\n",
    "    \n",
    "    Parameters:\n",
    "    -----------\n",
    "    \n",
    "    A : scipy.sparse.csr.csr_matrix\n",
    "        adjacency matrix\n",
    "    D : numpy.ndarray\n",
    "        Distance matrix between the nodes\n",
    "    N : numpy.matrix\n",
    "        a measure of the importance of a node\n",
    "        the number of users living(home-location) in the given tract\n",
    "    b : float\n",
    "        size of the bins in the estimation of the deterrence function\n",
    "    Returns:\n",
    "    --------\n",
    "    \n",
    "    KERDES - ellenorizni\n",
    "    ModularitySpa : \n",
    "    ModularityGN :\n",
    "    \"\"\"\n",
    "    \n",
    "    tic = time()\n",
    "    \n",
    "    print(\"Beginning of modularity function...\");   \n",
    "    # felesleges?? KERDES -- symmetrised matrix (doesn't change the outcome of community detection (arXiv:0812.1770))\n",
    "    A = A + A.T ### KERDES KELL-e?? TODO ATGONDOLNI? ILLETVE LE KELL-e osztani 2-vel   / 2     \n",
    "        \n",
    "    # deterrence function\n",
    "    det, detbins = np.histogram(\n",
    "        D.flatten(),\n",
    "        range = (0, np.ceil(D.max()/b)*b), # JAVITAS\n",
    "        weights = np.array(A.todense()).flatten(), \n",
    "        bins=int(np.ceil(D.max()/b))\n",
    "    )\n",
    "    normadet, _ = np.histogram(\n",
    "        D.flatten(), \n",
    "        range = (0, np.ceil(D.max()/b)*b),\n",
    "        weights = np.array(N*N.T).flatten(), \n",
    "        bins=int(np.ceil(D.max()/b))\n",
    "    )\n",
    "    det = det / normadet\n",
    "    det[np.isnan(det)] = 0\n",
    "    \n",
    "    toc = time()\n",
    "    print(\"Done.\",\"%.2f\" % (toc-tic))\n",
    "    \n",
    "    tic = toc\n",
    "    \n",
    "    print(\"Null modell...\")\n",
    "    \n",
    "    # copmutation of the randomised correlations (preserving space), spatial\n",
    "    # null-model\n",
    "    nullmodelSpa = det[np.digitize(D,detbins,right=True)-1]\n",
    "    \n",
    "    toc = time()\n",
    "    print(\"Done.\",\"%.2f\" % (toc-tic))\n",
    "    \n",
    "    tic = toc\n",
    "    \n",
    "    print(\"Modularity calc...\")\n",
    "    \n",
    "    # the modularity matrix for the spatial null-model\n",
    "    ModularitySpa=A-np.multiply(N*N.T, nullmodelSpa*A.sum()/np.multiply(N*N.T,nullmodelSpa).sum())\n",
    "    # the modularity matrix for the GN null-model\n",
    "    degree = degree = A.sum(axis=0) # JAVITVA np.squeeze(np.asarray(A.sum(axis=0))) # degree or strength of nodes || asarry for further usage\n",
    "    nullmodelGN = degree.T*degree/degree.sum() # Newman-Girvan null-model\n",
    "    ModularityGN = A - nullmodelGN\n",
    "    \n",
    "    toc = time()\n",
    "    print(\"Done.\",\"%.2f\" % (toc-tic))\n",
    "    \n",
    "    return ModularitySpa, ModularityGN#, nullmodelSpa, nullmodelGN, det, normadet, detbins, matrixdist"
   ]
  },
  {
   "cell_type": "code",
   "execution_count": 706,
   "metadata": {},
   "outputs": [
    {
     "name": "stdout",
     "output_type": "stream",
     "text": [
      "Beginning of modularity function...\n",
      "Done. 0.00\n",
      "Preparation done.\n",
      "Deterrence function...\n",
      "Done. 0.00\n",
      "Normalization...\n",
      "Done. 0.00\n",
      "Null modell...\n",
      "Done.\n",
      "Modularity calc...\n",
      "Done.\n",
      "WARNING: Forced symmetric B matrix\n",
      "WARNING: Forced symmetric B matrix\n"
     ]
    }
   ],
   "source": [
    "Ms_1, Mgn_1 = SpaMod(A,D,N,b) # , nSpa_1, nGN_1, Dfn_1, nDfn_1, matrixdist_1 \n",
    "S_ms_1,Q_ms_1,n_it_ms_1 = octave.iterated_genlouvain(Ms_1, nout=3)"
   ]
  },
  {
   "cell_type": "code",
   "execution_count": 707,
   "metadata": {},
   "outputs": [
    {
     "name": "stdout",
     "output_type": "stream",
     "text": [
      "Beginning of modularity function...\n",
      "Done. 0.00\n",
      "Null modell...\n",
      "Done. 0.00\n",
      "Modularity calc...\n",
      "Done. 0.00\n",
      "WARNING: Forced symmetric B matrix\n",
      "WARNING: Forced symmetric B matrix\n"
     ]
    }
   ],
   "source": [
    "Ms_2, Mgn_2 = SpaMod_2(A,D,N,b) # , nSpa_2, nGN_2, Dfn_2, nDfn_2, detbins_2, matrixdist_2\n",
    "S_ms_2,Q_ms_2,n_it_ms_2 = octave.iterated_genlouvain(Ms_2, nout=3)"
   ]
  },
  {
   "cell_type": "code",
   "execution_count": 678,
   "metadata": {},
   "outputs": [
    {
     "data": {
      "text/plain": [
       "0.0"
      ]
     },
     "execution_count": 678,
     "metadata": {},
     "output_type": "execute_result"
    }
   ],
   "source": [
    "matrixdist_dif = matrixdist_2-matrixdist_1\n",
    "matrixdist_dif.sum()"
   ]
  },
  {
   "cell_type": "code",
   "execution_count": 679,
   "metadata": {},
   "outputs": [
    {
     "data": {
      "text/plain": [
       "array([0., 0., 0., 0., 0., 0., 0., 0., 0., 0., 0., 0., 0., 0., 0., 0., 0.,\n",
       "       0., 0., 0.])"
      ]
     },
     "execution_count": 679,
     "metadata": {},
     "output_type": "execute_result"
    }
   ],
   "source": [
    "np.unique(nSpa_2)-np.unique(Dfn_2)"
   ]
  },
  {
   "cell_type": "code",
   "execution_count": 680,
   "metadata": {},
   "outputs": [
    {
     "data": {
      "text/plain": [
       "array([0.  , 0.05, 0.1 , 0.15, 0.2 , 0.25, 0.3 , 0.35, 0.4 , 0.45, 0.5 ,\n",
       "       0.55, 0.6 , 0.65, 0.7 , 0.75, 0.8 , 0.85, 0.9 , 0.95, 1.  ])"
      ]
     },
     "execution_count": 680,
     "metadata": {},
     "output_type": "execute_result"
    }
   ],
   "source": [
    "detbins_2"
   ]
  },
  {
   "cell_type": "code",
   "execution_count": 681,
   "metadata": {},
   "outputs": [
    {
     "data": {
      "text/plain": [
       "array([0.02564103, 0.0361991 , 0.02439024, 0.        , 0.02539683,\n",
       "       0.03292181, 0.07      , 0.01041667, 0.0130719 , 0.02727273,\n",
       "       0.03149606, 0.01780415, 0.02702703, 0.03816794, 0.01904762,\n",
       "       0.04115226, 0.03157895, 0.04210526, 0.04081633, 0.02312139])"
      ]
     },
     "execution_count": 681,
     "metadata": {},
     "output_type": "execute_result"
    }
   ],
   "source": [
    "Dfn_2"
   ]
  },
  {
   "cell_type": "code",
   "execution_count": 682,
   "metadata": {},
   "outputs": [
    {
     "data": {
      "text/plain": [
       "0.0"
      ]
     },
     "execution_count": 682,
     "metadata": {},
     "output_type": "execute_result"
    }
   ],
   "source": [
    "dfn_dif = Dfn_2-Dfn_1.T\n",
    "dfn_dif.sum()"
   ]
  },
  {
   "cell_type": "code",
   "execution_count": 683,
   "metadata": {},
   "outputs": [
    {
     "data": {
      "text/plain": [
       "array([0.02564103, 0.0361991 , 0.02439024, 0.        , 0.02539683,\n",
       "       0.03292181, 0.07      , 0.01041667, 0.0130719 , 0.02727273,\n",
       "       0.03149606, 0.01780415, 0.02702703, 0.03816794, 0.01904762,\n",
       "       0.04115226, 0.03157895, 0.04210526, 0.04081633, 0.02312139])"
      ]
     },
     "execution_count": 683,
     "metadata": {},
     "output_type": "execute_result"
    }
   ],
   "source": [
    "Dfn_1.T[0]"
   ]
  },
  {
   "cell_type": "code",
   "execution_count": 684,
   "metadata": {},
   "outputs": [
    {
     "data": {
      "text/plain": [
       "array([[0., 0., 0., 0., 0., 0., 0., 0., 0., 0., 0., 0., 0., 0., 0.],\n",
       "       [0., 0., 0., 0., 0., 0., 0., 0., 0., 0., 0., 0., 0., 0., 0.],\n",
       "       [0., 0., 0., 0., 0., 0., 0., 0., 0., 0., 0., 0., 0., 0., 0.],\n",
       "       [0., 0., 0., 0., 0., 0., 0., 0., 0., 0., 0., 0., 0., 0., 0.],\n",
       "       [0., 0., 0., 0., 0., 0., 0., 0., 0., 0., 0., 0., 0., 0., 0.],\n",
       "       [0., 0., 0., 0., 0., 0., 0., 0., 0., 0., 0., 0., 0., 0., 0.],\n",
       "       [0., 0., 0., 0., 0., 0., 0., 0., 0., 0., 0., 0., 0., 0., 0.],\n",
       "       [0., 0., 0., 0., 0., 0., 0., 0., 0., 0., 0., 0., 0., 0., 0.],\n",
       "       [0., 0., 0., 0., 0., 0., 0., 0., 0., 0., 0., 0., 0., 0., 0.],\n",
       "       [0., 0., 0., 0., 0., 0., 0., 0., 0., 0., 0., 0., 0., 0., 0.],\n",
       "       [0., 0., 0., 0., 0., 0., 0., 0., 0., 0., 0., 0., 0., 0., 0.],\n",
       "       [0., 0., 0., 0., 0., 0., 0., 0., 0., 0., 0., 0., 0., 0., 0.],\n",
       "       [0., 0., 0., 0., 0., 0., 0., 0., 0., 0., 0., 0., 0., 0., 0.],\n",
       "       [0., 0., 0., 0., 0., 0., 0., 0., 0., 0., 0., 0., 0., 0., 0.],\n",
       "       [0., 0., 0., 0., 0., 0., 0., 0., 0., 0., 0., 0., 0., 0., 0.]])"
      ]
     },
     "execution_count": 684,
     "metadata": {},
     "output_type": "execute_result"
    }
   ],
   "source": [
    "nSpa_dif = nSpa_1-nSpa_2\n",
    "nSpa_dif#.sum()"
   ]
  },
  {
   "cell_type": "code",
   "execution_count": 685,
   "metadata": {},
   "outputs": [
    {
     "data": {
      "text/plain": [
       "matrix([[0., 0., 0., 0., 0., 0., 0., 0., 0., 0., 0., 0., 0., 0., 0.],\n",
       "        [0., 0., 0., 0., 0., 0., 0., 0., 0., 0., 0., 0., 0., 0., 0.],\n",
       "        [0., 0., 0., 0., 0., 0., 0., 0., 0., 0., 0., 0., 0., 0., 0.],\n",
       "        [0., 0., 0., 0., 0., 0., 0., 0., 0., 0., 0., 0., 0., 0., 0.],\n",
       "        [0., 0., 0., 0., 0., 0., 0., 0., 0., 0., 0., 0., 0., 0., 0.],\n",
       "        [0., 0., 0., 0., 0., 0., 0., 0., 0., 0., 0., 0., 0., 0., 0.],\n",
       "        [0., 0., 0., 0., 0., 0., 0., 0., 0., 0., 0., 0., 0., 0., 0.],\n",
       "        [0., 0., 0., 0., 0., 0., 0., 0., 0., 0., 0., 0., 0., 0., 0.],\n",
       "        [0., 0., 0., 0., 0., 0., 0., 0., 0., 0., 0., 0., 0., 0., 0.],\n",
       "        [0., 0., 0., 0., 0., 0., 0., 0., 0., 0., 0., 0., 0., 0., 0.],\n",
       "        [0., 0., 0., 0., 0., 0., 0., 0., 0., 0., 0., 0., 0., 0., 0.],\n",
       "        [0., 0., 0., 0., 0., 0., 0., 0., 0., 0., 0., 0., 0., 0., 0.],\n",
       "        [0., 0., 0., 0., 0., 0., 0., 0., 0., 0., 0., 0., 0., 0., 0.],\n",
       "        [0., 0., 0., 0., 0., 0., 0., 0., 0., 0., 0., 0., 0., 0., 0.],\n",
       "        [0., 0., 0., 0., 0., 0., 0., 0., 0., 0., 0., 0., 0., 0., 0.]])"
      ]
     },
     "execution_count": 685,
     "metadata": {},
     "output_type": "execute_result"
    }
   ],
   "source": [
    "Ms_1-Ms_2"
   ]
  },
  {
   "cell_type": "code",
   "execution_count": 686,
   "metadata": {
    "scrolled": true
   },
   "outputs": [
    {
     "data": {
      "text/plain": [
       "0.0"
      ]
     },
     "execution_count": 686,
     "metadata": {},
     "output_type": "execute_result"
    }
   ],
   "source": [
    "Ms_dif = Ms_1-Ms_2\n",
    "Ms_dif.sum()"
   ]
  },
  {
   "cell_type": "code",
   "execution_count": 687,
   "metadata": {},
   "outputs": [
    {
     "data": {
      "text/plain": [
       "0.0"
      ]
     },
     "execution_count": 687,
     "metadata": {},
     "output_type": "execute_result"
    }
   ],
   "source": [
    "Mgn_dif = Mgn_1-Mgn_2\n",
    "Mgn_dif.sum()"
   ]
  },
  {
   "cell_type": "markdown",
   "metadata": {},
   "source": [
    "# deprecated"
   ]
  },
  {
   "cell_type": "code",
   "execution_count": 90,
   "metadata": {},
   "outputs": [
    {
     "data": {
      "text/plain": [
       "array([[1, 1],\n",
       "       [2, 2]])"
      ]
     },
     "execution_count": 90,
     "metadata": {},
     "output_type": "execute_result"
    }
   ],
   "source": [
    "a = np.array([1,2])\n",
    "b = np.array([[0,0],[1,1]])\n",
    "a[b]"
   ]
  },
  {
   "cell_type": "code",
   "execution_count": null,
   "metadata": {},
   "outputs": [],
   "source": [
    "A[0:10,0:10].todense()"
   ]
  },
  {
   "cell_type": "code",
   "execution_count": null,
   "metadata": {},
   "outputs": [],
   "source": [
    "A.todense()"
   ]
  },
  {
   "cell_type": "code",
   "execution_count": 51,
   "metadata": {},
   "outputs": [
    {
     "data": {
      "text/plain": [
       "matrix([[0, 1, 0, 1, 1, 0, 0, 0, 0, 0, 0, 0, 0, 0, 0, 1, 0, 1, 1, 1, 0,\n",
       "         0, 0, 0, 0, 0, 0, 0, 0, 0, 0, 1, 0, 1, 1, 0, 0, 0, 0, 0, 0, 0,\n",
       "         0, 0, 0, 1, 1, 1, 0, 1, 0, 0, 0, 0, 0, 0, 0, 1, 1, 0, 1, 1, 1,\n",
       "         1, 0, 0, 1, 0, 0, 0, 0, 0, 0, 0, 0, 0, 0, 0, 0, 0, 0, 1, 1, 1,\n",
       "         1, 0, 0, 0, 0, 0, 0, 0, 0, 0, 1, 1, 0, 1, 1, 1, 0, 0, 0, 0, 1,\n",
       "         0, 0, 0, 0, 0, 1, 1, 0, 1, 1, 0, 0, 0, 0, 0, 0, 0, 0, 0, 0, 1,\n",
       "         1, 1, 0, 1, 0, 0, 0, 0, 0, 0, 0, 0, 0, 0, 1, 1, 1, 1, 0, 0, 0,\n",
       "         0, 0, 0, 0, 0, 0, 0, 0, 0, 0, 0, 0, 0, 0, 1, 1, 1, 0, 0, 0, 0,\n",
       "         0, 0, 0, 0, 0, 0, 0, 1, 0, 1, 1, 1, 0, 0, 0, 1, 0, 0, 0, 0, 0,\n",
       "         0, 1, 1, 0, 1, 1, 0, 0, 0, 1, 0, 0, 0, 0, 0, 0, 1, 1, 1, 0, 1,\n",
       "         0, 0, 0, 0, 0, 0, 1, 0, 0, 0, 0, 1, 1, 1, 0]], dtype=int64)"
      ]
     },
     "execution_count": 51,
     "metadata": {},
     "output_type": "execute_result"
    }
   ],
   "source": [
    "A.todense().flatten()"
   ]
  },
  {
   "cell_type": "code",
   "execution_count": 50,
   "metadata": {},
   "outputs": [
    {
     "data": {
      "text/plain": [
       "(225,)"
      ]
     },
     "execution_count": 50,
     "metadata": {},
     "output_type": "execute_result"
    }
   ],
   "source": [
    "D.flatten().shape"
   ]
  },
  {
   "cell_type": "code",
   "execution_count": 85,
   "metadata": {},
   "outputs": [],
   "source": [
    "DeterrenceFct, detbins = np.histogram(D.flatten(), weights = np.array(A.todense()).flatten(), bins=nbox, range=(0,nbox*b))`"
   ]
  },
  {
   "cell_type": "code",
   "execution_count": 14,
   "metadata": {},
   "outputs": [],
   "source": [
    "y,x = np.histogram([1,2,2,1,1,2,2,3], bins=3, range=(0.5,3.5))"
   ]
  },
  {
   "cell_type": "code",
   "execution_count": 15,
   "metadata": {},
   "outputs": [
    {
     "data": {
      "text/plain": [
       "array([3, 4, 1])"
      ]
     },
     "execution_count": 15,
     "metadata": {},
     "output_type": "execute_result"
    }
   ],
   "source": [
    "y"
   ]
  },
  {
   "cell_type": "code",
   "execution_count": 16,
   "metadata": {},
   "outputs": [
    {
     "data": {
      "text/plain": [
       "array([0.5, 1.5, 2.5, 3.5])"
      ]
     },
     "execution_count": 16,
     "metadata": {},
     "output_type": "execute_result"
    }
   ],
   "source": [
    "x"
   ]
  },
  {
   "cell_type": "code",
   "execution_count": 88,
   "metadata": {},
   "outputs": [
    {
     "data": {
      "text/plain": [
       "array([1, 2])"
      ]
     },
     "execution_count": 88,
     "metadata": {},
     "output_type": "execute_result"
    }
   ],
   "source": [
    "np.digitize([1.5,2.5],[1,2,3,4])"
   ]
  },
  {
   "cell_type": "code",
   "execution_count": 44,
   "metadata": {},
   "outputs": [
    {
     "data": {
      "text/plain": [
       "matrix([[2, 1]])"
      ]
     },
     "execution_count": 44,
     "metadata": {},
     "output_type": "execute_result"
    }
   ],
   "source": [
    "np.matrix([2,1])"
   ]
  },
  {
   "cell_type": "code",
   "execution_count": 158,
   "metadata": {},
   "outputs": [
    {
     "data": {
      "text/plain": [
       "matrix([[1, 2, 3],\n",
       "        [1, 2, 4]])"
      ]
     },
     "execution_count": 158,
     "metadata": {},
     "output_type": "execute_result"
    }
   ],
   "source": [
    "B = np.matrix([[1,2,3],[1,2,4]])\n",
    "B"
   ]
  },
  {
   "cell_type": "code",
   "execution_count": 391,
   "metadata": {},
   "outputs": [
    {
     "data": {
      "text/plain": [
       "matrix([[4, 1, 2],\n",
       "        [0, 0, 0],\n",
       "        [1, 1, 1]])"
      ]
     },
     "execution_count": 391,
     "metadata": {},
     "output_type": "execute_result"
    }
   ],
   "source": [
    "M_1 = np.matrix([1,2,3])\n",
    "M_2 = np.matrix([4,1,2])\n",
    "M_3 = np.matrix([[4,1,2],[0,0,0],[1,1,1]])\n",
    "M_3"
   ]
  },
  {
   "cell_type": "code",
   "execution_count": 397,
   "metadata": {},
   "outputs": [
    {
     "data": {
      "text/plain": [
       "matrix([[1, 2, 3],\n",
       "        [2, 4, 6],\n",
       "        [3, 6, 9]])"
      ]
     },
     "execution_count": 397,
     "metadata": {},
     "output_type": "execute_result"
    }
   ],
   "source": [
    "W = np.multiply(M_1.T,M_1)\n",
    "W"
   ]
  },
  {
   "cell_type": "code",
   "execution_count": 395,
   "metadata": {},
   "outputs": [
    {
     "data": {
      "text/plain": [
       "matrix([[4, 2, 6],\n",
       "        [0, 0, 0],\n",
       "        [3, 6, 9]])"
      ]
     },
     "execution_count": 395,
     "metadata": {},
     "output_type": "execute_result"
    }
   ],
   "source": [
    "np.multiply(np.multiply(M_1.T,M_1),M_3)"
   ]
  },
  {
   "cell_type": "code",
   "execution_count": 308,
   "metadata": {},
   "outputs": [
    {
     "data": {
      "text/plain": [
       "matrix([[100,   4,   7]])"
      ]
     },
     "execution_count": 308,
     "metadata": {},
     "output_type": "execute_result"
    }
   ],
   "source": [
    "SUM=B.sum(axis=0)\n",
    "SUM"
   ]
  },
  {
   "cell_type": "code",
   "execution_count": 315,
   "metadata": {},
   "outputs": [
    {
     "data": {
      "text/plain": [
       "100"
      ]
     },
     "execution_count": 315,
     "metadata": {},
     "output_type": "execute_result"
    }
   ],
   "source": [
    "F = np.asarray(SUM)\n",
    "F_2 = np.squeeze(F)\n",
    "F_2[0]"
   ]
  },
  {
   "cell_type": "code",
   "execution_count": 53,
   "metadata": {},
   "outputs": [
    {
     "data": {
      "text/plain": [
       "13"
      ]
     },
     "execution_count": 53,
     "metadata": {},
     "output_type": "execute_result"
    }
   ],
   "source": [
    "B.sum()"
   ]
  },
  {
   "cell_type": "code",
   "execution_count": 368,
   "metadata": {},
   "outputs": [
    {
     "data": {
      "text/plain": [
       "matrix([[99,  2,  3],\n",
       "        [ 1,  2,  4]])"
      ]
     },
     "execution_count": 368,
     "metadata": {},
     "output_type": "execute_result"
    }
   ],
   "source": [
    "B"
   ]
  },
  {
   "cell_type": "code",
   "execution_count": 370,
   "metadata": {},
   "outputs": [
    {
     "data": {
      "text/plain": [
       "matrix([[1.    , 3.    , 6.    ],\n",
       "        [1.5998, 3.2237, 2.162 ]])"
      ]
     },
     "execution_count": 370,
     "metadata": {},
     "output_type": "execute_result"
    }
   ],
   "source": [
    "C"
   ]
  },
  {
   "cell_type": "code",
   "execution_count": 390,
   "metadata": {},
   "outputs": [
    {
     "data": {
      "text/plain": [
       "matrix([[0.    , 6.    , 0.    ],\n",
       "        [1.5998, 6.4474, 8.648 ]])"
      ]
     },
     "execution_count": 390,
     "metadata": {},
     "output_type": "execute_result"
    }
   ],
   "source": [
    "np.multiply(B,C)"
   ]
  },
  {
   "cell_type": "code",
   "execution_count": 59,
   "metadata": {},
   "outputs": [
    {
     "data": {
      "text/plain": [
       "matrix([[ 0. , -1. , -3. ],\n",
       "        [ 0.5,  1.8,  3.9]])"
      ]
     },
     "execution_count": 59,
     "metadata": {},
     "output_type": "execute_result"
    }
   ],
   "source": [
    "B-C"
   ]
  },
  {
   "cell_type": "code",
   "execution_count": 356,
   "metadata": {},
   "outputs": [
    {
     "data": {
      "text/plain": [
       "0.1"
      ]
     },
     "execution_count": 356,
     "metadata": {},
     "output_type": "execute_result"
    }
   ],
   "source": [
    "b"
   ]
  },
  {
   "cell_type": "code",
   "execution_count": 389,
   "metadata": {},
   "outputs": [
    {
     "data": {
      "text/plain": [
       "matrix([[0.    , 3.    , 0.    ],\n",
       "        [1.5998, 3.2237, 2.162 ]])"
      ]
     },
     "execution_count": 389,
     "metadata": {},
     "output_type": "execute_result"
    }
   ],
   "source": [
    "C = np.matrix([[0,3,0],[1.5998,3.2237,2.162]])\n",
    "C"
   ]
  },
  {
   "cell_type": "code",
   "execution_count": null,
   "metadata": {},
   "outputs": [],
   "source": [
    "%%octave -i A,D,N,b -o Ms,Mg,Dfn,S,Q,n_it,N\n",
    "\n",
    "\n",
    "% Flow,Dist,N,binsize - kellenek valami pofonegyszeru bemeneti adatok!\n",
    "\n",
    "disp(\"Beginning of modularity function...\");\n",
    "\n",
    "number=size(Flow,1); %number of nodes in the system\n",
    "\n",
    "nbox=2000; %number of bins, might need to increase it depending on your system and of level of coarse-graining\n",
    "\n",
    "% intialisation of different vectors and matrices\n",
    "DeterrenceFct=zeros(nbox,1);\n",
    "normaDeterrence=zeros(nbox,1);\n",
    "matrixdistance=zeros(number,number);\n",
    "nullmodelGN=zeros(number,number);\n",
    "nullmodelSpa=zeros(number,number);\n",
    "Flow=Flow+Flow'; %symmetrised matrix (doesn't change the outcome of community detection (arXiv:0812.1770))\n",
    "degree=sum(Flow); % degree/strength of the nodes\n",
    "nullN=N*N'; % matrix of the importance of nodes\n",
    "matrix=Flow./nullN; % normalised adjacency matrix\n",
    "\n",
    "disp(\"Preparation done.\")\n",
    "\n",
    "disp(\"Deterrence function...\")\n",
    "\n",
    "%We first calculate the correlations as a function of distance\n",
    "\n",
    "KERDES\n",
    "for i=1:number\n",
    "    disp(i)\n",
    "    for ii=1:number\n",
    "    \n",
    "    % convert distances in binsize's units\n",
    "    dist=1+ceil(Dist(i,ii)/binsize); \n",
    "    matrixdistance(i,ii)=dist;\n",
    "\n",
    "    % weighted average for the deterrence function\n",
    "    num=matrix(i,ii);\n",
    "    DeterrenceFct(dist,1)=DeterrenceFct(dist,1)+num*N(i,1)*N(ii,1);\n",
    "    normaDeterrence(dist,1)=normaDeterrence(dist,1)+N(i,1)*N(ii,1);\n",
    "    end\n",
    "    disp(\"Done.\")\n",
    "disp(\"Normalization...\")\n",
    "% normalisation of the deterrence function\n",
    "for i=1:nbox\n",
    "    disp(i)\n",
    "    if(normaDeterrence(i,1)~=0)\n",
    "        DeterrenceFct(i,1)=DeterrenceFct(i,1)/normaDeterrence(i,1);\n",
    "    end\n",
    "end\n",
    "\n",
    "disp(\"Done.\")\n",
    "\n",
    "disp(\"Null modell...\")\n",
    "\n",
    "% copmutation of the randomised correlations (preserving space), spatial\n",
    "% null-model\n",
    "for i=1:number\n",
    "    for ii=1:number\n",
    "        nullmodelSpa(i,ii)=DeterrenceFct(matrixdistance(i,ii),1);\n",
    "    end \n",
    "end\n",
    "\n",
    "disp(\"Done.\")\n",
    "\n",
    "disp(\"Modularity calc...\")\n",
    "% the modularity matrix for the spatial null-model\n",
    "ModularitySpa=Flow-nullN.*nullmodelSpa*sum(sum(Flow))/sum(sum(nullN.*nullmodelSpa));\n",
    "\n",
    "% the modularity matrix for the GN null-model\n",
    "nullmodelGN=degree'*degree/(sum(degree)); % Newman-Girvan null-model\n",
    "ModularityGN=Flow-nullmodelGN;\n",
    "disp(\"Done.\")"
   ]
  },
  {
   "cell_type": "code",
   "execution_count": 131,
   "metadata": {},
   "outputs": [],
   "source": [
    "%%octave -i A,D,N,b -o number,DeterrenceFct,normaDeterrence,matrixdistance,nullmodelGN,nullmodelSpa\n",
    "\n",
    "addpath('/home/ubuntu/GenLouvain/')\n",
    "addpath('/home/ubuntu/GenLouvain/private/')\n",
    "\n",
    "function [number,DeterrenceFct,normaDeterrence,matrixdistance,nullmodelGN,nullmodelSpa]=ModularitySpaGN(A,Dist,N,binsize)\n",
    "\n",
    "    % Flow: Adjacency matrix REPLACE --> A\n",
    "    % Dist: Distance matrix between the nodes\n",
    "    % N: a measure of the importance of a node (by default its strength: Dist=sum(Flow,1); for example)\n",
    "    % binsize: size of the bins in the estimation of the deterrence function\n",
    "    % (has to be tuned according to the problem)\n",
    "\n",
    "    disp(size(A,1))\n",
    "    number=size(A,1); %number of nodes in the system\n",
    "    \n",
    "\n",
    "    nbox=2000; %number of bins, might need to increase it depending on your system and of level of coarse-graining\n",
    "\n",
    "    % intialisation of different vectors and matrices\n",
    "    DeterrenceFct=zeros(nbox,1);\n",
    "    normaDeterrence=zeros(nbox,1);\n",
    "\n",
    "    matrixdistance=zeros(number,number);\n",
    "    nullmodelGN=zeros(number,number);\n",
    "    nullmodelSpa=zeros(number,number);\n",
    "endfunction"
   ]
  },
  {
   "cell_type": "code",
   "execution_count": null,
   "metadata": {},
   "outputs": [],
   "source": [
    "    Flow=Flow+Flow'; %symmetrised matrix (doesn't change the outcome of community detection (arXiv:0812.1770))\n",
    "    degree=sum(Flow); % degree/strength of the nodes\n",
    "    nullN=N*N'; % matrix of the importance of nodes\n",
    "    matrix=Flow./nullN; % normalised adjacency matrix\n",
    "\n",
    "    %We first calculate the correlations as a function of distance\n",
    "\n",
    "    for i=1:number\n",
    "        for ii=1:number\n",
    "\n",
    "        % convert distances in binsize's units\n",
    "        dist=1+ceil(Dist(i,ii)/binsize); \n",
    "        matrixdistance(i,ii)=dist;\n",
    "\n",
    "        % weighted average for the deterrence function\n",
    "        num=matrix(i,ii);\n",
    "        DeterrenceFct(dist,1)=DeterrenceFct(dist,1)+num*N(i,1)*N(ii,1);\n",
    "        normaDeterrence(dist,1)=normaDeterrence(dist,1)+N(i,1)*N(ii,1);\n",
    "        end \n",
    "    end\n",
    "\n",
    "    % normalisation of the deterrence function\n",
    "    for i=1:nbox\n",
    "        if(normaDeterrence(i,1)~=0)\n",
    "            DeterrenceFct(i,1)=DeterrenceFct(i,1)/normaDeterrence(i,1);\n",
    "        end\n",
    "    end\n",
    "\n",
    "    % copmutation of the randomised correlations (preserving space), spatial\n",
    "    % null-model\n",
    "    for i=1:number\n",
    "        for ii=1:number\n",
    "            nullmodelSpa(i,ii)=DeterrenceFct(matrixdistance(i,ii),1);\n",
    "        end \n",
    "    end\n",
    "\n",
    "    % the modularity matrix for the spatial null-model\n",
    "    ModularitySpa=Flow-nullN.*nullmodelSpa*sum(sum(Flow))/sum(sum(nullN.*nullmodelSpa));\n",
    "\n",
    "    % the modularity matrix for the GN null-model\n",
    "    nullmodelGN=degree'*degree/(sum(degree)); % Newman-Girvan null-model\n",
    "    ModularityGN=Flow-nullmodelGN;\n",
    "endfunction\n",
    "\n",
    "\n",
    "[Ms,Mg,Dfn] = ModularitySpaGN(A,D,N,b);\n",
    "[S,Q,n_it] = iterated_genlouvain(Mg);"
   ]
  },
  {
   "cell_type": "code",
   "execution_count": null,
   "metadata": {},
   "outputs": [],
   "source": [
    "%%octave -i A,D,N,b -o number, normaDeterrence\n",
    "\n",
    "addpath('/home/ubuntu/GenLouvain/')\n",
    "addpath('/home/ubuntu/GenLouvain/private/')\n",
    "\n",
    "number=size(A,1); %number of nodes in the system\n",
    "\n",
    "nbox=2000; %number of bins, might need to increase it depending on your system and of level of coarse-graining\n",
    "\n",
    "% intialisation of different vectors and matrices\n",
    "DeterrenceFct=zeros(nbox,1);\n",
    "normaDeterrence=zeros(nbox,1);"
   ]
  },
  {
   "cell_type": "code",
   "execution_count": null,
   "metadata": {},
   "outputs": [],
   "source": [
    "%%octave -i A,D,N,b -o Ms,Mg,Dfn,S,Q,n_it,N\n",
    "\n",
    "addpath('/home/ubuntu/GenLouvain/')\n",
    "addpath('/home/ubuntu/GenLouvain/private/')\n",
    "\n",
    "function [ModularitySpa,ModularityGN,DeterrenceFct]=ModularitySpaGN(Flow,Dist,N,binsize)\n",
    "\n",
    "    % Flow: Adjacency matrix\n",
    "    % Dist: Distance matrix between the nodes\n",
    "    % N: a measure of the importance of a node (by default its strength: Dist=sum(Flow,1); for example)\n",
    "    % binsize: size of the bins in the estimation of the deterrence function\n",
    "    % (has to be tuned according to the problem)\n",
    "\n",
    "    number=size(Flow,1); %number of nodes in the system\n",
    "    disp('number:')\n",
    "    disp(number)\n",
    "\n",
    "    nbox=100; %number of bins, might need to increase it depending on your system and of level of coarse-graining\n",
    "\n",
    "    % intialisation of different vectors and matrices\n",
    "    DeterrenceFct=zeros(nbox,1);\n",
    "    % disp('DeterrenceFct')\n",
    "    % disp(DeterrenceFct)\n",
    "    normaDeterrence=zeros(nbox,1);\n",
    "    % disp('normaDeterrence')\n",
    "    % disp(normaDeterrence)\n",
    "\n",
    "    matrixdistance=zeros(number,number);\n",
    "    % disp('matrixdistance')\n",
    "    % disp(matrixdistance)\n",
    "    nullmodelGN=zeros(number,number);\n",
    "    % disp('nullmodelGN')\n",
    "    % disp(nullmodelGN)\n",
    "    nullmodelSpa=zeros(number,number);\n",
    "    % disp('nullmodelSpa')\n",
    "    % disp(nullmodelSpa)\n",
    "\n",
    "    % INNEN NEM MEGY!!!\n",
    "    disp(Flow)\n",
    "    Flow=Flow+Flow'; %symmetrised matrix (doesn't change the outcome of community detection (arXiv:0812.1770))\n",
    "    disp('Flow')\n",
    "    disp(Flow)\n",
    "\n",
    "   \n",
    "    degree=sum(Flow); % degree/strength of the nodes\n",
    "    nullN=N*N'; % matrix of the importance of nodes\n",
    "    matrix=Flow./nullN; % normalised adjacency matrix\n",
    "\n",
    "    %We first calculate the correlations as a function of distance\n",
    "\n",
    "    for i=1:number\n",
    "        for ii=1:number\n",
    "\n",
    "        % convert distances in binsize's units\n",
    "        dist=1+% ceil(Dist(i,ii)/binsize); \n",
    "        matrixdistance(i,ii)=dist;\n",
    "\n",
    "        % weighted average for the deterrence function\n",
    "        num=matrix[i][ii];\n",
    "        DeterrenceFct(dist,1)=DeterrenceFct(dist,1)+num*N(i,1)*N(ii,1);\n",
    "        normaDeterrence(dist,1)=normaDeterrence(dist,1)+N(i,1)*N(ii,1);\n",
    "        end \n",
    "    end\n",
    "\n",
    "    % normalisation of the deterrence function\n",
    "    for i=1:nbox\n",
    "        if(normaDeterrence(i,1)~=0)\n",
    "            DeterrenceFct(i,1)=DeterrenceFct(i,1)/normaDeterrence(i,1);\n",
    "        end\n",
    "    end\n",
    "\n",
    "    % copmutation of the randomised correlations (preserving space), spatial\n",
    "    % null-model\n",
    "    for i=1:number\n",
    "        for ii=1:number\n",
    "            nullmodelSpa(i,ii)=DeterrenceFct(matrixdistance(i,ii),1);\n",
    "        end \n",
    "    end\n",
    "\n",
    "    % the modularity matrix for the spatial null-model\n",
    "    ModularitySpa=Flow-nullN.*nullmodelSpa*sum(sum(Flow))/sum(sum(nullN.*nullmodelSpa));\n",
    "\n",
    "    % the modularity matrix for the GN null-model\n",
    "    nullmodelGN=degree'*degree/(sum(degree)); % Newman-Girvan null-model\n",
    "    ModularityGN=Flow-nullmodelGN;\n",
    "endfunction\n",
    "\n",
    "\n",
    "[Ms,Mg,Dfn] = ModularitySpaGN(A,D,N,b);\n",
    "[S,Q,n_it] = iterated_genlouvain(Mg);"
   ]
  }
 ],
 "metadata": {
  "kernelspec": {
   "display_name": "Python 3",
   "language": "python",
   "name": "python3"
  },
  "language_info": {
   "codemirror_mode": {
    "name": "ipython",
    "version": 3
   },
   "file_extension": ".py",
   "mimetype": "text/x-python",
   "name": "python",
   "nbconvert_exporter": "python",
   "pygments_lexer": "ipython3",
   "version": "3.7.2"
  }
 },
 "nbformat": 4,
 "nbformat_minor": 2
}
