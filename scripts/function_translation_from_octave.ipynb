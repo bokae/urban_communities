{
 "cells": [
  {
   "cell_type": "code",
   "execution_count": 2,
   "metadata": {},
   "outputs": [],
   "source": [
    "%load_ext oct2py.ipython"
   ]
  },
  {
   "cell_type": "code",
   "execution_count": null,
   "metadata": {},
   "outputs": [],
   "source": [
    "@ - matrixszorzas\n",
    "\n",
    "[[1,1],[1,1]] @ [[1,1],[1,1]] = [[2,2],[2,2]] \n",
    "\n",
    "* - elemenkenti szorzas\n",
    "\n",
    "[[1,1],[1,1]] * [[1,1],[1,1]] = [[1,1],[1,1]]"
   ]
  },
  {
   "cell_type": "markdown",
   "metadata": {},
   "source": [
    "* Ctrl + shift + - tori el a cellat\n",
    "* Shift + M = merge\n",
    "* az ocatve-ban a ' a transzponalas\n",
    "* az octave szigoruan megkulonbozteti a sor- es oszlopvektorokat\n",
    "* az octave vektor/matrix objektumai jobban hasonlitanak a np.matrix-ra mint az array-re\n",
    "* az octave-ban a ./ .* stb. mindig az elemenkenti muveleteket jelentik, mintha np.array-ekkel dolgoznal\n",
    "* az octave 1-tol indexel, a Python 0-tol"
   ]
  },
  {
   "cell_type": "markdown",
   "metadata": {},
   "source": [
    "%%octave\n",
    "\n",
    "% Flow,Dist,N,binsize - kellenek valami pofonegyszeru bemeneti adatok!\n",
    "\n",
    "disp(\"Beginning of modularity function...\");\n",
    "\n",
    "number=size(Flow,1); %number of nodes in the system\n",
    "\n",
    "nbox=2000; %number of bins, might need to increase it depending on your system and of level of coarse-graining\n",
    "\n",
    "% intialisation of different vectors and matrices\n",
    "DeterrenceFct=zeros(nbox,1);\n",
    "normaDeterrence=zeros(nbox,1);\n",
    "\n",
    "matrixdistance=zeros(number,number);\n",
    "nullmodelGN=zeros(number,number);\n",
    "nullmodelSpa=zeros(number,number);\n",
    "\n",
    "Flow=Flow+Flow'; %symmetrised matrix (doesn't change the outcome of community detection (arXiv:0812.1770))\n",
    "degree=sum(Flow); % degree/strength of the nodes\n",
    "nullN=N*N'; % matrix of the importance of nodes\n",
    "matrix=Flow./nullN; % normalised adjacency matrix\n",
    "\n",
    "disp(\"Preparation done.\")\n",
    "\n",
    "disp(\"Deterrence function...\")\n",
    "\n",
    "%We first calculate the correlations as a function of distance\n",
    "\n",
    "for i=1:number\n",
    "    disp(i)\n",
    "    for ii=1:number\n",
    "\n",
    "    % convert distances in binsize's units\n",
    "    dist=1+ceil(Dist(i,ii)/binsize); \n",
    "    matrixdistance(i,ii)=dist;\n",
    "\n",
    "    % weighted average for the deterrence function\n",
    "    num=matrix(i,ii);\n",
    "    DeterrenceFct(dist,1)=DeterrenceFct(dist,1)+num*N(i,1)*N(ii,1);\n",
    "    normaDeterrence(dist,1)=normaDeterrence(dist,1)+N(i,1)*N(ii,1);\n",
    "    end \n",
    "end\n",
    "disp(\"Done.\")\n",
    "\n",
    "disp(\"Normalization...\")\n",
    "% normalisation of the deterrence function\n",
    "for i=1:nbox\n",
    "    disp(i)\n",
    "    if(normaDeterrence(i,1)~=0)\n",
    "        DeterrenceFct(i,1)=DeterrenceFct(i,1)/normaDeterrence(i,1);\n",
    "    end\n",
    "end\n",
    "\n",
    "disp(\"Done.\")\n",
    "\n",
    "disp(\"Null modell...\")\n",
    "\n",
    "% copmutation of the randomised correlations (preserving space), spatial\n",
    "% null-model\n",
    "for i=1:number\n",
    "    for ii=1:number\n",
    "        nullmodelSpa(i,ii)=DeterrenceFct(matrixdistance(i,ii),1);\n",
    "    end \n",
    "end\n",
    "\n",
    "disp(\"Done.\")\n",
    "\n",
    "disp(\"Modularity calc...\")\n",
    "% the modularity matrix for the spatial null-model\n",
    "ModularitySpa=Flow-nullN.*nullmodelSpa*sum(sum(Flow))/sum(sum(nullN.*nullmodelSpa));\n",
    "\n",
    "% the modularity matrix for the GN null-model\n",
    "nullmodelGN=degree'*degree/(sum(degree)); % Newman-Girvan null-model\n",
    "ModularityGN=Flow-nullmodelGN;\n",
    "disp(\"Done.\")"
   ]
  },
  {
   "cell_type": "markdown",
   "metadata": {},
   "source": [
    "Ide jon alulra a Python code"
   ]
  },
  {
   "cell_type": "code",
   "execution_count": null,
   "metadata": {},
   "outputs": [],
   "source": []
  }
 ],
 "metadata": {
  "kernelspec": {
   "display_name": "Python 3",
   "language": "python",
   "name": "python3"
  },
  "language_info": {
   "codemirror_mode": {
    "name": "ipython",
    "version": 3
   },
   "file_extension": ".py",
   "mimetype": "text/x-python",
   "name": "python",
   "nbconvert_exporter": "python",
   "pygments_lexer": "ipython3",
   "version": "3.7.2"
  }
 },
 "nbformat": 4,
 "nbformat_minor": 2
}
