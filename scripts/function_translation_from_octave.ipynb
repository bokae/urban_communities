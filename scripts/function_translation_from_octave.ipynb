{
 "cells": [
  {
   "cell_type": "code",
   "execution_count": 242,
   "metadata": {},
   "outputs": [
    {
     "name": "stdout",
     "output_type": "stream",
     "text": [
      "The oct2py.ipython extension is already loaded. To reload it, use:\n",
      "  %reload_ext oct2py.ipython\n"
     ]
    }
   ],
   "source": [
    "%load_ext oct2py.ipython\n",
    "import networkx as nx\n",
    "import numpy as np\n",
    "from scipy.spatial.distance import pdist, squareform\n",
    "import math\n",
    "#import matplotlib.pyplot as plt"
   ]
  },
  {
   "cell_type": "code",
   "execution_count": 243,
   "metadata": {},
   "outputs": [
    {
     "ename": "SyntaxError",
     "evalue": "invalid syntax (<ipython-input-243-6bea01bb06a2>, line 1)",
     "output_type": "error",
     "traceback": [
      "\u001b[0;36m  File \u001b[0;32m\"<ipython-input-243-6bea01bb06a2>\"\u001b[0;36m, line \u001b[0;32m1\u001b[0m\n\u001b[0;31m    @ - matrixszorzas\u001b[0m\n\u001b[0m      ^\u001b[0m\n\u001b[0;31mSyntaxError\u001b[0m\u001b[0;31m:\u001b[0m invalid syntax\n"
     ]
    }
   ],
   "source": [
    "@ - matrixszorzas\n",
    "\n",
    "[[1,1],[1,1]] @ [[1,1],[1,1]] = [[2,2],[2,2]] \n",
    "\n",
    "* - elemenkenti szorzas\n",
    "\n",
    "[[1,1],[1,1]] * [[1,1],[1,1]] = [[1,1],[1,1]]"
   ]
  },
  {
   "cell_type": "markdown",
   "metadata": {},
   "source": [
    "* Ctrl + shift + - tori el a cellat\n",
    "* Shift + M = merge\n",
    "* az ocatve-ban a ' a transzponalas\n",
    "* az octave szigoruan megkulonbozteti a sor- es oszlopvektorokat\n",
    "* az octave vektor/matrix objektumai jobban hasonlitanak a np.matrix-ra mint az array-re\n",
    "* az octave-ban a ./ .* stb. mindig az elemenkenti muveleteket jelentik, mintha np.array-ekkel dolgoznal\n",
    "* az octave 1-tol indexel, a Python 0-tol"
   ]
  },
  {
   "cell_type": "raw",
   "metadata": {},
   "source": [
    "G = nx.Graph()\n",
    "G.add_edges_from([(0, 0), (2, 0), (1,1)])\n",
    "A = nx.adjacency_matrix(G) # flow"
   ]
  },
  {
   "cell_type": "raw",
   "metadata": {},
   "source": [
    "coords = np.array([(0, 0), (2, 0),(1,1)])\n",
    "d = pdist(coords)\n",
    "D = squareform(pdist(coords)) # Dist\n",
    "\n",
    " # importance - number of users\n",
    "N = np.matrix([1,1,1]).T\n",
    "# binsize\n",
    "max_dist = np.amax(D)\n",
    "b = max_dist/4 # number of bins = 100"
   ]
  },
  {
   "cell_type": "code",
   "execution_count": 244,
   "metadata": {},
   "outputs": [
    {
     "data": {
      "image/png": "[encoded data removed]",
      "text/plain": [
       "<Figure size 432x288 with 1 Axes>"
      ]
     },
     "metadata": {},
     "output_type": "display_data"
    }
   ],
   "source": [
    "# Eszter gráf\n",
    "# a good modular input matrix\n",
    "p = np.ones((3,3))*0.05 + np.eye(3)*(1-3*0.05)\n",
    "G = nx.stochastic_block_model([5]*3,p) # 20 helyett 5\n",
    "nx.draw(G)"
   ]
  },
  {
   "cell_type": "code",
   "execution_count": 245,
   "metadata": {},
   "outputs": [],
   "source": [
    "# adjacency matrix\n",
    "A = nx.adjacency_matrix(G)\n",
    "# distance matrix\n",
    "D = np.random.rand(len(G.nodes()),len(G.nodes()))\n",
    "# importance\n",
    "N = np.matrix([v for (k,v) in G.degree]).T\n",
    "# binsize\n",
    "b = 0.1"
   ]
  },
  {
   "cell_type": "code",
   "execution_count": 292,
   "metadata": {},
   "outputs": [
    {
     "data": {
      "text/plain": [
       "warning: load: can not read multi-byte encoded UTF8 characters; replacing unreadable characters with '?'"
      ]
     },
     "metadata": {},
     "output_type": "display_data"
    },
    {
     "data": {
      "text/plain": [
       "degree"
      ]
     },
     "metadata": {},
     "output_type": "display_data"
    },
    {
     "data": {
      "text/plain": [
       "Compressed Column Sparse (rows = 1, cols = 15, nnz = 15 [100%])"
      ]
     },
     "metadata": {},
     "output_type": "display_data"
    },
    {
     "data": {
      "text/plain": []
     },
     "metadata": {},
     "output_type": "display_data"
    },
    {
     "data": {
      "text/plain": [
       "  (1, 1) ->  8"
      ]
     },
     "metadata": {},
     "output_type": "display_data"
    },
    {
     "data": {
      "text/plain": [
       "  (1, 2) ->  10"
      ]
     },
     "metadata": {},
     "output_type": "display_data"
    },
    {
     "data": {
      "text/plain": [
       "  (1, 3) ->  8"
      ]
     },
     "metadata": {},
     "output_type": "display_data"
    },
    {
     "data": {
      "text/plain": [
       "  (1, 4) ->  8"
      ]
     },
     "metadata": {},
     "output_type": "display_data"
    },
    {
     "data": {
      "text/plain": [
       "  (1, 5) ->  10"
      ]
     },
     "metadata": {},
     "output_type": "display_data"
    },
    {
     "data": {
      "text/plain": [
       "  (1, 6) ->  10"
      ]
     },
     "metadata": {},
     "output_type": "display_data"
    },
    {
     "data": {
      "text/plain": [
       "  (1, 7) ->  8"
      ]
     },
     "metadata": {},
     "output_type": "display_data"
    },
    {
     "data": {
      "text/plain": [
       "  (1, 8) ->  8"
      ]
     },
     "metadata": {},
     "output_type": "display_data"
    },
    {
     "data": {
      "text/plain": [
       "  (1, 9) ->  8"
      ]
     },
     "metadata": {},
     "output_type": "display_data"
    },
    {
     "data": {
      "text/plain": [
       "  (1, 10) ->  10"
      ]
     },
     "metadata": {},
     "output_type": "display_data"
    },
    {
     "data": {
      "text/plain": [
       "  (1, 11) ->  8"
      ]
     },
     "metadata": {},
     "output_type": "display_data"
    },
    {
     "data": {
      "text/plain": [
       "  (1, 12) ->  6"
      ]
     },
     "metadata": {},
     "output_type": "display_data"
    },
    {
     "data": {
      "text/plain": [
       "  (1, 13) ->  8"
      ]
     },
     "metadata": {},
     "output_type": "display_data"
    },
    {
     "data": {
      "text/plain": [
       "  (1, 14) ->  8"
      ]
     },
     "metadata": {},
     "output_type": "display_data"
    },
    {
     "data": {
      "text/plain": [
       "  (1, 15) ->  6"
      ]
     },
     "metadata": {},
     "output_type": "display_data"
    },
    {
     "data": {
      "text/plain": [
       "i =  15"
      ]
     },
     "metadata": {},
     "output_type": "display_data"
    },
    {
     "data": {
      "text/plain": [
       "ii =  15"
      ]
     },
     "metadata": {},
     "output_type": "display_data"
    },
    {
     "data": {
      "text/plain": [
       "normaDeterrence ="
      ]
     },
     "metadata": {},
     "output_type": "display_data"
    },
    {
     "data": {
      "text/plain": []
     },
     "metadata": {},
     "output_type": "display_data"
    },
    {
     "data": {
      "text/plain": [
       "   0"
      ]
     },
     "metadata": {},
     "output_type": "display_data"
    },
    {
     "data": {
      "text/plain": [
       "   0"
      ]
     },
     "metadata": {},
     "output_type": "display_data"
    },
    {
     "data": {
      "text/plain": [
       "   0"
      ]
     },
     "metadata": {},
     "output_type": "display_data"
    },
    {
     "data": {
      "text/plain": [
       "   0"
      ]
     },
     "metadata": {},
     "output_type": "display_data"
    },
    {
     "data": {
      "text/plain": [
       "   0"
      ]
     },
     "metadata": {},
     "output_type": "display_data"
    },
    {
     "data": {
      "text/plain": [
       "   0"
      ]
     },
     "metadata": {},
     "output_type": "display_data"
    },
    {
     "data": {
      "text/plain": [
       "   0"
      ]
     },
     "metadata": {},
     "output_type": "display_data"
    },
    {
     "data": {
      "text/plain": [
       "   0"
      ]
     },
     "metadata": {},
     "output_type": "display_data"
    },
    {
     "data": {
      "text/plain": [
       "   0"
      ]
     },
     "metadata": {},
     "output_type": "display_data"
    },
    {
     "data": {
      "text/plain": [
       "   0"
      ]
     },
     "metadata": {},
     "output_type": "display_data"
    },
    {
     "data": {
      "text/plain": [
       "   0"
      ]
     },
     "metadata": {},
     "output_type": "display_data"
    },
    {
     "data": {
      "text/plain": [
       "   0"
      ]
     },
     "metadata": {},
     "output_type": "display_data"
    },
    {
     "data": {
      "text/plain": [
       "   0"
      ]
     },
     "metadata": {},
     "output_type": "display_data"
    },
    {
     "data": {
      "text/plain": [
       "   0"
      ]
     },
     "metadata": {},
     "output_type": "display_data"
    },
    {
     "data": {
      "text/plain": [
       "   0"
      ]
     },
     "metadata": {},
     "output_type": "display_data"
    },
    {
     "data": {
      "text/plain": [
       "   0"
      ]
     },
     "metadata": {},
     "output_type": "display_data"
    },
    {
     "data": {
      "text/plain": [
       "   0"
      ]
     },
     "metadata": {},
     "output_type": "display_data"
    },
    {
     "data": {
      "text/plain": [
       "   0"
      ]
     },
     "metadata": {},
     "output_type": "display_data"
    },
    {
     "data": {
      "text/plain": [
       "   0"
      ]
     },
     "metadata": {},
     "output_type": "display_data"
    },
    {
     "data": {
      "text/plain": [
       "   0"
      ]
     },
     "metadata": {},
     "output_type": "display_data"
    },
    {
     "data": {
      "text/plain": [
       "   0"
      ]
     },
     "metadata": {},
     "output_type": "display_data"
    },
    {
     "data": {
      "text/plain": [
       "   0"
      ]
     },
     "metadata": {},
     "output_type": "display_data"
    },
    {
     "data": {
      "text/plain": [
       "   0"
      ]
     },
     "metadata": {},
     "output_type": "display_data"
    },
    {
     "data": {
      "text/plain": [
       "   0"
      ]
     },
     "metadata": {},
     "output_type": "display_data"
    },
    {
     "data": {
      "text/plain": [
       "   0"
      ]
     },
     "metadata": {},
     "output_type": "display_data"
    },
    {
     "data": {
      "text/plain": [
       "   0"
      ]
     },
     "metadata": {},
     "output_type": "display_data"
    },
    {
     "data": {
      "text/plain": [
       "   0"
      ]
     },
     "metadata": {},
     "output_type": "display_data"
    },
    {
     "data": {
      "text/plain": [
       "   0"
      ]
     },
     "metadata": {},
     "output_type": "display_data"
    },
    {
     "data": {
      "text/plain": [
       "   0"
      ]
     },
     "metadata": {},
     "output_type": "display_data"
    },
    {
     "data": {
      "text/plain": [
       "   0"
      ]
     },
     "metadata": {},
     "output_type": "display_data"
    },
    {
     "data": {
      "text/plain": [
       "   0"
      ]
     },
     "metadata": {},
     "output_type": "display_data"
    },
    {
     "data": {
      "text/plain": [
       "   0"
      ]
     },
     "metadata": {},
     "output_type": "display_data"
    },
    {
     "data": {
      "text/plain": [
       "   0"
      ]
     },
     "metadata": {},
     "output_type": "display_data"
    },
    {
     "data": {
      "text/plain": [
       "   0"
      ]
     },
     "metadata": {},
     "output_type": "display_data"
    },
    {
     "data": {
      "text/plain": [
       "   0"
      ]
     },
     "metadata": {},
     "output_type": "display_data"
    },
    {
     "data": {
      "text/plain": [
       "   0"
      ]
     },
     "metadata": {},
     "output_type": "display_data"
    },
    {
     "data": {
      "text/plain": [
       "   0"
      ]
     },
     "metadata": {},
     "output_type": "display_data"
    },
    {
     "data": {
      "text/plain": [
       "   0"
      ]
     },
     "metadata": {},
     "output_type": "display_data"
    },
    {
     "data": {
      "text/plain": [
       "   0"
      ]
     },
     "metadata": {},
     "output_type": "display_data"
    },
    {
     "data": {
      "text/plain": [
       "   0"
      ]
     },
     "metadata": {},
     "output_type": "display_data"
    },
    {
     "data": {
      "text/plain": [
       "   0"
      ]
     },
     "metadata": {},
     "output_type": "display_data"
    },
    {
     "data": {
      "text/plain": [
       "   0"
      ]
     },
     "metadata": {},
     "output_type": "display_data"
    },
    {
     "data": {
      "text/plain": [
       "   0"
      ]
     },
     "metadata": {},
     "output_type": "display_data"
    },
    {
     "data": {
      "text/plain": [
       "   0"
      ]
     },
     "metadata": {},
     "output_type": "display_data"
    },
    {
     "data": {
      "text/plain": [
       "   0"
      ]
     },
     "metadata": {},
     "output_type": "display_data"
    },
    {
     "data": {
      "text/plain": [
       "   0"
      ]
     },
     "metadata": {},
     "output_type": "display_data"
    },
    {
     "data": {
      "text/plain": [
       "   0"
      ]
     },
     "metadata": {},
     "output_type": "display_data"
    },
    {
     "data": {
      "text/plain": [
       "   0"
      ]
     },
     "metadata": {},
     "output_type": "display_data"
    },
    {
     "data": {
      "text/plain": [
       "   0"
      ]
     },
     "metadata": {},
     "output_type": "display_data"
    },
    {
     "data": {
      "text/plain": [
       "   0"
      ]
     },
     "metadata": {},
     "output_type": "display_data"
    },
    {
     "data": {
      "text/plain": [
       "   0"
      ]
     },
     "metadata": {},
     "output_type": "display_data"
    },
    {
     "data": {
      "text/plain": [
       "   0"
      ]
     },
     "metadata": {},
     "output_type": "display_data"
    },
    {
     "data": {
      "text/plain": [
       "   0"
      ]
     },
     "metadata": {},
     "output_type": "display_data"
    },
    {
     "data": {
      "text/plain": [
       "   0"
      ]
     },
     "metadata": {},
     "output_type": "display_data"
    },
    {
     "data": {
      "text/plain": [
       "   0"
      ]
     },
     "metadata": {},
     "output_type": "display_data"
    },
    {
     "data": {
      "text/plain": [
       "   0"
      ]
     },
     "metadata": {},
     "output_type": "display_data"
    },
    {
     "data": {
      "text/plain": [
       "   0"
      ]
     },
     "metadata": {},
     "output_type": "display_data"
    },
    {
     "data": {
      "text/plain": [
       "   0"
      ]
     },
     "metadata": {},
     "output_type": "display_data"
    },
    {
     "data": {
      "text/plain": [
       "   0"
      ]
     },
     "metadata": {},
     "output_type": "display_data"
    },
    {
     "data": {
      "text/plain": [
       "   0"
      ]
     },
     "metadata": {},
     "output_type": "display_data"
    },
    {
     "data": {
      "text/plain": [
       "   0"
      ]
     },
     "metadata": {},
     "output_type": "display_data"
    },
    {
     "data": {
      "text/plain": [
       "   0"
      ]
     },
     "metadata": {},
     "output_type": "display_data"
    },
    {
     "data": {
      "text/plain": [
       "   0"
      ]
     },
     "metadata": {},
     "output_type": "display_data"
    },
    {
     "data": {
      "text/plain": [
       "   0"
      ]
     },
     "metadata": {},
     "output_type": "display_data"
    },
    {
     "data": {
      "text/plain": [
       "   0"
      ]
     },
     "metadata": {},
     "output_type": "display_data"
    },
    {
     "data": {
      "text/plain": [
       "   0"
      ]
     },
     "metadata": {},
     "output_type": "display_data"
    },
    {
     "data": {
      "text/plain": [
       "   0"
      ]
     },
     "metadata": {},
     "output_type": "display_data"
    },
    {
     "data": {
      "text/plain": [
       "   0"
      ]
     },
     "metadata": {},
     "output_type": "display_data"
    },
    {
     "data": {
      "text/plain": [
       "   0"
      ]
     },
     "metadata": {},
     "output_type": "display_data"
    },
    {
     "data": {
      "text/plain": [
       "   0"
      ]
     },
     "metadata": {},
     "output_type": "display_data"
    },
    {
     "data": {
      "text/plain": [
       "   0"
      ]
     },
     "metadata": {},
     "output_type": "display_data"
    },
    {
     "data": {
      "text/plain": [
       "   0"
      ]
     },
     "metadata": {},
     "output_type": "display_data"
    },
    {
     "data": {
      "text/plain": [
       "   0"
      ]
     },
     "metadata": {},
     "output_type": "display_data"
    },
    {
     "data": {
      "text/plain": [
       "   0"
      ]
     },
     "metadata": {},
     "output_type": "display_data"
    },
    {
     "data": {
      "text/plain": [
       "   0"
      ]
     },
     "metadata": {},
     "output_type": "display_data"
    },
    {
     "data": {
      "text/plain": [
       "   0"
      ]
     },
     "metadata": {},
     "output_type": "display_data"
    },
    {
     "data": {
      "text/plain": [
       "   0"
      ]
     },
     "metadata": {},
     "output_type": "display_data"
    },
    {
     "data": {
      "text/plain": [
       "   0"
      ]
     },
     "metadata": {},
     "output_type": "display_data"
    },
    {
     "data": {
      "text/plain": [
       "   0"
      ]
     },
     "metadata": {},
     "output_type": "display_data"
    },
    {
     "data": {
      "text/plain": [
       "   0"
      ]
     },
     "metadata": {},
     "output_type": "display_data"
    },
    {
     "data": {
      "text/plain": [
       "   0"
      ]
     },
     "metadata": {},
     "output_type": "display_data"
    },
    {
     "data": {
      "text/plain": [
       "   0"
      ]
     },
     "metadata": {},
     "output_type": "display_data"
    },
    {
     "data": {
      "text/plain": [
       "   0"
      ]
     },
     "metadata": {},
     "output_type": "display_data"
    },
    {
     "data": {
      "text/plain": [
       "   0"
      ]
     },
     "metadata": {},
     "output_type": "display_data"
    },
    {
     "data": {
      "text/plain": [
       "   0"
      ]
     },
     "metadata": {},
     "output_type": "display_data"
    },
    {
     "data": {
      "text/plain": [
       "   0"
      ]
     },
     "metadata": {},
     "output_type": "display_data"
    },
    {
     "data": {
      "text/plain": [
       "   0"
      ]
     },
     "metadata": {},
     "output_type": "display_data"
    },
    {
     "data": {
      "text/plain": [
       "   0"
      ]
     },
     "metadata": {},
     "output_type": "display_data"
    },
    {
     "data": {
      "text/plain": [
       "   0"
      ]
     },
     "metadata": {},
     "output_type": "display_data"
    },
    {
     "data": {
      "text/plain": [
       "   0"
      ]
     },
     "metadata": {},
     "output_type": "display_data"
    },
    {
     "data": {
      "text/plain": [
       "   0"
      ]
     },
     "metadata": {},
     "output_type": "display_data"
    },
    {
     "data": {
      "text/plain": [
       "   0"
      ]
     },
     "metadata": {},
     "output_type": "display_data"
    },
    {
     "data": {
      "text/plain": [
       "   0"
      ]
     },
     "metadata": {},
     "output_type": "display_data"
    },
    {
     "data": {
      "text/plain": [
       "   0"
      ]
     },
     "metadata": {},
     "output_type": "display_data"
    },
    {
     "data": {
      "text/plain": [
       "   0"
      ]
     },
     "metadata": {},
     "output_type": "display_data"
    },
    {
     "data": {
      "text/plain": [
       "   0"
      ]
     },
     "metadata": {},
     "output_type": "display_data"
    },
    {
     "data": {
      "text/plain": [
       "   0"
      ]
     },
     "metadata": {},
     "output_type": "display_data"
    },
    {
     "data": {
      "text/plain": [
       "   0"
      ]
     },
     "metadata": {},
     "output_type": "display_data"
    },
    {
     "data": {
      "text/plain": [
       "   0"
      ]
     },
     "metadata": {},
     "output_type": "display_data"
    },
    {
     "data": {
      "text/plain": [
       "   0"
      ]
     },
     "metadata": {},
     "output_type": "display_data"
    },
    {
     "data": {
      "text/plain": []
     },
     "metadata": {},
     "output_type": "display_data"
    },
    {
     "data": {
      "text/plain": [
       "bent"
      ]
     },
     "metadata": {},
     "output_type": "display_data"
    },
    {
     "data": {
      "text/plain": [
       "bent_2"
      ]
     },
     "metadata": {},
     "output_type": "display_data"
    },
    {
     "data": {
      "text/plain": [
       "bent_2"
      ]
     },
     "metadata": {},
     "output_type": "display_data"
    },
    {
     "data": {
      "text/plain": [
       "bent_2"
      ]
     },
     "metadata": {},
     "output_type": "display_data"
    },
    {
     "data": {
      "text/plain": [
       "bent_2"
      ]
     },
     "metadata": {},
     "output_type": "display_data"
    },
    {
     "data": {
      "text/plain": [
       "bent_2"
      ]
     },
     "metadata": {},
     "output_type": "display_data"
    },
    {
     "data": {
      "text/plain": [
       "bent_2"
      ]
     },
     "metadata": {},
     "output_type": "display_data"
    },
    {
     "data": {
      "text/plain": [
       "bent_2"
      ]
     },
     "metadata": {},
     "output_type": "display_data"
    },
    {
     "data": {
      "text/plain": [
       "bent_2"
      ]
     },
     "metadata": {},
     "output_type": "display_data"
    },
    {
     "data": {
      "text/plain": [
       "bent_2"
      ]
     },
     "metadata": {},
     "output_type": "display_data"
    },
    {
     "data": {
      "text/plain": [
       "bent_2"
      ]
     },
     "metadata": {},
     "output_type": "display_data"
    },
    {
     "data": {
      "text/plain": [
       "bent_2"
      ]
     },
     "metadata": {},
     "output_type": "display_data"
    },
    {
     "data": {
      "text/plain": [
       "bent_2"
      ]
     },
     "metadata": {},
     "output_type": "display_data"
    },
    {
     "data": {
      "text/plain": [
       "bent_2"
      ]
     },
     "metadata": {},
     "output_type": "display_data"
    },
    {
     "data": {
      "text/plain": [
       "bent_2"
      ]
     },
     "metadata": {},
     "output_type": "display_data"
    },
    {
     "data": {
      "text/plain": [
       "bent_2"
      ]
     },
     "metadata": {},
     "output_type": "display_data"
    },
    {
     "data": {
      "text/plain": [
       "bent_2"
      ]
     },
     "metadata": {},
     "output_type": "display_data"
    },
    {
     "data": {
      "text/plain": [
       "bent_2"
      ]
     },
     "metadata": {},
     "output_type": "display_data"
    },
    {
     "data": {
      "text/plain": [
       "bent_2"
      ]
     },
     "metadata": {},
     "output_type": "display_data"
    },
    {
     "data": {
      "text/plain": [
       "bent_2"
      ]
     },
     "metadata": {},
     "output_type": "display_data"
    },
    {
     "data": {
      "text/plain": [
       "bent_2"
      ]
     },
     "metadata": {},
     "output_type": "display_data"
    },
    {
     "data": {
      "text/plain": [
       "bent_2"
      ]
     },
     "metadata": {},
     "output_type": "display_data"
    },
    {
     "data": {
      "text/plain": [
       "bent_2"
      ]
     },
     "metadata": {},
     "output_type": "display_data"
    },
    {
     "data": {
      "text/plain": [
       "bent_2"
      ]
     },
     "metadata": {},
     "output_type": "display_data"
    },
    {
     "data": {
      "text/plain": [
       "bent_2"
      ]
     },
     "metadata": {},
     "output_type": "display_data"
    },
    {
     "data": {
      "text/plain": [
       "bent_2"
      ]
     },
     "metadata": {},
     "output_type": "display_data"
    },
    {
     "data": {
      "text/plain": [
       "bent_2"
      ]
     },
     "metadata": {},
     "output_type": "display_data"
    },
    {
     "data": {
      "text/plain": [
       "bent_2"
      ]
     },
     "metadata": {},
     "output_type": "display_data"
    },
    {
     "data": {
      "text/plain": [
       "bent_2"
      ]
     },
     "metadata": {},
     "output_type": "display_data"
    },
    {
     "data": {
      "text/plain": [
       "bent_2"
      ]
     },
     "metadata": {},
     "output_type": "display_data"
    },
    {
     "data": {
      "text/plain": [
       "bent_2"
      ]
     },
     "metadata": {},
     "output_type": "display_data"
    },
    {
     "data": {
      "text/plain": [
       "bent_2"
      ]
     },
     "metadata": {},
     "output_type": "display_data"
    },
    {
     "data": {
      "text/plain": [
       "bent_2"
      ]
     },
     "metadata": {},
     "output_type": "display_data"
    },
    {
     "data": {
      "text/plain": [
       "bent_2"
      ]
     },
     "metadata": {},
     "output_type": "display_data"
    },
    {
     "data": {
      "text/plain": [
       "bent_2"
      ]
     },
     "metadata": {},
     "output_type": "display_data"
    },
    {
     "data": {
      "text/plain": [
       "bent_2"
      ]
     },
     "metadata": {},
     "output_type": "display_data"
    },
    {
     "data": {
      "text/plain": [
       "bent_2"
      ]
     },
     "metadata": {},
     "output_type": "display_data"
    },
    {
     "data": {
      "text/plain": [
       "bent_2"
      ]
     },
     "metadata": {},
     "output_type": "display_data"
    },
    {
     "data": {
      "text/plain": [
       "bent_2"
      ]
     },
     "metadata": {},
     "output_type": "display_data"
    },
    {
     "data": {
      "text/plain": [
       "bent_2"
      ]
     },
     "metadata": {},
     "output_type": "display_data"
    },
    {
     "data": {
      "text/plain": [
       "bent_2"
      ]
     },
     "metadata": {},
     "output_type": "display_data"
    },
    {
     "data": {
      "text/plain": [
       "bent_2"
      ]
     },
     "metadata": {},
     "output_type": "display_data"
    },
    {
     "data": {
      "text/plain": [
       "bent_2"
      ]
     },
     "metadata": {},
     "output_type": "display_data"
    },
    {
     "data": {
      "text/plain": [
       "bent_2"
      ]
     },
     "metadata": {},
     "output_type": "display_data"
    },
    {
     "data": {
      "text/plain": [
       "bent_2"
      ]
     },
     "metadata": {},
     "output_type": "display_data"
    },
    {
     "data": {
      "text/plain": [
       "bent_2"
      ]
     },
     "metadata": {},
     "output_type": "display_data"
    },
    {
     "data": {
      "text/plain": [
       "bent_2"
      ]
     },
     "metadata": {},
     "output_type": "display_data"
    },
    {
     "data": {
      "text/plain": [
       "bent_2"
      ]
     },
     "metadata": {},
     "output_type": "display_data"
    },
    {
     "data": {
      "text/plain": [
       "bent_2"
      ]
     },
     "metadata": {},
     "output_type": "display_data"
    },
    {
     "data": {
      "text/plain": [
       "bent_2"
      ]
     },
     "metadata": {},
     "output_type": "display_data"
    },
    {
     "data": {
      "text/plain": [
       "bent_2"
      ]
     },
     "metadata": {},
     "output_type": "display_data"
    },
    {
     "data": {
      "text/plain": [
       "bent_2"
      ]
     },
     "metadata": {},
     "output_type": "display_data"
    },
    {
     "data": {
      "text/plain": [
       "bent_2"
      ]
     },
     "metadata": {},
     "output_type": "display_data"
    },
    {
     "data": {
      "text/plain": [
       "bent_2"
      ]
     },
     "metadata": {},
     "output_type": "display_data"
    },
    {
     "data": {
      "text/plain": [
       "bent_2"
      ]
     },
     "metadata": {},
     "output_type": "display_data"
    },
    {
     "data": {
      "text/plain": [
       "bent_2"
      ]
     },
     "metadata": {},
     "output_type": "display_data"
    },
    {
     "data": {
      "text/plain": [
       "bent_2"
      ]
     },
     "metadata": {},
     "output_type": "display_data"
    },
    {
     "data": {
      "text/plain": [
       "bent_2"
      ]
     },
     "metadata": {},
     "output_type": "display_data"
    },
    {
     "data": {
      "text/plain": [
       "bent_2"
      ]
     },
     "metadata": {},
     "output_type": "display_data"
    },
    {
     "data": {
      "text/plain": [
       "bent_2"
      ]
     },
     "metadata": {},
     "output_type": "display_data"
    },
    {
     "data": {
      "text/plain": [
       "bent_2"
      ]
     },
     "metadata": {},
     "output_type": "display_data"
    },
    {
     "data": {
      "text/plain": [
       "bent_2"
      ]
     },
     "metadata": {},
     "output_type": "display_data"
    },
    {
     "data": {
      "text/plain": [
       "bent_2"
      ]
     },
     "metadata": {},
     "output_type": "display_data"
    },
    {
     "data": {
      "text/plain": [
       "bent_2"
      ]
     },
     "metadata": {},
     "output_type": "display_data"
    },
    {
     "data": {
      "text/plain": [
       "bent_2"
      ]
     },
     "metadata": {},
     "output_type": "display_data"
    },
    {
     "data": {
      "text/plain": [
       "bent_2"
      ]
     },
     "metadata": {},
     "output_type": "display_data"
    },
    {
     "data": {
      "text/plain": [
       "bent_2"
      ]
     },
     "metadata": {},
     "output_type": "display_data"
    },
    {
     "data": {
      "text/plain": [
       "bent_2"
      ]
     },
     "metadata": {},
     "output_type": "display_data"
    },
    {
     "data": {
      "text/plain": [
       "bent_2"
      ]
     },
     "metadata": {},
     "output_type": "display_data"
    },
    {
     "data": {
      "text/plain": [
       "bent_2"
      ]
     },
     "metadata": {},
     "output_type": "display_data"
    },
    {
     "data": {
      "text/plain": [
       "bent_2"
      ]
     },
     "metadata": {},
     "output_type": "display_data"
    },
    {
     "data": {
      "text/plain": [
       "bent_2"
      ]
     },
     "metadata": {},
     "output_type": "display_data"
    },
    {
     "data": {
      "text/plain": [
       "bent_2"
      ]
     },
     "metadata": {},
     "output_type": "display_data"
    },
    {
     "data": {
      "text/plain": [
       "bent_2"
      ]
     },
     "metadata": {},
     "output_type": "display_data"
    },
    {
     "data": {
      "text/plain": [
       "bent_2"
      ]
     },
     "metadata": {},
     "output_type": "display_data"
    },
    {
     "data": {
      "text/plain": [
       "bent_2"
      ]
     },
     "metadata": {},
     "output_type": "display_data"
    },
    {
     "data": {
      "text/plain": [
       "bent_2"
      ]
     },
     "metadata": {},
     "output_type": "display_data"
    },
    {
     "data": {
      "text/plain": [
       "bent_2"
      ]
     },
     "metadata": {},
     "output_type": "display_data"
    },
    {
     "data": {
      "text/plain": [
       "bent_2"
      ]
     },
     "metadata": {},
     "output_type": "display_data"
    },
    {
     "data": {
      "text/plain": [
       "bent_2"
      ]
     },
     "metadata": {},
     "output_type": "display_data"
    },
    {
     "data": {
      "text/plain": [
       "bent_2"
      ]
     },
     "metadata": {},
     "output_type": "display_data"
    },
    {
     "data": {
      "text/plain": [
       "bent_2"
      ]
     },
     "metadata": {},
     "output_type": "display_data"
    },
    {
     "data": {
      "text/plain": [
       "bent_2"
      ]
     },
     "metadata": {},
     "output_type": "display_data"
    },
    {
     "data": {
      "text/plain": [
       "bent_2"
      ]
     },
     "metadata": {},
     "output_type": "display_data"
    },
    {
     "data": {
      "text/plain": [
       "bent_2"
      ]
     },
     "metadata": {},
     "output_type": "display_data"
    },
    {
     "data": {
      "text/plain": [
       "bent_2"
      ]
     },
     "metadata": {},
     "output_type": "display_data"
    },
    {
     "data": {
      "text/plain": [
       "bent_2"
      ]
     },
     "metadata": {},
     "output_type": "display_data"
    },
    {
     "data": {
      "text/plain": [
       "bent_2"
      ]
     },
     "metadata": {},
     "output_type": "display_data"
    },
    {
     "data": {
      "text/plain": [
       "bent_2"
      ]
     },
     "metadata": {},
     "output_type": "display_data"
    },
    {
     "data": {
      "text/plain": [
       "bent_2"
      ]
     },
     "metadata": {},
     "output_type": "display_data"
    },
    {
     "data": {
      "text/plain": [
       "bent_2"
      ]
     },
     "metadata": {},
     "output_type": "display_data"
    },
    {
     "data": {
      "text/plain": [
       "bent_2"
      ]
     },
     "metadata": {},
     "output_type": "display_data"
    },
    {
     "data": {
      "text/plain": [
       "bent_2"
      ]
     },
     "metadata": {},
     "output_type": "display_data"
    },
    {
     "data": {
      "text/plain": [
       "bent_2"
      ]
     },
     "metadata": {},
     "output_type": "display_data"
    },
    {
     "data": {
      "text/plain": [
       "bent_2"
      ]
     },
     "metadata": {},
     "output_type": "display_data"
    },
    {
     "data": {
      "text/plain": [
       "bent_2"
      ]
     },
     "metadata": {},
     "output_type": "display_data"
    },
    {
     "data": {
      "text/plain": [
       "bent_2"
      ]
     },
     "metadata": {},
     "output_type": "display_data"
    },
    {
     "data": {
      "text/plain": [
       "bent_2"
      ]
     },
     "metadata": {},
     "output_type": "display_data"
    },
    {
     "data": {
      "text/plain": [
       "bent_2"
      ]
     },
     "metadata": {},
     "output_type": "display_data"
    },
    {
     "data": {
      "text/plain": [
       "bent_2"
      ]
     },
     "metadata": {},
     "output_type": "display_data"
    },
    {
     "data": {
      "text/plain": [
       "bent_2"
      ]
     },
     "metadata": {},
     "output_type": "display_data"
    },
    {
     "ename": "Oct2PyError",
     "evalue": "Octave evaluation error:\nerror: DeterrenceFct(0,_): subscripts must be either integers 1 to (2^31)-1 or logicals",
     "output_type": "error",
     "traceback": [
      "\u001b[0;31m---------------------------------------------------------------------------\u001b[0m",
      "\u001b[0;31mOct2PyError\u001b[0m                               Traceback (most recent call last)",
      "\u001b[0;32m<ipython-input-292-0e0703338e11>\u001b[0m in \u001b[0;36m<module>\u001b[0;34m\u001b[0m\n\u001b[0;32m----> 1\u001b[0;31m \u001b[0mget_ipython\u001b[0m\u001b[0;34m(\u001b[0m\u001b[0;34m)\u001b[0m\u001b[0;34m.\u001b[0m\u001b[0mrun_cell_magic\u001b[0m\u001b[0;34m(\u001b[0m\u001b[0;34m'octave'\u001b[0m\u001b[0;34m,\u001b[0m \u001b[0;34m'-i A,D,N,b -o dist,num,DeterrenceFct,normaDeterrence,matrixdistance,N,b'\u001b[0m\u001b[0;34m,\u001b[0m \u001b[0;34m\"\\naddpath('/home/ubuntu/GenLouvain/')\\naddpath('/home/ubuntu/GenLouvain/private/')\\n\\nnumber=size(A,1); %number of nodes in the system\\n\\nnbox=100; %number of bins, might need to increase it depending on your system and of level of coarse-graining\\n\\n% intialisation of different vectors and matrices\\nDeterrenceFct=zeros(nbox,1);\\nnormaDeterrence=zeros(nbox,1);\\nmatrixdistance=zeros(number,number);\\nnullmodelGN=zeros(number,number);\\nnullmodelSpa=zeros(number,number);\\n\\nA=A+A'; %symmetrised matrix (doesn't change the outcome of community detection (arXiv:0812.1770))\\ndegree=sum(A); % degree/strength of the nodes\\ndisp('degree')\\ndisp(degree)\\nnullN=N*N'; % matrix of the importance of nodes\\nmatrix=A./nullN; % normalised adjacency matrix\\n\\n% We first calculate the correlations as a function of distance\\n\\ni=number\\nii=number\\n\\n% convert distances in binsize's units\\ndist=1+ceil(D(i,ii)/b); \\nmatrixdistance(i,ii)=dist;\\n\\n% weighted average for the deterrence function\\nnum=matrix(i,ii);\\nDeterrenceFct(dist,1)=DeterrenceFct(dist,1)+num*N(i,1)*N(ii,1); %%%%% csak 1-től 10-ig van benne szám, 0 és 11+-ban nincs HIBA??\\nnormaDeterrence(dist,1)=normaDeterrence(dist,1)%+N(i,1)*N(ii,1); %%%% HIBA\\n\\ndisp('bent')\\n% normalisation of the deterrence function\\nfor i=1:nbox\\n    disp('bent_2')\\n    if(normaDeterrence(i,1)~=0)\\n        DeterrenceFct(i,1)=DeterrenceFct(i,1)/normaDeterrence(i,1);\\n    end\\nend\\n\\n% copmutation of the randomised correlations (preserving space), spatial\\n% null-model\\nfor i=1:number\\n    for ii=1:number\\n        nullmodelSpa(i,ii)=DeterrenceFct(matrixdistance(i,ii),1);\\n    end \\nend\\n\\n% the modularity matrix for the spatial null-model\\nModularitySpa=A-nullN.*nullmodelSpa*sum(sum(Flow))/sum(sum(nullN.*nullmodelSpa));\\n\\n% the modularity matrix for the GN null-model\\nnullmodelGN=degree'*degree/(sum(degree)); % Newman-Girvan null-model\\nModularityGN=A-nullmodelGN\\n\"\u001b[0m\u001b[0;34m)\u001b[0m\u001b[0;34m\u001b[0m\u001b[0;34m\u001b[0m\u001b[0m\n\u001b[0m",
      "\u001b[0;32m/home/ubuntu/anaconda3/lib/python3.7/site-packages/IPython/core/interactiveshell.py\u001b[0m in \u001b[0;36mrun_cell_magic\u001b[0;34m(self, magic_name, line, cell)\u001b[0m\n\u001b[1;32m   2321\u001b[0m             \u001b[0mmagic_arg_s\u001b[0m \u001b[0;34m=\u001b[0m \u001b[0mself\u001b[0m\u001b[0;34m.\u001b[0m\u001b[0mvar_expand\u001b[0m\u001b[0;34m(\u001b[0m\u001b[0mline\u001b[0m\u001b[0;34m,\u001b[0m \u001b[0mstack_depth\u001b[0m\u001b[0;34m)\u001b[0m\u001b[0;34m\u001b[0m\u001b[0;34m\u001b[0m\u001b[0m\n\u001b[1;32m   2322\u001b[0m             \u001b[0;32mwith\u001b[0m \u001b[0mself\u001b[0m\u001b[0;34m.\u001b[0m\u001b[0mbuiltin_trap\u001b[0m\u001b[0;34m:\u001b[0m\u001b[0;34m\u001b[0m\u001b[0;34m\u001b[0m\u001b[0m\n\u001b[0;32m-> 2323\u001b[0;31m                 \u001b[0mresult\u001b[0m \u001b[0;34m=\u001b[0m \u001b[0mfn\u001b[0m\u001b[0;34m(\u001b[0m\u001b[0mmagic_arg_s\u001b[0m\u001b[0;34m,\u001b[0m \u001b[0mcell\u001b[0m\u001b[0;34m)\u001b[0m\u001b[0;34m\u001b[0m\u001b[0;34m\u001b[0m\u001b[0m\n\u001b[0m\u001b[1;32m   2324\u001b[0m             \u001b[0;32mreturn\u001b[0m \u001b[0mresult\u001b[0m\u001b[0;34m\u001b[0m\u001b[0;34m\u001b[0m\u001b[0m\n\u001b[1;32m   2325\u001b[0m \u001b[0;34m\u001b[0m\u001b[0m\n",
      "\u001b[0;32m<decorator-gen-157>\u001b[0m in \u001b[0;36moctave\u001b[0;34m(self, line, cell, local_ns)\u001b[0m\n",
      "\u001b[0;32m/home/ubuntu/anaconda3/lib/python3.7/site-packages/IPython/core/magic.py\u001b[0m in \u001b[0;36m<lambda>\u001b[0;34m(f, *a, **k)\u001b[0m\n\u001b[1;32m    185\u001b[0m     \u001b[0;31m# but it's overkill for just that one bit of state.\u001b[0m\u001b[0;34m\u001b[0m\u001b[0;34m\u001b[0m\u001b[0;34m\u001b[0m\u001b[0m\n\u001b[1;32m    186\u001b[0m     \u001b[0;32mdef\u001b[0m \u001b[0mmagic_deco\u001b[0m\u001b[0;34m(\u001b[0m\u001b[0marg\u001b[0m\u001b[0;34m)\u001b[0m\u001b[0;34m:\u001b[0m\u001b[0;34m\u001b[0m\u001b[0;34m\u001b[0m\u001b[0m\n\u001b[0;32m--> 187\u001b[0;31m         \u001b[0mcall\u001b[0m \u001b[0;34m=\u001b[0m \u001b[0;32mlambda\u001b[0m \u001b[0mf\u001b[0m\u001b[0;34m,\u001b[0m \u001b[0;34m*\u001b[0m\u001b[0ma\u001b[0m\u001b[0;34m,\u001b[0m \u001b[0;34m**\u001b[0m\u001b[0mk\u001b[0m\u001b[0;34m:\u001b[0m \u001b[0mf\u001b[0m\u001b[0;34m(\u001b[0m\u001b[0;34m*\u001b[0m\u001b[0ma\u001b[0m\u001b[0;34m,\u001b[0m \u001b[0;34m**\u001b[0m\u001b[0mk\u001b[0m\u001b[0;34m)\u001b[0m\u001b[0;34m\u001b[0m\u001b[0;34m\u001b[0m\u001b[0m\n\u001b[0m\u001b[1;32m    188\u001b[0m \u001b[0;34m\u001b[0m\u001b[0m\n\u001b[1;32m    189\u001b[0m         \u001b[0;32mif\u001b[0m \u001b[0mcallable\u001b[0m\u001b[0;34m(\u001b[0m\u001b[0marg\u001b[0m\u001b[0;34m)\u001b[0m\u001b[0;34m:\u001b[0m\u001b[0;34m\u001b[0m\u001b[0;34m\u001b[0m\u001b[0m\n",
      "\u001b[0;32m/home/ubuntu/anaconda3/lib/python3.7/site-packages/oct2py/ipython/octavemagic.py\u001b[0m in \u001b[0;36moctave\u001b[0;34m(self, line, cell, local_ns)\u001b[0m\n\u001b[1;32m    254\u001b[0m             \u001b[0mplot_dir\u001b[0m\u001b[0;34m=\u001b[0m\u001b[0mplot_dir\u001b[0m\u001b[0;34m,\u001b[0m \u001b[0mplot_width\u001b[0m\u001b[0;34m=\u001b[0m\u001b[0mwidth\u001b[0m\u001b[0;34m,\u001b[0m \u001b[0mplot_height\u001b[0m\u001b[0;34m=\u001b[0m\u001b[0mheight\u001b[0m\u001b[0;34m,\u001b[0m\u001b[0;34m\u001b[0m\u001b[0;34m\u001b[0m\u001b[0m\n\u001b[1;32m    255\u001b[0m             \u001b[0mplot_format\u001b[0m\u001b[0;34m=\u001b[0m\u001b[0margs\u001b[0m\u001b[0;34m.\u001b[0m\u001b[0mformat\u001b[0m\u001b[0;34m,\u001b[0m \u001b[0mplot_name\u001b[0m\u001b[0;34m=\u001b[0m\u001b[0;34m'__ipy_oct_fig_'\u001b[0m\u001b[0;34m,\u001b[0m\u001b[0;34m\u001b[0m\u001b[0;34m\u001b[0m\u001b[0m\n\u001b[0;32m--> 256\u001b[0;31m             resolution=args.resolution)\n\u001b[0m\u001b[1;32m    257\u001b[0m \u001b[0;34m\u001b[0m\u001b[0m\n\u001b[1;32m    258\u001b[0m         \u001b[0;31m# Publish output\u001b[0m\u001b[0;34m\u001b[0m\u001b[0;34m\u001b[0m\u001b[0;34m\u001b[0m\u001b[0m\n",
      "\u001b[0;32m/home/ubuntu/anaconda3/lib/python3.7/site-packages/oct2py/core.py\u001b[0m in \u001b[0;36meval\u001b[0;34m(self, cmds, verbose, timeout, stream_handler, temp_dir, plot_dir, plot_name, plot_format, plot_backend, plot_width, plot_height, plot_res, nout, **kwargs)\u001b[0m\n\u001b[1;32m    498\u001b[0m                               \u001b[0mplot_backend\u001b[0m\u001b[0;34m=\u001b[0m\u001b[0mplot_backend\u001b[0m\u001b[0;34m,\u001b[0m\u001b[0;34m\u001b[0m\u001b[0;34m\u001b[0m\u001b[0m\n\u001b[1;32m    499\u001b[0m                               \u001b[0mplot_width\u001b[0m\u001b[0;34m=\u001b[0m\u001b[0mplot_width\u001b[0m\u001b[0;34m,\u001b[0m \u001b[0mplot_height\u001b[0m\u001b[0;34m=\u001b[0m\u001b[0mplot_height\u001b[0m\u001b[0;34m,\u001b[0m\u001b[0;34m\u001b[0m\u001b[0;34m\u001b[0m\u001b[0m\n\u001b[0;32m--> 500\u001b[0;31m                               plot_res=plot_res)\n\u001b[0m\u001b[1;32m    501\u001b[0m             \u001b[0;32mif\u001b[0m \u001b[0mresp\u001b[0m \u001b[0;32mis\u001b[0m \u001b[0;32mnot\u001b[0m \u001b[0;32mNone\u001b[0m\u001b[0;34m:\u001b[0m\u001b[0;34m\u001b[0m\u001b[0;34m\u001b[0m\u001b[0m\n\u001b[1;32m    502\u001b[0m                 \u001b[0mans\u001b[0m \u001b[0;34m=\u001b[0m \u001b[0mresp\u001b[0m\u001b[0;34m\u001b[0m\u001b[0;34m\u001b[0m\u001b[0m\n",
      "\u001b[0;32m/home/ubuntu/anaconda3/lib/python3.7/site-packages/oct2py/core.py\u001b[0m in \u001b[0;36mfeval\u001b[0;34m(self, func_path, *func_args, **kwargs)\u001b[0m\n\u001b[1;32m    380\u001b[0m         return self._feval(func_name, func_args, dname=dname, nout=nout,\n\u001b[1;32m    381\u001b[0m                           \u001b[0mtimeout\u001b[0m\u001b[0;34m=\u001b[0m\u001b[0mtimeout\u001b[0m\u001b[0;34m,\u001b[0m \u001b[0mstream_handler\u001b[0m\u001b[0;34m=\u001b[0m\u001b[0mstream_handler\u001b[0m\u001b[0;34m,\u001b[0m\u001b[0;34m\u001b[0m\u001b[0;34m\u001b[0m\u001b[0m\n\u001b[0;32m--> 382\u001b[0;31m                           store_as=store_as, plot_dir=plot_dir)\n\u001b[0m\u001b[1;32m    383\u001b[0m \u001b[0;34m\u001b[0m\u001b[0m\n\u001b[1;32m    384\u001b[0m     def eval(self, cmds, verbose=True, timeout=None, stream_handler=None,\n",
      "\u001b[0;32m/home/ubuntu/anaconda3/lib/python3.7/site-packages/oct2py/core.py\u001b[0m in \u001b[0;36m_feval\u001b[0;34m(self, func_name, func_args, dname, nout, timeout, stream_handler, store_as, plot_dir)\u001b[0m\n\u001b[1;32m    580\u001b[0m         \u001b[0;32mif\u001b[0m \u001b[0mresp\u001b[0m\u001b[0;34m[\u001b[0m\u001b[0;34m'err'\u001b[0m\u001b[0;34m]\u001b[0m\u001b[0;34m:\u001b[0m\u001b[0;34m\u001b[0m\u001b[0;34m\u001b[0m\u001b[0m\n\u001b[1;32m    581\u001b[0m             \u001b[0mmsg\u001b[0m \u001b[0;34m=\u001b[0m \u001b[0mself\u001b[0m\u001b[0;34m.\u001b[0m\u001b[0m_parse_error\u001b[0m\u001b[0;34m(\u001b[0m\u001b[0mresp\u001b[0m\u001b[0;34m[\u001b[0m\u001b[0;34m'err'\u001b[0m\u001b[0;34m]\u001b[0m\u001b[0;34m)\u001b[0m\u001b[0;34m\u001b[0m\u001b[0;34m\u001b[0m\u001b[0m\n\u001b[0;32m--> 582\u001b[0;31m             \u001b[0;32mraise\u001b[0m \u001b[0mOct2PyError\u001b[0m\u001b[0;34m(\u001b[0m\u001b[0mmsg\u001b[0m\u001b[0;34m)\u001b[0m\u001b[0;34m\u001b[0m\u001b[0;34m\u001b[0m\u001b[0m\n\u001b[0m\u001b[1;32m    583\u001b[0m \u001b[0;34m\u001b[0m\u001b[0m\n\u001b[1;32m    584\u001b[0m         \u001b[0mresult\u001b[0m \u001b[0;34m=\u001b[0m \u001b[0mresp\u001b[0m\u001b[0;34m[\u001b[0m\u001b[0;34m'result'\u001b[0m\u001b[0;34m]\u001b[0m\u001b[0;34m.\u001b[0m\u001b[0mravel\u001b[0m\u001b[0;34m(\u001b[0m\u001b[0;34m)\u001b[0m\u001b[0;34m.\u001b[0m\u001b[0mtolist\u001b[0m\u001b[0;34m(\u001b[0m\u001b[0;34m)\u001b[0m\u001b[0;34m\u001b[0m\u001b[0;34m\u001b[0m\u001b[0m\n",
      "\u001b[0;31mOct2PyError\u001b[0m: Octave evaluation error:\nerror: DeterrenceFct(0,_): subscripts must be either integers 1 to (2^31)-1 or logicals"
     ]
    }
   ],
   "source": [
    "%%octave -i A,D,N,b -o dist,num,DeterrenceFct,normaDeterrence,matrixdistance,N,b\n",
    "\n",
    "addpath('/home/ubuntu/GenLouvain/')\n",
    "addpath('/home/ubuntu/GenLouvain/private/')\n",
    "\n",
    "number=size(A,1); %number of nodes in the system\n",
    "\n",
    "nbox=100; %number of bins, might need to increase it depending on your system and of level of coarse-graining\n",
    "\n",
    "% intialisation of different vectors and matrices\n",
    "DeterrenceFct=zeros(nbox,1);\n",
    "normaDeterrence=zeros(nbox,1);\n",
    "matrixdistance=zeros(number,number);\n",
    "nullmodelGN=zeros(number,number);\n",
    "nullmodelSpa=zeros(number,number);\n",
    "\n",
    "A=A+A'; %symmetrised matrix (doesn't change the outcome of community detection (arXiv:0812.1770))\n",
    "degree=sum(A); % degree/strength of the nodes\n",
    "disp('degree')\n",
    "disp(degree)\n",
    "nullN=N*N'; % matrix of the importance of nodes\n",
    "matrix=A./nullN; % normalised adjacency matrix\n",
    "\n",
    "% We first calculate the correlations as a function of distance\n",
    "\n",
    "i=number\n",
    "ii=number\n",
    "\n",
    "% convert distances in binsize's units\n",
    "dist=1+ceil(D(i,ii)/b); \n",
    "matrixdistance(i,ii)=dist;\n",
    "\n",
    "% weighted average for the deterrence function\n",
    "num=matrix(i,ii);\n",
    "DeterrenceFct(dist,1)=DeterrenceFct(dist,1)+num*N(i,1)*N(ii,1); %%%%% csak 1-től 10-ig van benne szám, 0 és 11+-ban nincs HIBA??\n",
    "normaDeterrence(dist,1)=normaDeterrence(dist,1)%+N(i,1)*N(ii,1); %%%% HIBA\n",
    "\n",
    "disp('bent')\n",
    "% normalisation of the deterrence function\n",
    "for i=1:nbox\n",
    "    disp('bent_2')\n",
    "    if(normaDeterrence(i,1)~=0)\n",
    "        DeterrenceFct(i,1)=DeterrenceFct(i,1)/normaDeterrence(i,1);\n",
    "    end\n",
    "end\n",
    "\n",
    "% copmutation of the randomised correlations (preserving space), spatial\n",
    "% null-model\n",
    "for i=1:number\n",
    "    for ii=1:number\n",
    "        nullmodelSpa(i,ii)=DeterrenceFct(matrixdistance(i,ii),1);\n",
    "    end \n",
    "end\n",
    "\n",
    "% the modularity matrix for the spatial null-model\n",
    "ModularitySpa=A-nullN.*nullmodelSpa*sum(sum(Flow))/sum(sum(nullN.*nullmodelSpa));\n",
    "\n",
    "% the modularity matrix for the GN null-model\n",
    "nullmodelGN=degree'*degree/(sum(degree)); % Newman-Girvan null-model\n",
    "ModularityGN=A-nullmodelGN"
   ]
  },
  {
   "cell_type": "markdown",
   "metadata": {},
   "source": [
    "Ide jon alulra a Python code"
   ]
  },
  {
   "cell_type": "code",
   "execution_count": 316,
   "metadata": {},
   "outputs": [],
   "source": [
    "def SpaMod(A,D,N,b): # flow - adjacency matrix\n",
    "    number=A.shape[0]\n",
    "    nbox = 100 ## MODIFIED\n",
    "    DeterrenceFct=np.zeros((nbox,1));\n",
    "    normaDeterrence=np.zeros((nbox,1));\n",
    "    matrixdistance=np.zeros((number,number));\n",
    "    nullmodelGN=np.zeros((number,number));\n",
    "    nullmodelSpa=np.zeros((number,number));  \n",
    "    A = A + A.T # felesleges?? KERDES\n",
    "    \n",
    "    degree = np.squeeze(np.asarray(A.sum(axis=0))) # asarry for further usage\n",
    "    nullN = N * N.T\n",
    "    # matrix = np.divide(A.T,nullN) ## KERDESES, HOGY JO-e\n",
    "    matrix = A/nullN    \n",
    "\n",
    "    for i in range(number):\n",
    "        for ii in range(number):\n",
    "            # convert distances in binsize's units\n",
    "            dist = math.ceil(D[i,ii]/b); ##KERDES - elvettem belőle a +1-et, jó ez így??\n",
    "            matrixdistance[i,ii]=dist;\n",
    "\n",
    "            # weighted average for the deterrence function\n",
    "            num = matrix[i,ii];\n",
    "            DeterrenceFct[dist,0]=DeterrenceFct[dist,0]+num*N[i,0]*N[ii,0]; ## KERDES deterence a matrix??, []-kell??\n",
    "\n",
    "\n",
    "    # normalisation of the deterrence function - NINCS ELLENŐRIZVE EZ A CIKLUS\n",
    "    for i in range(nbox):\n",
    "        if(normaDeterrence[i,0]!=0):\n",
    "            DeterrenceFct[i,0]=DeterrenceFct[i,0]/normaDeterrence[i,0];\n",
    "\n",
    "    print(\"Done.\")\n",
    "    \n",
    "    print(\"Null modell...\")\n",
    "    # copmutation of the randomised correlations (preserving space), spatial\n",
    "    # null-model\n",
    "    for i in range(number):\n",
    "        for ii in range(number):\n",
    "            nullmodelSpa[i,ii]=DeterrenceFct[matrixdistance[i,ii].astype(int),0];\n",
    "    print(\"Done.\")\n",
    "    \n",
    "    print(\"Modularity calc...\")\n",
    "    # the modularity matrix for the spatial null-model\n",
    "    ModularitySpa=A-np.multiply(nullN, nullmodelSpa*A.sum()/np.multiply(nullN,nullmodelSpa).sum());\n",
    "    \n",
    "    # the modularity matrix for the GN null-model\n",
    "    print(type(degree))\n",
    "    nullmodelGN = degree*degree/(sum(degree)); # Newman-Girvan null-model\n",
    "    ModularityGN=A-nullmodelGN;\n",
    "    print(\"Done.\")\n",
    "    return(ModularitySpa,ModularityGN)"
   ]
  },
  {
   "cell_type": "code",
   "execution_count": 317,
   "metadata": {
    "scrolled": false
   },
   "outputs": [
    {
     "name": "stdout",
     "output_type": "stream",
     "text": [
      "Done.\n",
      "Null modell...\n",
      "Done.\n",
      "Modularity calc...\n",
      "<class 'numpy.ndarray'>\n",
      "Done.\n"
     ]
    }
   ],
   "source": [
    "SpaMod(A,D,N,b)"
   ]
  },
  {
   "cell_type": "code",
   "execution_count": 50,
   "metadata": {},
   "outputs": [
    {
     "data": {
      "text/plain": [
       "True"
      ]
     },
     "execution_count": 50,
     "metadata": {},
     "output_type": "execute_result"
    }
   ],
   "source": [
    "1!=2"
   ]
  },
  {
   "cell_type": "code",
   "execution_count": 24,
   "metadata": {},
   "outputs": [],
   "source": [
    "A = A + A.T "
   ]
  },
  {
   "cell_type": "code",
   "execution_count": 44,
   "metadata": {},
   "outputs": [
    {
     "data": {
      "text/plain": [
       "matrix([[2, 1]])"
      ]
     },
     "execution_count": 44,
     "metadata": {},
     "output_type": "execute_result"
    }
   ],
   "source": [
    "np.matrix([2,1])"
   ]
  },
  {
   "cell_type": "code",
   "execution_count": 158,
   "metadata": {},
   "outputs": [
    {
     "data": {
      "text/plain": [
       "matrix([[1, 2, 3],\n",
       "        [1, 2, 4]])"
      ]
     },
     "execution_count": 158,
     "metadata": {},
     "output_type": "execute_result"
    }
   ],
   "source": [
    "B = np.matrix([[1,2,3],[1,2,4]])\n",
    "B"
   ]
  },
  {
   "cell_type": "code",
   "execution_count": 57,
   "metadata": {},
   "outputs": [
    {
     "data": {
      "text/plain": [
       "matrix([[1. , 3. , 6. ],\n",
       "        [0.5, 0.2, 0.1]])"
      ]
     },
     "execution_count": 57,
     "metadata": {},
     "output_type": "execute_result"
    }
   ],
   "source": [
    "C = np.matrix([[1,3,6],[0.5,0.2,0.1]])\n",
    "C"
   ]
  },
  {
   "cell_type": "code",
   "execution_count": 309,
   "metadata": {},
   "outputs": [
    {
     "data": {
      "text/plain": [
       "matrix([[99,  2,  3],\n",
       "        [ 1,  2,  4]])"
      ]
     },
     "execution_count": 309,
     "metadata": {},
     "output_type": "execute_result"
    }
   ],
   "source": [
    "B"
   ]
  },
  {
   "cell_type": "code",
   "execution_count": 308,
   "metadata": {},
   "outputs": [
    {
     "data": {
      "text/plain": [
       "matrix([[100,   4,   7]])"
      ]
     },
     "execution_count": 308,
     "metadata": {},
     "output_type": "execute_result"
    }
   ],
   "source": [
    "SUM=B.sum(axis=0)\n",
    "SUM"
   ]
  },
  {
   "cell_type": "code",
   "execution_count": 315,
   "metadata": {},
   "outputs": [
    {
     "data": {
      "text/plain": [
       "100"
      ]
     },
     "execution_count": 315,
     "metadata": {},
     "output_type": "execute_result"
    }
   ],
   "source": [
    "F = np.asarray(SUM)\n",
    "F_2 = np.squeeze(F)\n",
    "F_2[0]"
   ]
  },
  {
   "cell_type": "code",
   "execution_count": 53,
   "metadata": {},
   "outputs": [
    {
     "data": {
      "text/plain": [
       "13"
      ]
     },
     "execution_count": 53,
     "metadata": {},
     "output_type": "execute_result"
    }
   ],
   "source": [
    "B.sum()"
   ]
  },
  {
   "cell_type": "code",
   "execution_count": 55,
   "metadata": {},
   "outputs": [
    {
     "data": {
      "text/plain": [
       "matrix([[ 1. ,  6. , 18. ],\n",
       "        [ 0.5,  0.4,  0.4]])"
      ]
     },
     "execution_count": 55,
     "metadata": {},
     "output_type": "execute_result"
    }
   ],
   "source": [
    "np.multiply(B,C)"
   ]
  },
  {
   "cell_type": "code",
   "execution_count": 59,
   "metadata": {},
   "outputs": [
    {
     "data": {
      "text/plain": [
       "matrix([[ 0. , -1. , -3. ],\n",
       "        [ 0.5,  1.8,  3.9]])"
      ]
     },
     "execution_count": 59,
     "metadata": {},
     "output_type": "execute_result"
    }
   ],
   "source": [
    "B-C"
   ]
  },
  {
   "cell_type": "code",
   "execution_count": null,
   "metadata": {},
   "outputs": [],
   "source": []
  },
  {
   "cell_type": "code",
   "execution_count": null,
   "metadata": {},
   "outputs": [],
   "source": []
  },
  {
   "cell_type": "code",
   "execution_count": null,
   "metadata": {},
   "outputs": [],
   "source": [
    "%%octave -i A,D,N,b -o Ms,Mg,Dfn,S,Q,n_it,N\n",
    "\n",
    "\n",
    "% Flow,Dist,N,binsize - kellenek valami pofonegyszeru bemeneti adatok!\n",
    "\n",
    "disp(\"Beginning of modularity function...\");\n",
    "\n",
    "number=size(Flow,1); %number of nodes in the system\n",
    "\n",
    "nbox=2000; %number of bins, might need to increase it depending on your system and of level of coarse-graining\n",
    "\n",
    "% intialisation of different vectors and matrices\n",
    "DeterrenceFct=zeros(nbox,1);\n",
    "normaDeterrence=zeros(nbox,1);\n",
    "matrixdistance=zeros(number,number);\n",
    "nullmodelGN=zeros(number,number);\n",
    "nullmodelSpa=zeros(number,number);\n",
    "Flow=Flow+Flow'; %symmetrised matrix (doesn't change the outcome of community detection (arXiv:0812.1770))\n",
    "degree=sum(Flow); % degree/strength of the nodes\n",
    "nullN=N*N'; % matrix of the importance of nodes\n",
    "matrix=Flow./nullN; % normalised adjacency matrix\n",
    "\n",
    "disp(\"Preparation done.\")\n",
    "\n",
    "disp(\"Deterrence function...\")\n",
    "\n",
    "%We first calculate the correlations as a function of distance\n",
    "\n",
    "KERDES\n",
    "for i=1:number\n",
    "    disp(i)\n",
    "    for ii=1:number\n",
    "    \n",
    "    % convert distances in binsize's units\n",
    "    dist=1+ceil(Dist(i,ii)/binsize); \n",
    "    matrixdistance(i,ii)=dist;\n",
    "\n",
    "    % weighted average for the deterrence function\n",
    "    num=matrix(i,ii);\n",
    "    DeterrenceFct(dist,1)=DeterrenceFct(dist,1)+num*N(i,1)*N(ii,1);\n",
    "    normaDeterrence(dist,1)=normaDeterrence(dist,1)+N(i,1)*N(ii,1);\n",
    "    end\n",
    "    disp(\"Done.\")\n",
    "disp(\"Normalization...\")\n",
    "% normalisation of the deterrence function\n",
    "for i=1:nbox\n",
    "    disp(i)\n",
    "    if(normaDeterrence(i,1)~=0)\n",
    "        DeterrenceFct(i,1)=DeterrenceFct(i,1)/normaDeterrence(i,1);\n",
    "    end\n",
    "end\n",
    "\n",
    "disp(\"Done.\")\n",
    "\n",
    "disp(\"Null modell...\")\n",
    "\n",
    "% copmutation of the randomised correlations (preserving space), spatial\n",
    "% null-model\n",
    "for i=1:number\n",
    "    for ii=1:number\n",
    "        nullmodelSpa(i,ii)=DeterrenceFct(matrixdistance(i,ii),1);\n",
    "    end \n",
    "end\n",
    "\n",
    "disp(\"Done.\")\n",
    "\n",
    "disp(\"Modularity calc...\")\n",
    "% the modularity matrix for the spatial null-model\n",
    "ModularitySpa=Flow-nullN.*nullmodelSpa*sum(sum(Flow))/sum(sum(nullN.*nullmodelSpa));\n",
    "\n",
    "% the modularity matrix for the GN null-model\n",
    "nullmodelGN=degree'*degree/(sum(degree)); % Newman-Girvan null-model\n",
    "ModularityGN=Flow-nullmodelGN;\n",
    "disp(\"Done.\")"
   ]
  },
  {
   "cell_type": "code",
   "execution_count": 131,
   "metadata": {},
   "outputs": [],
   "source": [
    "%%octave -i A,D,N,b -o number,DeterrenceFct,normaDeterrence,matrixdistance,nullmodelGN,nullmodelSpa\n",
    "\n",
    "addpath('/home/ubuntu/GenLouvain/')\n",
    "addpath('/home/ubuntu/GenLouvain/private/')\n",
    "\n",
    "function [number,DeterrenceFct,normaDeterrence,matrixdistance,nullmodelGN,nullmodelSpa]=ModularitySpaGN(A,Dist,N,binsize)\n",
    "\n",
    "    % Flow: Adjacency matrix REPLACE --> A\n",
    "    % Dist: Distance matrix between the nodes\n",
    "    % N: a measure of the importance of a node (by default its strength: Dist=sum(Flow,1); for example)\n",
    "    % binsize: size of the bins in the estimation of the deterrence function\n",
    "    % (has to be tuned according to the problem)\n",
    "\n",
    "    disp(size(A,1))\n",
    "    number=size(A,1); %number of nodes in the system\n",
    "    \n",
    "\n",
    "    nbox=2000; %number of bins, might need to increase it depending on your system and of level of coarse-graining\n",
    "\n",
    "    % intialisation of different vectors and matrices\n",
    "    DeterrenceFct=zeros(nbox,1);\n",
    "    normaDeterrence=zeros(nbox,1);\n",
    "\n",
    "    matrixdistance=zeros(number,number);\n",
    "    nullmodelGN=zeros(number,number);\n",
    "    nullmodelSpa=zeros(number,number);\n",
    "endfunction"
   ]
  },
  {
   "cell_type": "code",
   "execution_count": null,
   "metadata": {},
   "outputs": [],
   "source": [
    "    Flow=Flow+Flow'; %symmetrised matrix (doesn't change the outcome of community detection (arXiv:0812.1770))\n",
    "    degree=sum(Flow); % degree/strength of the nodes\n",
    "    nullN=N*N'; % matrix of the importance of nodes\n",
    "    matrix=Flow./nullN; % normalised adjacency matrix\n",
    "\n",
    "    %We first calculate the correlations as a function of distance\n",
    "\n",
    "    for i=1:number\n",
    "        for ii=1:number\n",
    "\n",
    "        % convert distances in binsize's units\n",
    "        dist=1+ceil(Dist(i,ii)/binsize); \n",
    "        matrixdistance(i,ii)=dist;\n",
    "\n",
    "        % weighted average for the deterrence function\n",
    "        num=matrix(i,ii);\n",
    "        DeterrenceFct(dist,1)=DeterrenceFct(dist,1)+num*N(i,1)*N(ii,1);\n",
    "        normaDeterrence(dist,1)=normaDeterrence(dist,1)+N(i,1)*N(ii,1);\n",
    "        end \n",
    "    end\n",
    "\n",
    "    % normalisation of the deterrence function\n",
    "    for i=1:nbox\n",
    "        if(normaDeterrence(i,1)~=0)\n",
    "            DeterrenceFct(i,1)=DeterrenceFct(i,1)/normaDeterrence(i,1);\n",
    "        end\n",
    "    end\n",
    "\n",
    "    % copmutation of the randomised correlations (preserving space), spatial\n",
    "    % null-model\n",
    "    for i=1:number\n",
    "        for ii=1:number\n",
    "            nullmodelSpa(i,ii)=DeterrenceFct(matrixdistance(i,ii),1);\n",
    "        end \n",
    "    end\n",
    "\n",
    "    % the modularity matrix for the spatial null-model\n",
    "    ModularitySpa=Flow-nullN.*nullmodelSpa*sum(sum(Flow))/sum(sum(nullN.*nullmodelSpa));\n",
    "\n",
    "    % the modularity matrix for the GN null-model\n",
    "    nullmodelGN=degree'*degree/(sum(degree)); % Newman-Girvan null-model\n",
    "    ModularityGN=Flow-nullmodelGN;\n",
    "endfunction\n",
    "\n",
    "\n",
    "[Ms,Mg,Dfn] = ModularitySpaGN(A,D,N,b);\n",
    "[S,Q,n_it] = iterated_genlouvain(Mg);"
   ]
  },
  {
   "cell_type": "code",
   "execution_count": null,
   "metadata": {},
   "outputs": [],
   "source": [
    "%%octave -i A,D,N,b -o number, normaDeterrence\n",
    "\n",
    "addpath('/home/ubuntu/GenLouvain/')\n",
    "addpath('/home/ubuntu/GenLouvain/private/')\n",
    "\n",
    "number=size(A,1); %number of nodes in the system\n",
    "\n",
    "nbox=2000; %number of bins, might need to increase it depending on your system and of level of coarse-graining\n",
    "\n",
    "% intialisation of different vectors and matrices\n",
    "DeterrenceFct=zeros(nbox,1);\n",
    "normaDeterrence=zeros(nbox,1);"
   ]
  },
  {
   "cell_type": "code",
   "execution_count": null,
   "metadata": {},
   "outputs": [],
   "source": [
    "%%octave -i A,D,N,b -o Ms,Mg,Dfn,S,Q,n_it,N\n",
    "\n",
    "addpath('/home/ubuntu/GenLouvain/')\n",
    "addpath('/home/ubuntu/GenLouvain/private/')\n",
    "\n",
    "function [ModularitySpa,ModularityGN,DeterrenceFct]=ModularitySpaGN(Flow,Dist,N,binsize)\n",
    "\n",
    "    % Flow: Adjacency matrix\n",
    "    % Dist: Distance matrix between the nodes\n",
    "    % N: a measure of the importance of a node (by default its strength: Dist=sum(Flow,1); for example)\n",
    "    % binsize: size of the bins in the estimation of the deterrence function\n",
    "    % (has to be tuned according to the problem)\n",
    "\n",
    "    number=size(Flow,1); %number of nodes in the system\n",
    "    disp('number:')\n",
    "    disp(number)\n",
    "\n",
    "    nbox=100; %number of bins, might need to increase it depending on your system and of level of coarse-graining\n",
    "\n",
    "    % intialisation of different vectors and matrices\n",
    "    DeterrenceFct=zeros(nbox,1);\n",
    "    % disp('DeterrenceFct')\n",
    "    % disp(DeterrenceFct)\n",
    "    normaDeterrence=zeros(nbox,1);\n",
    "    % disp('normaDeterrence')\n",
    "    % disp(normaDeterrence)\n",
    "\n",
    "    matrixdistance=zeros(number,number);\n",
    "    % disp('matrixdistance')\n",
    "    % disp(matrixdistance)\n",
    "    nullmodelGN=zeros(number,number);\n",
    "    % disp('nullmodelGN')\n",
    "    % disp(nullmodelGN)\n",
    "    nullmodelSpa=zeros(number,number);\n",
    "    % disp('nullmodelSpa')\n",
    "    % disp(nullmodelSpa)\n",
    "\n",
    "    % INNEN NEM MEGY!!!\n",
    "    disp(Flow)\n",
    "    Flow=Flow+Flow'; %symmetrised matrix (doesn't change the outcome of community detection (arXiv:0812.1770))\n",
    "    disp('Flow')\n",
    "    disp(Flow)\n",
    "\n",
    "   \n",
    "    degree=sum(Flow); % degree/strength of the nodes\n",
    "    nullN=N*N'; % matrix of the importance of nodes\n",
    "    matrix=Flow./nullN; % normalised adjacency matrix\n",
    "\n",
    "    %We first calculate the correlations as a function of distance\n",
    "\n",
    "    for i=1:number\n",
    "        for ii=1:number\n",
    "\n",
    "        % convert distances in binsize's units\n",
    "        dist=1+% ceil(Dist(i,ii)/binsize); \n",
    "        matrixdistance(i,ii)=dist;\n",
    "\n",
    "        % weighted average for the deterrence function\n",
    "        num=matrix[i][ii];\n",
    "        DeterrenceFct(dist,1)=DeterrenceFct(dist,1)+num*N(i,1)*N(ii,1);\n",
    "        normaDeterrence(dist,1)=normaDeterrence(dist,1)+N(i,1)*N(ii,1);\n",
    "        end \n",
    "    end\n",
    "\n",
    "    % normalisation of the deterrence function\n",
    "    for i=1:nbox\n",
    "        if(normaDeterrence(i,1)~=0)\n",
    "            DeterrenceFct(i,1)=DeterrenceFct(i,1)/normaDeterrence(i,1);\n",
    "        end\n",
    "    end\n",
    "\n",
    "    % copmutation of the randomised correlations (preserving space), spatial\n",
    "    % null-model\n",
    "    for i=1:number\n",
    "        for ii=1:number\n",
    "            nullmodelSpa(i,ii)=DeterrenceFct(matrixdistance(i,ii),1);\n",
    "        end \n",
    "    end\n",
    "\n",
    "    % the modularity matrix for the spatial null-model\n",
    "    ModularitySpa=Flow-nullN.*nullmodelSpa*sum(sum(Flow))/sum(sum(nullN.*nullmodelSpa));\n",
    "\n",
    "    % the modularity matrix for the GN null-model\n",
    "    nullmodelGN=degree'*degree/(sum(degree)); % Newman-Girvan null-model\n",
    "    ModularityGN=Flow-nullmodelGN;\n",
    "endfunction\n",
    "\n",
    "\n",
    "[Ms,Mg,Dfn] = ModularitySpaGN(A,D,N,b);\n",
    "[S,Q,n_it] = iterated_genlouvain(Mg);"
   ]
  }
 ],
 "metadata": {
  "kernelspec": {
   "display_name": "Python 3",
   "language": "python",
   "name": "python3"
  },
  "language_info": {
   "codemirror_mode": {
    "name": "ipython",
    "version": 3
   },
   "file_extension": ".py",
   "mimetype": "text/x-python",
   "name": "python",
   "nbconvert_exporter": "python",
   "pygments_lexer": "ipython3",
   "version": "3.7.2"
  }
 },
 "nbformat": 4,
 "nbformat_minor": 2
}
