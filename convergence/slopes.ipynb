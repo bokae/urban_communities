{
 "cells": [
  {
   "cell_type": "code",
   "execution_count": 13,
   "metadata": {},
   "outputs": [],
   "source": [
    "import pandas as pd\n",
    "import numpy as np\n",
    "import matplotlib.pyplot as plt\n",
    "from scipy.optimize import curve_fit"
   ]
  },
  {
   "cell_type": "code",
   "execution_count": 14,
   "metadata": {},
   "outputs": [],
   "source": [
    "def f(x,a,b):\n",
    "    \"\"\"\n",
    "    Linear function to fit.\n",
    "    \"\"\"\n",
    "    return a*x+b"
   ]
  },
  {
   "cell_type": "code",
   "execution_count": 2,
   "metadata": {},
   "outputs": [],
   "source": [
    "plt.rcParams[\"font.size\"] = 14\n",
    "plt.rcParams[\"figure.figsize\"] = 10,7\n",
    "plt.rcParams[\"figure.facecolor\"] = \"white\""
   ]
  },
  {
   "cell_type": "code",
   "execution_count": 3,
   "metadata": {},
   "outputs": [],
   "source": [
    "df = pd.read_csv(\"../data/convergence_sigma_long.csv\")"
   ]
  },
  {
   "cell_type": "code",
   "execution_count": 30,
   "metadata": {},
   "outputs": [],
   "source": [
    "# creating unique ids for each community appending city id and community number\n",
    "df[\"mgn_id\"] = df[\"city\"] + \"_\" + df[\"s_mgn\"].map(str)\n",
    "df[\"ms_id\"] = df[\"city\"] + \"_\" + df[\"s_ms\"].map(str)"
   ]
  },
  {
   "cell_type": "code",
   "execution_count": 51,
   "metadata": {},
   "outputs": [],
   "source": [
    "def get_coeff(l):\n",
    "    \"\"\"\n",
    "    Given a list of values, and supposing that they are given for subsequent years,\n",
    "    fit linear function on values and return slope and slope error.\n",
    "    \"\"\"\n",
    "    p,pcov = curve_fit(f,range(len(l)),l)\n",
    "    return p[0],np.sqrt(pcov[0,0])"
   ]
  },
  {
   "cell_type": "code",
   "execution_count": 32,
   "metadata": {},
   "outputs": [],
   "source": [
    "# three different spatial aggregations\n",
    "pairs = [\n",
    "    (\"county_id\",\"cv_income_county\"),\n",
    "    (\"mgn_id\", \"cv_income_mgn\"),\n",
    "    (\"ms_id\", \"cv_income_ms\")\n",
    "]"
   ]
  },
  {
   "cell_type": "code",
   "execution_count": 81,
   "metadata": {},
   "outputs": [],
   "source": [
    "results = {}\n",
    "\n",
    "# threshold for the relative error on the slope\n",
    "threshold = 0.05\n",
    "\n",
    "for level,cv_col in pairs:\n",
    "    # calculate slope for all units and store result in a dict\n",
    "    # only store if the relative error of the fit of the slope is smaller than the threshold\n",
    "    results[level] = df\\\n",
    "        .groupby([level,\"year\"])\\\n",
    "        [[cv_col]]\\\n",
    "        .first()\\\n",
    "        .dropna()\\\n",
    "        .reset_index()\\\n",
    "        .groupby([level])\\\n",
    "        [cv_col]\\\n",
    "        .agg(lambda x: list(x))\\\n",
    "        .map(lambda l: get_coeff(l)[0] if get_coeff(l)[1]/get_coeff(l)[0]<threshold else None)\\\n",
    "        .dropna()\\\n",
    "        .to_dict()"
   ]
  },
  {
   "cell_type": "code",
   "execution_count": 82,
   "metadata": {},
   "outputs": [
    {
     "data": {
      "text/plain": [
       "Text(0, 0.5, 'PDF of slopes')"
      ]
     },
     "execution_count": 82,
     "metadata": {},
     "output_type": "execute_result"
    },
    {
     "data": {
      "image/png": "[encoded data removed]",
      "text/plain": [
       "<Figure size 720x504 with 1 Axes>"
      ]
     },
     "metadata": {},
     "output_type": "display_data"
    }
   ],
   "source": [
    "# plot distributions of slopes\n",
    "plt.figure()\n",
    "for level in results:\n",
    "    y,x = np.histogram([v for k,v in results[level].items()],range=(-0.08,0.04),bins=20,density=True)\n",
    "    plt.fill_between(x[:-1],y,label=level,lw=2,alpha=0.4)\n",
    "plt.legend()\n",
    "plt.xlabel(\"Slope\")\n",
    "plt.ylabel(\"PDF of slopes\")"
   ]
  },
  {
   "cell_type": "code",
   "execution_count": 66,
   "metadata": {},
   "outputs": [],
   "source": [
    "def plot_elem(index=0,pair_index=0):\n",
    "    \"\"\"\n",
    "    Interactive plotting of the fits.\n",
    "    Pair index selects which grouping to use.\n",
    "    Index goes through unique counties / communities.\n",
    "    \"\"\"\n",
    "    level, cv_col = pairs[pair_index]    \n",
    "    temp = df\\\n",
    "        .groupby([level,\"year\"])\\\n",
    "        [[cv_col]]\\\n",
    "        .first()\\\n",
    "        .dropna()\\\n",
    "        .reset_index()\\\n",
    "        .groupby([level])\\\n",
    "        [[cv_col,\"year\"]]\\\n",
    "        .agg(lambda x: list(x)).iloc[index,:]\n",
    "    plt.plot(temp[\"year\"],temp[cv_col],'bo')\n",
    "    p,pcov = curve_fit(f,temp[\"year\"],temp[cv_col])\n",
    "    plt.plot(temp[\"year\"],f(np.array(temp[\"year\"]),*p),'r-',lw=2)\n",
    "    plt.title(level + \" \" + str(temp.name))\n",
    "    plt.xlabel(\"Year\")\n",
    "    plt.ylabel(cv_col)"
   ]
  },
  {
   "cell_type": "code",
   "execution_count": 75,
   "metadata": {},
   "outputs": [],
   "source": [
    "from ipywidgets import interactive,IntSlider"
   ]
  },
  {
   "cell_type": "code",
   "execution_count": 77,
   "metadata": {},
   "outputs": [
    {
     "data": {
      "application/vnd.jupyter.widget-view+json": {
       "model_id": "c74038b74c5843698b346f41e982901e",
       "version_major": 2,
       "version_minor": 0
      },
      "text/plain": [
       "interactive(children=(IntSlider(value=0, description='index', max=500), Dropdown(description='pair_index', opt…"
      ]
     },
     "metadata": {},
     "output_type": "display_data"
    }
   ],
   "source": [
    "interactive(plot_elem,index=IntSlider(0,0,500),pair_index=[0,1,2])"
   ]
  },
  {
   "cell_type": "code",
   "execution_count": null,
   "metadata": {},
   "outputs": [],
   "source": []
  }
 ],
 "metadata": {
  "kernelspec": {
   "display_name": "Python 3 (ipykernel)",
   "language": "python",
   "name": "python3"
  },
  "language_info": {
   "codemirror_mode": {
    "name": "ipython",
    "version": 3
   },
   "file_extension": ".py",
   "mimetype": "text/x-python",
   "name": "python",
   "nbconvert_exporter": "python",
   "pygments_lexer": "ipython3",
   "version": "3.8.12"
  }
 },
 "nbformat": 4,
 "nbformat_minor": 2
}
